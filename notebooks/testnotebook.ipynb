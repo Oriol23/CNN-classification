{
 "cells": [
  {
   "cell_type": "code",
   "execution_count": 1,
   "id": "47f9bc35",
   "metadata": {},
   "outputs": [
    {
     "name": "stdout",
     "output_type": "stream",
     "text": [
      "['c:\\\\Users\\\\oriol\\\\GitHub_Repos\\\\CNN-classification', 'c:\\\\Users\\\\oriol\\\\GitHub_Repos\\\\CNN-classification\\\\utils', 'c:\\\\Users\\\\oriol\\\\anaconda3\\\\envs\\\\pytorch_cu126\\\\python312.zip', 'c:\\\\Users\\\\oriol\\\\anaconda3\\\\envs\\\\pytorch_cu126\\\\DLLs', 'c:\\\\Users\\\\oriol\\\\anaconda3\\\\envs\\\\pytorch_cu126\\\\Lib', 'c:\\\\Users\\\\oriol\\\\anaconda3\\\\envs\\\\pytorch_cu126', '', 'c:\\\\Users\\\\oriol\\\\anaconda3\\\\envs\\\\pytorch_cu126\\\\Lib\\\\site-packages', 'c:\\\\Users\\\\oriol\\\\anaconda3\\\\envs\\\\pytorch_cu126\\\\Lib\\\\site-packages\\\\win32', 'c:\\\\Users\\\\oriol\\\\anaconda3\\\\envs\\\\pytorch_cu126\\\\Lib\\\\site-packages\\\\win32\\\\lib', 'c:\\\\Users\\\\oriol\\\\anaconda3\\\\envs\\\\pytorch_cu126\\\\Lib\\\\site-packages\\\\Pythonwin']\n"
     ]
    }
   ],
   "source": [
    "import sys\n",
    "from pathlib import Path \n",
    "from torchvision.transforms import v2\n",
    "import torch\n",
    "import matplotlib.pyplot as plt\n",
    "modulepath = Path.cwd().parent / \"utils\"\n",
    "modulepath = str(modulepath)\n",
    "projectpath = Path.cwd().parent\n",
    "projectpath = str(projectpath)\n",
    "if modulepath not in sys.path:\n",
    "    sys.path.insert(0,str(modulepath))\n",
    "if projectpath not in sys.path:\n",
    "    sys.path.insert(0,str(projectpath))  \n",
    "print(sys.path)\n"
   ]
  },
  {
   "cell_type": "code",
   "execution_count": 2,
   "id": "f1c23cb1",
   "metadata": {},
   "outputs": [],
   "source": [
    "from utils.data_loaders import create_train_test_dataloaders\n",
    "transform = v2.Compose([v2.RandomCrop(size=(20, 20))])#,v2.ToImage(), v2.ToDtype(torch.float32, scale=True)])\n"
   ]
  },
  {
   "cell_type": "code",
   "execution_count": 3,
   "id": "08b8a80d",
   "metadata": {},
   "outputs": [],
   "source": [
    "train_basic,test_basic = create_train_test_dataloaders(\"FashionMNIST\")\n",
    "train_augmented,test_augmented = create_train_test_dataloaders(\"FashionMNIST\",transform=transform)\n",
    "img_basic,label_basic = next(iter(train_basic))\n",
    "img_augmented,label_augmented = next(iter(train_augmented))"
   ]
  },
  {
   "cell_type": "code",
   "execution_count": 4,
   "id": "f0b33942",
   "metadata": {},
   "outputs": [
    {
     "data": {
      "text/plain": [
       "(np.float64(-0.5), np.float64(19.5), np.float64(19.5), np.float64(-0.5))"
      ]
     },
     "execution_count": 4,
     "metadata": {},
     "output_type": "execute_result"
    },
    {
     "data": {
      "image/png": "[encoded data removed]",
      "text/plain": [
       "<Figure size 640x480 with 2 Axes>"
      ]
     },
     "metadata": {},
     "output_type": "display_data"
    }
   ],
   "source": [
    "fig,ax = plt.subplots(1,2)\n",
    "ax[0].imshow(img_basic[0].permute(1,2,0),cmap=\"gray\")\n",
    "ax[1].imshow(img_augmented[0].permute(1,2,0),cmap=\"gray\")\n",
    "ax[0].axis(False)\n",
    "ax[1].axis(False)"
   ]
  },
  {
   "cell_type": "code",
   "execution_count": 5,
   "id": "dfe83b31",
   "metadata": {},
   "outputs": [
    {
     "data": {
      "text/plain": [
       "torch.Size([32, 1, 28, 28])"
      ]
     },
     "execution_count": 5,
     "metadata": {},
     "output_type": "execute_result"
    }
   ],
   "source": [
    "img_basic.shape"
   ]
  },
  {
   "cell_type": "code",
   "execution_count": null,
   "id": "a1b73328",
   "metadata": {},
   "outputs": [],
   "source": [
    "from utils.model_architectures import TinyVGG_1\n",
    "from torchinfo import summary \n",
    "\n",
    "tvgg = TinyVGG_1(1,20,10)"
   ]
  },
  {
   "cell_type": "code",
   "execution_count": 7,
   "id": "68c2326d",
   "metadata": {},
   "outputs": [
    {
     "data": {
      "text/plain": [
       "==========================================================================================\n",
       "Layer (type:depth-idx)                   Output Shape              Param #\n",
       "==========================================================================================\n",
       "TinyVGG                                  [32, 10]                  --\n",
       "├─Sequential: 1-1                        [32, 20, 12, 12]          --\n",
       "│    └─Conv2d: 2-1                       [32, 20, 26, 26]          200\n",
       "│    └─ReLU: 2-2                         [32, 20, 26, 26]          --\n",
       "│    └─Conv2d: 2-3                       [32, 20, 24, 24]          3,620\n",
       "│    └─ReLU: 2-4                         [32, 20, 24, 24]          --\n",
       "│    └─MaxPool2d: 2-5                    [32, 20, 12, 12]          --\n",
       "├─Sequential: 1-2                        [32, 20, 4, 4]            --\n",
       "│    └─Conv2d: 2-6                       [32, 20, 10, 10]          3,620\n",
       "│    └─ReLU: 2-7                         [32, 20, 10, 10]          --\n",
       "│    └─Conv2d: 2-8                       [32, 20, 8, 8]            3,620\n",
       "│    └─ReLU: 2-9                         [32, 20, 8, 8]            --\n",
       "│    └─MaxPool2d: 2-10                   [32, 20, 4, 4]            --\n",
       "├─Sequential: 1-3                        [32, 10]                  --\n",
       "│    └─Flatten: 2-11                     [32, 320]                 --\n",
       "│    └─Linear: 2-12                      [32, 10]                  3,210\n",
       "==========================================================================================\n",
       "Total params: 14,270\n",
       "Trainable params: 14,270\n",
       "Non-trainable params: 0\n",
       "Total mult-adds (Units.MEGABYTES): 90.15\n",
       "==========================================================================================\n",
       "Input size (MB): 0.10\n",
       "Forward/backward pass size (MB): 7.25\n",
       "Params size (MB): 0.06\n",
       "Estimated Total Size (MB): 7.41\n",
       "=========================================================================================="
      ]
     },
     "execution_count": 7,
     "metadata": {},
     "output_type": "execute_result"
    }
   ],
   "source": [
    "summary(tvgg,input_size=[32,1,28,28])"
   ]
  },
  {
   "cell_type": "code",
   "execution_count": 8,
   "id": "5ceeec08",
   "metadata": {},
   "outputs": [
    {
     "data": {
      "text/plain": [
       "tensor([[0.1021, 0.1053, 0.1001, 0.0973, 0.1005, 0.0975, 0.1021, 0.0962, 0.0997,\n",
       "         0.0992]], grad_fn=<SoftmaxBackward0>)"
      ]
     },
     "execution_count": 8,
     "metadata": {},
     "output_type": "execute_result"
    }
   ],
   "source": [
    "tvgg.cpu()\n",
    "tvgg.forward(img_basic[0].unsqueeze(dim=0))\n",
    "torch.softmax(tvgg.forward(img_basic[0].unsqueeze(dim=0)),1)\n",
    "\n",
    "#next(tvgg.parameters()).is_cuda #check if model on cuda"
   ]
  },
  {
   "cell_type": "code",
   "execution_count": null,
   "id": "402c7971",
   "metadata": {},
   "outputs": [
    {
     "name": "stdout",
     "output_type": "stream",
     "text": [
      "Is the model on GPUTrue\n",
      "[INFO] Created SummaryWriter, saving to: c:\\Users\\oriol\\GitHub_Repos\\CNN-classification\\runs\\2025-08-19\\Test_writer\\TinyVGG\\1 epochs...\n"
     ]
    },
    {
     "data": {
      "application/vnd.jupyter.widget-view+json": {
       "model_id": "5bc896506fda4f1b9143c0c9270c679d",
       "version_major": 2,
       "version_minor": 0
      },
      "text/plain": [
       "  0%|          | 0/1 [00:00<?, ?it/s]"
      ]
     },
     "metadata": {},
     "output_type": "display_data"
    },
    {
     "name": "stdout",
     "output_type": "stream",
     "text": [
      "Epoch: 1 | train_loss: 1.3796 | train_acc: 0.4862 | test_loss: 0.7336 | test_acc: 0.7147\n"
     ]
    },
    {
     "data": {
      "text/plain": [
       "{'train_loss': [1.3795879821300507],\n",
       " 'train_acc': [0.4861666666666667],\n",
       " 'test_loss': [0.7335742236897588],\n",
       " 'test_acc': [0.7146565495207667]}"
      ]
     },
     "execution_count": 9,
     "metadata": {},
     "output_type": "execute_result"
    }
   ],
   "source": [
    "from utils.engine import train\n",
    "from utils.model_architectures import TinyVGG_1\n",
    "from utils.data_loaders import create_train_test_dataloaders\n",
    "from utils.config import device \n",
    "from torch import nn\n",
    "from utils.helpers import create_writer\n",
    "from utils.helpers import create_experiment_metadata\n",
    "train_dataloader, test_dataloader = create_train_test_dataloaders()\n",
    "\n",
    "model_0 = TinyVGG_1(input_shape=1,hidden_channels=10,output_shape=10).to(device)\n",
    "loss_fn = nn.CrossEntropyLoss()\n",
    "optimizer = torch.optim.SGD(params=model_0.parameters(),lr=0.01)\n",
    "#print(f\"Is the model on GPU {next(model_0.parameters()).is_cuda}\")\n",
    "\n",
    "model_name = model_0._get_name()\n",
    "experiment_name = \"Test_writer_and_dict\"\n",
    "NUM_EPOCHS = 2\n",
    "\n",
    "writer,dict_dir = create_writer(experiment_name=experiment_name,model_name=model_name,extra=\"2 epochs\")\n",
    "create_experiment_metadata(experiment_name=experiment_name,train_dataloader=train_dataloader,test_dataloader=test_dataloader,model=model_0,optimizer=optimizer,loss_fn=loss_fn,epochs=NUM_EPOCHS,dict_dir=dict_dir)\n",
    "\n",
    "train(model=model_0,train_dataloader=train_dataloader,test_dataloader=test_dataloader,optimizer=optimizer,loss_fn=loss_fn,epochs=NUM_EPOCHS,writer=writer)\n"
   ]
  },
  {
   "cell_type": "code",
   "execution_count": null,
   "id": "bb0e3d22",
   "metadata": {},
   "outputs": [
    {
     "name": "stdout",
     "output_type": "stream",
     "text": [
      "The tensorboard extension is already loaded. To reload it, use:\n",
      "  %reload_ext tensorboard\n"
     ]
    },
    {
     "data": {
      "text/plain": [
       "Reusing TensorBoard on port 6006 (pid 29840), started 0:10:59 ago. (Use '!kill 29840' to kill it.)"
      ]
     },
     "metadata": {},
     "output_type": "display_data"
    },
    {
     "data": {
      "text/html": [
       "\n",
       "      <iframe id=\"tensorboard-frame-8d96e0a67b873215\" width=\"100%\" height=\"800\" frameborder=\"0\">\n",
       "      </iframe>\n",
       "      <script>\n",
       "        (function() {\n",
       "          const frame = document.getElementById(\"tensorboard-frame-8d96e0a67b873215\");\n",
       "          const url = new URL(\"http://localhost\");\n",
       "          const port = 6006;\n",
       "          if (port) {\n",
       "            url.port = port;\n",
       "          }\n",
       "          frame.src = url;\n",
       "        })();\n",
       "      </script>\n",
       "    "
      ],
      "text/plain": [
       "<IPython.core.display.HTML object>"
      ]
     },
     "metadata": {},
     "output_type": "display_data"
    }
   ],
   "source": [
    "%load_ext tensorboard\n",
    "%tensorboard --logdir=runs"
   ]
  },
  {
   "cell_type": "code",
   "execution_count": 51,
   "id": "7b0f36a2",
   "metadata": {},
   "outputs": [],
   "source": [
    "trn,tst = create_train_test_dataloaders(\"Another name\",32)"
   ]
  },
  {
   "cell_type": "code",
   "execution_count": null,
   "id": "031a16bc",
   "metadata": {},
   "outputs": [
    {
     "name": "stdout",
     "output_type": "stream",
     "text": [
      "The training dataset's name is 'Another name' of type <class 'str'>\n",
      "The training dataset's size is 60000 of type <class 'int'>\n",
      "The testing dataset...\n",
      "Batch size is 32 of type <class 'int'>\n",
      "Model name is TinyVGG of type <class 'str'>\n",
      "Optimizer is SGD of type <class 'str'>\n",
      "Loss function is CrossEntropyLoss of type <class 'str'>\n",
      "Number of epochs will be given as an input to the function\n",
      "Timestamp (dd-mm-yyyy) is as simple as 19-08-2025\n",
      "The hyperparameters of the model architecture also need to be note, like hidden channels\n"
     ]
    }
   ],
   "source": [
    "from datetime import datetime\n",
    "print(f\"The training dataset's name is '{trn.dataset.root.split(\"\\\\\")[-1]}' of type {type(trn.dataset.root.split(\"\\\\\")[-1])}\")\n",
    "print(f\"The training dataset's size is {len(trn.dataset)} of type {type(len(trn.dataset))}\")\n",
    "print(\"The testing dataset...\")\n",
    "print(f\"Batch size is {trn.__getstate__()['batch_size']} of type {type(trn.__getstate__()['batch_size'])}\")\n",
    "print(f\"Model name is {model_0._get_name()} of type {type(model_0._get_name())}\")\n",
    "print(f\"Optimizer is {type(optimizer).__name__} of type {type(type(optimizer).__name__)}\")\n",
    "print(f\"Loss function is {type(loss_fn).__name__} of type {type(type(loss_fn).__name__)}\")\n",
    "print(\"Number of epochs will be given as an input to the function\")\n",
    "print(f\"Timestamp (dd-mm-yyyy) is as simple as {datetime.now().strftime(\"%d-%m-%Y\")}\")\n",
    "print(\"The hyperparameters of the model architecture also need to be note, like hidden channels\")\n",
    "\n",
    "#To track\n",
    "    # timestamp \n",
    "    # model name\n",
    "    # epochs\n",
    "    # hidden channels for convolutional and hidden nodes for FC layers\n",
    "    # batch size\n",
    "    # optimizer\n",
    "    # OPTIMIZER PARAMETERS LIKE LEARNING RATE, MOMENTUM AND ON AND ON\n",
    "    # loss function \n",
    "    # train and test datasets"
   ]
  },
  {
   "cell_type": "code",
   "execution_count": null,
   "id": "9f60b26b",
   "metadata": {},
   "outputs": [
    {
     "name": "stdout",
     "output_type": "stream",
     "text": [
      "4\n"
     ]
    }
   ],
   "source": [
    "import os\n",
    "from utils.config import MAIN_DIRECTORY\n",
    "\n",
    "dir = os.path.join(MAIN_DIRECTORY, \"runs\", \"asdfg\",\"runs\",\"jklm\")\n",
    "idx = dir.split(\"\\\\\").index(\"CNN-classification\")\n"
   ]
  },
  {
   "cell_type": "code",
   "execution_count": 7,
   "id": "46b29784",
   "metadata": {},
   "outputs": [
    {
     "name": "stdout",
     "output_type": "stream",
     "text": [
      "[INFO] Created SummaryWriter, saving to: c:\\Users\\oriol\\GitHub_Repos\\CNN-classification\\runs\\model_name\\Test_writer_and_dict\\2 epochs...\n",
      "c:\\Users\\oriol\\GitHub_Repos\\CNN-classification\\runs_metadata\\model_name\\Test_writer_and_dict\\2 epochs <class 'str'>\n"
     ]
    }
   ],
   "source": [
    "from utils.helpers import create_writer\n",
    "writer,dict_dir = create_writer(experiment_name=\"Test_writer_and_dict\",model_name=\"model_name\",extra=\"2 epochs\")\n",
    "print(dict_dir, type(dict_dir))"
   ]
  },
  {
   "cell_type": "code",
   "execution_count": 9,
   "id": "4daeccfa",
   "metadata": {},
   "outputs": [
    {
     "data": {
      "text/plain": [
       "'c:\\\\Users\\\\oriol\\\\GitHub_Repos\\\\CNN-classification\\\\runs_metadata\\\\model_name\\\\Test_writer_and_dict\\\\2 epochs\\\\lolol.txt'"
      ]
     },
     "execution_count": 9,
     "metadata": {},
     "output_type": "execute_result"
    }
   ],
   "source": [
    "import os\n",
    "os.path.join(dict_dir,\"lolol.txt\")"
   ]
  },
  {
   "cell_type": "code",
   "execution_count": null,
   "id": "743adb5e",
   "metadata": {},
   "outputs": [],
   "source": []
  }
 ],
 "metadata": {
  "kernelspec": {
   "display_name": "pytorch_cu126",
   "language": "python",
   "name": "python3"
  },
  "language_info": {
   "codemirror_mode": {
    "name": "ipython",
    "version": 3
   },
   "file_extension": ".py",
   "mimetype": "text/x-python",
   "name": "python",
   "nbconvert_exporter": "python",
   "pygments_lexer": "ipython3",
   "version": "3.12.3"
  }
 },
 "nbformat": 4,
 "nbformat_minor": 5
}
