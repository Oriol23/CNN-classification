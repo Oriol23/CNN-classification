{
 "cells": [
  {
   "cell_type": "code",
   "execution_count": 1,
   "id": "47f9bc35",
   "metadata": {},
   "outputs": [
    {
     "name": "stdout",
     "output_type": "stream",
     "text": [
      "['c:\\\\Users\\\\oriol\\\\GitHub_Repos\\\\CNN-classification', 'c:\\\\Users\\\\oriol\\\\GitHub_Repos\\\\CNN-classification\\\\utils', 'c:\\\\Users\\\\oriol\\\\anaconda3\\\\envs\\\\pytorch_cu126\\\\python312.zip', 'c:\\\\Users\\\\oriol\\\\anaconda3\\\\envs\\\\pytorch_cu126\\\\DLLs', 'c:\\\\Users\\\\oriol\\\\anaconda3\\\\envs\\\\pytorch_cu126\\\\Lib', 'c:\\\\Users\\\\oriol\\\\anaconda3\\\\envs\\\\pytorch_cu126', '', 'c:\\\\Users\\\\oriol\\\\anaconda3\\\\envs\\\\pytorch_cu126\\\\Lib\\\\site-packages', 'c:\\\\Users\\\\oriol\\\\anaconda3\\\\envs\\\\pytorch_cu126\\\\Lib\\\\site-packages\\\\win32', 'c:\\\\Users\\\\oriol\\\\anaconda3\\\\envs\\\\pytorch_cu126\\\\Lib\\\\site-packages\\\\win32\\\\lib', 'c:\\\\Users\\\\oriol\\\\anaconda3\\\\envs\\\\pytorch_cu126\\\\Lib\\\\site-packages\\\\Pythonwin']\n"
     ]
    }
   ],
   "source": [
    "import sys\n",
    "import os\n",
    "from pathlib import Path \n",
    "from torchvision.transforms import v2\n",
    "import torch\n",
    "import matplotlib.pyplot as plt\n",
    "import pickle\n",
    "modulepath = Path.cwd().parent / \"utils\"\n",
    "modulepath = str(modulepath)\n",
    "projectpath = Path.cwd().parent\n",
    "projectpath = str(projectpath)\n",
    "if modulepath not in sys.path:\n",
    "    sys.path.insert(0,str(modulepath))\n",
    "if projectpath not in sys.path:\n",
    "    sys.path.insert(0,str(projectpath))  \n",
    "print(sys.path)\n"
   ]
  },
  {
   "cell_type": "code",
   "execution_count": 2,
   "id": "f1c23cb1",
   "metadata": {},
   "outputs": [],
   "source": [
    "from utils.data_loaders import create_train_test_dataloaders\n",
    "transform = v2.Compose([v2.RandomCrop(size=(20, 20))])#,v2.ToImage(), v2.ToDtype(torch.float32, scale=True)])\n"
   ]
  },
  {
   "cell_type": "code",
   "execution_count": 4,
   "id": "08b8a80d",
   "metadata": {},
   "outputs": [],
   "source": [
    "train_basic,test_basic = create_train_test_dataloaders(dataset_name=\"FashionMNIST\",size=0.1)\n",
    "train_augmented,test_augmented = create_train_test_dataloaders(dataset_name=\"FashionMNIST\",transform=transform)\n",
    "img_basic,label_basic = next(iter(train_basic))\n",
    "img_augmented,label_augmented = next(iter(train_augmented))"
   ]
  },
  {
   "cell_type": "code",
   "execution_count": null,
   "id": "1fdc0726",
   "metadata": {},
   "outputs": [
    {
     "name": "stdout",
     "output_type": "stream",
     "text": [
      "32\n"
     ]
    }
   ],
   "source": []
  },
  {
   "cell_type": "code",
   "execution_count": 4,
   "id": "ee5cf398",
   "metadata": {},
   "outputs": [
    {
     "name": "stdout",
     "output_type": "stream",
     "text": [
      "some spaces are good\n",
      "some spaces are good\n"
     ]
    }
   ],
   "source": [
    "train_basic,test_basic = create_train_test_dataloaders(\"some spaces are good\")\n",
    "\n",
    "print(train_basic.dataset.root.split(\"\\\\\")[-1])\n",
    "name = os.path.split(os.path.normpath(train_basic.dataset.root))[-1]\n",
    "print(name)"
   ]
  },
  {
   "cell_type": "code",
   "execution_count": 5,
   "id": "f0b33942",
   "metadata": {},
   "outputs": [
    {
     "data": {
      "text/plain": [
       "(np.float64(-0.5), np.float64(19.5), np.float64(19.5), np.float64(-0.5))"
      ]
     },
     "execution_count": 5,
     "metadata": {},
     "output_type": "execute_result"
    },
    {
     "data": {
      "image/png": "[encoded data removed]",
      "text/plain": [
       "<Figure size 640x480 with 2 Axes>"
      ]
     },
     "metadata": {},
     "output_type": "display_data"
    }
   ],
   "source": [
    "fig,ax = plt.subplots(1,2)\n",
    "ax[0].imshow(img_basic[0].permute(1,2,0),cmap=\"gray\")\n",
    "ax[1].imshow(img_augmented[0].permute(1,2,0),cmap=\"gray\")\n",
    "ax[0].axis(False)\n",
    "ax[1].axis(False)"
   ]
  },
  {
   "cell_type": "code",
   "execution_count": 6,
   "id": "dfe83b31",
   "metadata": {},
   "outputs": [
    {
     "data": {
      "text/plain": [
       "torch.Size([32, 1, 28, 28])"
      ]
     },
     "execution_count": 6,
     "metadata": {},
     "output_type": "execute_result"
    }
   ],
   "source": [
    "img_basic.shape"
   ]
  },
  {
   "cell_type": "code",
   "execution_count": 7,
   "id": "a1b73328",
   "metadata": {},
   "outputs": [],
   "source": [
    "from utils.model_architectures import TinyVGG_1\n",
    "from torchinfo import summary \n",
    "\n",
    "tvgg = TinyVGG_1(1,20,10)"
   ]
  },
  {
   "cell_type": "code",
   "execution_count": 8,
   "id": "68c2326d",
   "metadata": {},
   "outputs": [
    {
     "data": {
      "text/plain": [
       "==========================================================================================\n",
       "Layer (type:depth-idx)                   Output Shape              Param #\n",
       "==========================================================================================\n",
       "TinyVGG_1                                [32, 10]                  --\n",
       "├─Sequential: 1-1                        [32, 20, 12, 12]          --\n",
       "│    └─Conv2d: 2-1                       [32, 20, 26, 26]          200\n",
       "│    └─ReLU: 2-2                         [32, 20, 26, 26]          --\n",
       "│    └─Conv2d: 2-3                       [32, 20, 24, 24]          3,620\n",
       "│    └─ReLU: 2-4                         [32, 20, 24, 24]          --\n",
       "│    └─MaxPool2d: 2-5                    [32, 20, 12, 12]          --\n",
       "├─Sequential: 1-2                        [32, 20, 4, 4]            --\n",
       "│    └─Conv2d: 2-6                       [32, 20, 10, 10]          3,620\n",
       "│    └─ReLU: 2-7                         [32, 20, 10, 10]          --\n",
       "│    └─Conv2d: 2-8                       [32, 20, 8, 8]            3,620\n",
       "│    └─ReLU: 2-9                         [32, 20, 8, 8]            --\n",
       "│    └─MaxPool2d: 2-10                   [32, 20, 4, 4]            --\n",
       "├─Sequential: 1-3                        [32, 10]                  --\n",
       "│    └─Flatten: 2-11                     [32, 320]                 --\n",
       "│    └─Linear: 2-12                      [32, 10]                  3,210\n",
       "==========================================================================================\n",
       "Total params: 14,270\n",
       "Trainable params: 14,270\n",
       "Non-trainable params: 0\n",
       "Total mult-adds (Units.MEGABYTES): 90.15\n",
       "==========================================================================================\n",
       "Input size (MB): 0.10\n",
       "Forward/backward pass size (MB): 7.25\n",
       "Params size (MB): 0.06\n",
       "Estimated Total Size (MB): 7.41\n",
       "=========================================================================================="
      ]
     },
     "execution_count": 8,
     "metadata": {},
     "output_type": "execute_result"
    }
   ],
   "source": [
    "summary(tvgg,input_size=[32,1,28,28])"
   ]
  },
  {
   "cell_type": "code",
   "execution_count": 9,
   "id": "5ceeec08",
   "metadata": {},
   "outputs": [
    {
     "data": {
      "text/plain": [
       "tensor([[0.1039, 0.0984, 0.0970, 0.0983, 0.0958, 0.0985, 0.1001, 0.1020, 0.1042,\n",
       "         0.1018]], grad_fn=<SoftmaxBackward0>)"
      ]
     },
     "execution_count": 9,
     "metadata": {},
     "output_type": "execute_result"
    }
   ],
   "source": [
    "tvgg.cpu()\n",
    "tvgg.forward(img_basic[0].unsqueeze(dim=0))\n",
    "torch.softmax(tvgg.forward(img_basic[0].unsqueeze(dim=0)),1)\n",
    "\n",
    "#next(tvgg.parameters()).is_cuda #check if model on cuda"
   ]
  },
  {
   "cell_type": "code",
   "execution_count": 8,
   "id": "402c7971",
   "metadata": {},
   "outputs": [
    {
     "name": "stdout",
     "output_type": "stream",
     "text": [
      "[INFO] Created SummaryWriter, saving to: c:\\Users\\oriol\\GitHub_Repos\\CNN-classification\\experiment_logs\\runs\\TinyVGG_1\\Test_small_dataset\\1 epochs...\n",
      "[INFO] Created experiment metadata, saving to: c:\\Users\\oriol\\GitHub_Repos\\CNN-classification\\experiment_logs\\runs_metadata\\TinyVGG_1\\Test_small_dataset\\1 epochs...\n"
     ]
    },
    {
     "data": {
      "application/vnd.jupyter.widget-view+json": {
       "model_id": "1ea260d29a284fad918cc10ea2d7e8fe",
       "version_major": 2,
       "version_minor": 0
      },
      "text/plain": [
       "  0%|          | 0/1 [00:00<?, ?it/s]"
      ]
     },
     "metadata": {},
     "output_type": "display_data"
    }
   ],
   "source": [
    "from utils.engine import train\n",
    "from utils.model_architectures import TinyVGG_1\n",
    "from utils.data_loaders import create_train_test_dataloaders\n",
    "from torch import nn\n",
    "from utils.helpers import create_writer\n",
    "from utils.helpers import create_experiment_metadata\n",
    "train_dataloader, test_dataloader = create_train_test_dataloaders(size=0.1) #type: ignore\n",
    "    \n",
    "device = \"cuda\" if torch.cuda.is_available() else \"cpu\"\n",
    "\n",
    "model_0 = TinyVGG_1(input_shape=1,hidden_channels=10,output_shape=10).to(device)\n",
    "loss_fn = nn.CrossEntropyLoss()\n",
    "optimizer = torch.optim.SGD(params=model_0.parameters(),lr=0.01)\n",
    "#print(f\"Is the model on GPU {next(model_0.parameters()).is_cuda}\")\n",
    "\n",
    "model_name = model_0._get_name()\n",
    "experiment_name = \"Test_small_dataset\"\n",
    "extra = \"1 epochs\"\n",
    "NUM_EPOCHS = 1\n",
    "\n",
    "writer = create_writer(experiment_name=experiment_name,model_name=model_name,extra=extra)\n",
    "\n",
    "train(model=model_0,train_dataloader=train_dataloader,test_dataloader=test_dataloader,optimizer=optimizer,loss_fn=loss_fn,epochs=NUM_EPOCHS,writer=writer)\n"
   ]
  },
  {
   "cell_type": "code",
   "execution_count": 27,
   "id": "c01ee294",
   "metadata": {},
   "outputs": [],
   "source": [
    "from utils.data_loaders import create_train_test_dataloaders\n",
    "from torchvision import datasets \n",
    "from utils.config import DATA_DIRECTORY\n",
    "mnist = os.path.join(DATA_DIRECTORY,\"FashionMNIST\")\n",
    "train_dataset = datasets.FashionMNIST(root=mnist,train=True,download=False,transform=v2.Compose([v2.ToImage(),v2.ToDtype(torch.float32, scale=True)]))\n",
    "train_basic,test_basic = create_train_test_dataloaders(\"FashionMNIST\")\n"
   ]
  },
  {
   "cell_type": "code",
   "execution_count": null,
   "id": "eea50e0e",
   "metadata": {},
   "outputs": [
    {
     "name": "stdout",
     "output_type": "stream",
     "text": [
      "Initial len 600, initial type <class 'torchvision.datasets.mnist.FashionMNIST'>\n",
      "470400\n",
      "Final len 60, final type <class 'torchvision.datasets.mnist.FashionMNIST'>\n"
     ]
    }
   ],
   "source": [
    "print(f\"Initial len {len(train_dataset)}, initial type {type(train_dataset)}\")\n",
    "size = 0.1\n",
    "nel = int(len(train_dataset)*size)\n",
    "train_dataset.data = train_dataset.data[0:nel]\n",
    "print(f\"Final len {len(train_dataset)}, final type {type(train_dataset)}\")\n"
   ]
  },
  {
   "cell_type": "code",
   "execution_count": 2,
   "id": "53b51877",
   "metadata": {},
   "outputs": [],
   "source": [
    "from utils.config import RUNS_METADATA_DIRECTORY\n",
    "from utils.config import METADATA_FILENAME\n",
    "\n",
    "def retrieve_metadata(model_name:str, experiment_name:str, extra=None):\n",
    "    \"\"\"AAA\"\"\"\n",
    "    if extra:\n",
    "        metadata_path = os.path.join(RUNS_METADATA_DIRECTORY, model_name, \n",
    "                               experiment_name, extra, METADATA_FILENAME)\n",
    "    else:\n",
    "        metadata_path = os.path.join(RUNS_METADATA_DIRECTORY, model_name, \n",
    "                               experiment_name, METADATA_FILENAME)\n",
    "    if os.path.exists(metadata_path):\n",
    "        with open(metadata_path, 'rb') as file:\n",
    "            metadata = pickle.load(file)\n",
    "        return metadata\n",
    "    else:\n",
    "        print(f\"No metadata stored in {metadata_path}\")"
   ]
  },
  {
   "cell_type": "code",
   "execution_count": 8,
   "id": "13aabe7e",
   "metadata": {},
   "outputs": [
    {
     "name": "stdout",
     "output_type": "stream",
     "text": [
      "No metadata stored in c:\\Users\\oriol\\GitHub_Repos\\CNN-classification\\runs_metadata\\TinyVGG_1\\iwhrsgir\\3 epochs SDG\\Metadata.pkl\n"
     ]
    }
   ],
   "source": [
    "\n",
    "meta_dict = retrieve_metadata(model_name=\"TinyVGG_1\", experiment_name=\"iwhrsgir\", extra=\"3 epochs SDG\")\n"
   ]
  },
  {
   "cell_type": "code",
   "execution_count": 7,
   "id": "ec9e12ac",
   "metadata": {},
   "outputs": [
    {
     "name": "stdout",
     "output_type": "stream",
     "text": [
      "{'date': '20-08-2025', 'experiment name': 'Test_writer_and_metadata', 'model name': 'TinyVGG_1', 'learning rate': 0.01, 'epochs': 3, 'loss function': 'CrossEntropyLoss', 'optimizer name': 'SGD', 'dataset': 'some spaces are good', 'training dataset size': 60000, 'testing dataset size': 10000, 'batch size': 32, 'optimizer params': {'lr': 0.01, 'momentum': 0, 'dampening': 0, 'weight_decay': 0, 'nesterov': False, 'maximize': False, 'foreach': None, 'differentiable': False, 'fused': None}, 'model params': {'layer_1': Sequential(\n",
      "  (0): Conv2d(1, 10, kernel_size=(3, 3), stride=(1, 1))\n",
      "  (1): ReLU()\n",
      "  (2): Conv2d(10, 10, kernel_size=(3, 3), stride=(1, 1))\n",
      "  (3): ReLU()\n",
      "  (4): MaxPool2d(kernel_size=2, stride=2, padding=0, dilation=1, ceil_mode=False)\n",
      "), 'layer_2': Sequential(\n",
      "  (0): Conv2d(10, 10, kernel_size=(3, 3), stride=(1, 1))\n",
      "  (1): ReLU()\n",
      "  (2): Conv2d(10, 10, kernel_size=(3, 3), stride=(1, 1))\n",
      "  (3): ReLU()\n",
      "  (4): MaxPool2d(kernel_size=2, stride=2, padding=0, dilation=1, ceil_mode=False)\n",
      "), 'layer_3': Sequential(\n",
      "  (0): Flatten(start_dim=1, end_dim=-1)\n",
      "  (1): Linear(in_features=160, out_features=10, bias=True)\n",
      ")}}\n"
     ]
    }
   ],
   "source": [
    "print(meta_dict)"
   ]
  },
  {
   "cell_type": "code",
   "execution_count": 71,
   "id": "0023c2d3",
   "metadata": {},
   "outputs": [
    {
     "name": "stdout",
     "output_type": "stream",
     "text": [
      "c:\\Users\\oriol\\GitHub_Repos\\CNN-classification\\experiment_logs\\runs\n",
      "c:\\Users\\oriol\\GitHub_Repos\\CNN-classification\\experiment_logs\n",
      "['c:\\\\Users\\\\oriol\\\\GitHub_Repos\\\\CNN-classification\\\\experiment_logs', 'c:\\\\Users\\\\oriol\\\\GitHub_Repos\\\\CNN-classification\\\\experiment_logs\\\\runs', 'c:\\\\Users\\\\oriol\\\\GitHub_Repos\\\\CNN-classification', 'c:\\\\Users\\\\oriol\\\\GitHub_Repos\\\\CNN-classification\\\\utils', 'c:\\\\Users\\\\oriol\\\\anaconda3\\\\envs\\\\pytorch_cu126\\\\python312.zip', 'c:\\\\Users\\\\oriol\\\\anaconda3\\\\envs\\\\pytorch_cu126\\\\DLLs', 'c:\\\\Users\\\\oriol\\\\anaconda3\\\\envs\\\\pytorch_cu126\\\\Lib', 'c:\\\\Users\\\\oriol\\\\anaconda3\\\\envs\\\\pytorch_cu126', '', 'c:\\\\Users\\\\oriol\\\\anaconda3\\\\envs\\\\pytorch_cu126\\\\Lib\\\\site-packages', 'c:\\\\Users\\\\oriol\\\\anaconda3\\\\envs\\\\pytorch_cu126\\\\Lib\\\\site-packages\\\\win32', 'c:\\\\Users\\\\oriol\\\\anaconda3\\\\envs\\\\pytorch_cu126\\\\Lib\\\\site-packages\\\\win32\\\\lib', 'c:\\\\Users\\\\oriol\\\\anaconda3\\\\envs\\\\pytorch_cu126\\\\Lib\\\\site-packages\\\\Pythonwin']\n"
     ]
    }
   ],
   "source": [
    "from utils.config import RUNS_DIRECTORY\n",
    "print(RUNS_DIRECTORY)\n",
    "exlog = os.path.dirname(RUNS_DIRECTORY)\n",
    "print(exlog)\n",
    "if exlog not in sys.path:\n",
    "    sys.path.insert(0,str(exlog))\n",
    "print(sys.path)"
   ]
  },
  {
   "cell_type": "code",
   "execution_count": null,
   "id": "4daeccfa",
   "metadata": {},
   "outputs": [],
   "source": [
    "from utils.engine import train\n",
    "from utils.model_architectures import TinyVGG_1\n",
    "from utils.data_loaders import create_train_test_dataloaders\n",
    "from torch import nn\n",
    "from utils.helpers import create_writer\n",
    "from utils.helpers import create_experiment_metadata\n",
    "train_dataloader, test_dataloader = create_train_test_dataloaders()\n",
    "\n",
    "device = \"cuda\" if torch.cuda.is_available() else \"cpu\"\n",
    "\n",
    "model_0 = TinyVGG_1(input_shape=1,hidden_channels=10,output_shape=10).to(device)\n",
    "loss_fn = nn.CrossEntropyLoss()\n",
    "optimizer = torch.optim.SGD(params=model_0.parameters(),lr=0.01)"
   ]
  },
  {
   "cell_type": "code",
   "execution_count": null,
   "id": "743adb5e",
   "metadata": {},
   "outputs": [],
   "source": [
    "optimizer.__getstate__()['defaults']"
   ]
  },
  {
   "cell_type": "code",
   "execution_count": null,
   "id": "d7bae9de",
   "metadata": {},
   "outputs": [],
   "source": [
    "model_0.__getstate__()['_modules']"
   ]
  },
  {
   "cell_type": "code",
   "execution_count": null,
   "id": "eca7c459",
   "metadata": {},
   "outputs": [],
   "source": [
    "import pickle\n",
    "with open(r\"C:\\Users\\oriol\\GitHub_Repos\\CNN-classification\\runs_metadata\\TinyVGG_1\\Test_writer_and_dict\\2 epochs\\Metadata.pkl\", 'rb') as file:\n",
    "    meta_dict = pickle.load(file)"
   ]
  },
  {
   "cell_type": "code",
   "execution_count": null,
   "id": "a30e5a80",
   "metadata": {},
   "outputs": [],
   "source": [
    "print(meta_dict)"
   ]
  },
  {
   "cell_type": "code",
   "execution_count": null,
   "id": "03012040",
   "metadata": {},
   "outputs": [],
   "source": []
  },
  {
   "cell_type": "code",
   "execution_count": null,
   "id": "0c9b4818",
   "metadata": {},
   "outputs": [],
   "source": [
    "wrtr.__getstate__()['log_dir']"
   ]
  },
  {
   "cell_type": "code",
   "execution_count": null,
   "id": "9fb810f6",
   "metadata": {},
   "outputs": [],
   "source": [
    "import os\n",
    "from utils.config import RUNS_DIRECTORY\n",
    "from utils.helpers import create_writer\n",
    "wrtr = create_writer(model_name=\"None\",experiment_name=\"Test expname extraction\",extra=\"Please\")\n",
    "\n",
    "relpath = os.path.normpath(os.path.relpath(wrtr.__getstate__()['log_dir'],RUNS_DIRECTORY))\n",
    "components = relpath.split(os.sep)"
   ]
  },
  {
   "cell_type": "code",
   "execution_count": null,
   "id": "4d3d6bc9",
   "metadata": {},
   "outputs": [],
   "source": [
    "print(f\"Model name '{components[0]}' and experiment name '{components[1]}'\")\n",
    "type(components[0])"
   ]
  },
  {
   "cell_type": "code",
   "execution_count": null,
   "id": "d6306241",
   "metadata": {},
   "outputs": [],
   "source": [
    "from utils.model_architectures import TinyVGG_1\n",
    "\n",
    "device = \"cuda\" if torch.cuda.is_available() else \"cpu\"\n",
    "\n",
    "model_0 = TinyVGG_1(input_shape=1,hidden_channels=10,output_shape=10).to(device)"
   ]
  },
  {
   "cell_type": "code",
   "execution_count": null,
   "id": "bf83a7aa",
   "metadata": {},
   "outputs": [],
   "source": [
    "from utils.config import RUNS_METADATA_DIRECTORY\n",
    "dictpath = os.path.join(RUNS_METADATA_DIRECTORY,relpath)\n",
    "print(dictpath)"
   ]
  },
  {
   "cell_type": "code",
   "execution_count": null,
   "id": "80220fa0",
   "metadata": {},
   "outputs": [],
   "source": [
    "import os\n",
    "from utils.config import RUNS_METADATA_DIRECTORY\n",
    "import pickle\n",
    "metadata_file = os.path.join(RUNS_METADATA_DIRECTORY,\"TinyVGG_1\",\"Test_writer_and_newdict\",\"1 epochs\",\"Metadata.pkl\")\n",
    "with open(metadata_file, 'rb') as f:\n",
    "    resdict = pickle.load(f)"
   ]
  },
  {
   "cell_type": "code",
   "execution_count": 10,
   "id": "22a24443",
   "metadata": {},
   "outputs": [
    {
     "data": {
      "text/plain": [
       "<All keys matched successfully>"
      ]
     },
     "execution_count": 10,
     "metadata": {},
     "output_type": "execute_result"
    }
   ],
   "source": [
    "from utils.model_architectures import TinyVGG_1\n",
    "loaded_model = TinyVGG_1(1,10,10)\n",
    "loaded_model.load_state_dict(torch.load(f=r\"C:\\Users\\oriol\\GitHub_Repos\\CNN-classification\\models\\Untrained_TinyVGG_1.pth\")) "
   ]
  },
  {
   "cell_type": "code",
   "execution_count": 123,
   "id": "d68bff46",
   "metadata": {},
   "outputs": [],
   "source": [
    "HYPERPARAMETERS = {'Hidden Channels': [20,40,60,80,100],\n",
    "                   'Epochs': [10,20],\n",
    "                   'lr': [0.01,0.001],\n",
    "                   'padding': [0,1],\n",
    "                   'Fifth': ['A','B','C','D']\n",
    "                   }\n"
   ]
  },
  {
   "cell_type": "code",
   "execution_count": null,
   "id": "2340fff7",
   "metadata": {},
   "outputs": [],
   "source": [
    "#Rethink the tensorboard structure\n",
    "\n",
    "#Write all HYPERPARAMETERS in extra\n",
    "\n",
    "#Pros of writing all HYPERPARAMETERS in extra\n",
    "    #Easy filtering by hyperparameter values\n",
    "#Cons\n",
    "    #If I want to add 1 more in the future it will be missing from all older experiment names\n",
    "    #Long names\n",
    "\n",
    "#I choose HYPERPARAMETERS by model architecture then it is less releavnt since there will be less changes \n",
    "#within the same architecture\n",
    "\n",
    "#Maybe store the loss and accuracy as a panda dataframe with a column for\n",
    "#Exp number (ID), HYPERPARAMETERS (the combination used for the experiment or more idk), exp name, model name, ... test acc, test loss, trsin acc, train loss\n",
    "\n",
    "#Exp number should be mutable or immutable?\n",
    "#Decide it when I create the Metadata.pkl file or when I load the dataframe?\n",
    "#If I decide it when creating the metadata, how do I keep trak of experiment number between different days or sessions?\n",
    "\n",
    "#One column for epoch (1,2,3,...) and another for number of epochs (fixed, 20 or smth)\n",
    "\n",
    "#Broad idea is \n",
    "#to store the metadata (same as now)\n",
    "#log to tensorboard (same as now)\n",
    "#create dataframe with column names and values of acc and hyperparameters\n",
    "#save the dataframe as a parquet or feather with column names depending on experiment (new)\n",
    "\n",
    "#The files are all saved in one folder, and when I want to access the database I load them all and join them as pd dataframes. \n",
    "    #might want to add a load filter\n",
    "#The files will be stored in a folder /experiment_results and the names will be \n",
    "    # model_name-experiment_name-extra\n",
    "\n",
    "#I will need to deal with dataframes with different number of columns, so remember types of joins. \n",
    "\n",
    "#Then do a dataframe filter and plotter :)\n",
    "\n",
    "#PROBLEMS\n",
    "\n",
    "    #How to do a useful legend for so many plots "
   ]
  },
  {
   "cell_type": "code",
   "execution_count": null,
   "id": "9f5bad53",
   "metadata": {},
   "outputs": [],
   "source": [
    "#For filtering filenames \n",
    "\n",
    "#names = [os.path.basename(x) for x in glob.glob('/your_path')] \n",
    "# makes glob return only filenames instead of the whole path "
   ]
  },
  {
   "cell_type": "code",
   "execution_count": 2,
   "id": "433b2f8d",
   "metadata": {},
   "outputs": [
    {
     "name": "stdout",
     "output_type": "stream",
     "text": [
      "[INFO] Created SummaryWriter, saving to: c:\\Users\\oriol\\GitHub_Repos\\CNN-classification\\experiment_logs\\runs\\Test_new_metadata\\Model_3\\Hidden_Channels_40_Epochs_2_lr_0.01...\n"
     ]
    },
    {
     "data": {
      "application/vnd.jupyter.widget-view+json": {
       "model_id": "094a82d216614188aef656ed0760f15d",
       "version_major": 2,
       "version_minor": 0
      },
      "text/plain": [
       "  0%|          | 0/2 [00:00<?, ?it/s]"
      ]
     },
     "metadata": {},
     "output_type": "display_data"
    },
    {
     "name": "stdout",
     "output_type": "stream",
     "text": [
      "[INFO] Created experiment metadata, saving to: c:\\Users\\oriol\\GitHub_Repos\\CNN-classification\\experiment_logs\\results\\Test_new_metadata\\Model_3\\Hidden_Channels_40_Epochs_2_lr_0.01...\n",
      "[INFO] Saving the above results to: c:\\Users\\oriol\\GitHub_Repos\\CNN-classification\\experiment_logs\\results\\Test_new_metadata\\Model_3\\Hidden_Channels_40_Epochs_2_lr_0.01\\Results.feather\n",
      "[INFO] Created SummaryWriter, saving to: c:\\Users\\oriol\\GitHub_Repos\\CNN-classification\\experiment_logs\\runs\\Test_new_metadata\\Model_3\\Hidden_Channels_40_Epochs_2_lr_0.001...\n"
     ]
    },
    {
     "data": {
      "application/vnd.jupyter.widget-view+json": {
       "model_id": "d8515a6752f7422faa0b99ac2b261acf",
       "version_major": 2,
       "version_minor": 0
      },
      "text/plain": [
       "  0%|          | 0/2 [00:00<?, ?it/s]"
      ]
     },
     "metadata": {},
     "output_type": "display_data"
    },
    {
     "name": "stdout",
     "output_type": "stream",
     "text": [
      "[INFO] Created experiment metadata, saving to: c:\\Users\\oriol\\GitHub_Repos\\CNN-classification\\experiment_logs\\results\\Test_new_metadata\\Model_3\\Hidden_Channels_40_Epochs_2_lr_0.001...\n",
      "[INFO] Saving the above results to: c:\\Users\\oriol\\GitHub_Repos\\CNN-classification\\experiment_logs\\results\\Test_new_metadata\\Model_3\\Hidden_Channels_40_Epochs_2_lr_0.001\\Results.feather\n"
     ]
    }
   ],
   "source": [
    "from utils.engine import train\n",
    "from utils.model_architectures import TinyVGG_1\n",
    "from utils.data_loaders import create_train_test_dataloaders\n",
    "from torch import nn\n",
    "from utils.helpers import create_writer\n",
    "from utils.helpers import create_dataframe\n",
    "from utils.helpers import hyperparameter_combinations\n",
    "from utils.helpers import save_dataframe\n",
    "from utils.helpers import create_and_save_experiment_metadata\n",
    "\n",
    "device = \"cuda\" if torch.cuda.is_available() else \"cpu\"\n",
    "\n",
    "HYPERPARAMETERS = {'Hidden_Channels': [40],\n",
    "                   'Epochs': [2],\n",
    "                   'lr': [0.01,0.001],\n",
    "                   }\n",
    "\n",
    "experiment_name = \"Test_new_metadata\"\n",
    "hp_combinations = hyperparameter_combinations(HYPERPARAMETERS)\n",
    "\n",
    "for n,combination in enumerate(hp_combinations):\n",
    "    HIDDEN_CHANNELS = combination[0]\n",
    "    NUM_EPOCHS = combination[1]\n",
    "    LR = combination[2]\n",
    "\n",
    "    train_dataloader, test_dataloader = create_train_test_dataloaders(size=0.1) #type: ignore\n",
    "\n",
    "    model_0 = TinyVGG_1(input_shape=1,hidden_channels=HIDDEN_CHANNELS,output_shape=10).to(device)\n",
    "    loss_fn = nn.CrossEntropyLoss()\n",
    "    optimizer = torch.optim.SGD(params=model_0.parameters(),lr=LR)\n",
    "\n",
    "    #model_name = model_0._get_name()\n",
    "    model_name = \"Model_3\"\n",
    "\n",
    "    extra = \"\"\n",
    "    namelist = [str(key)+\"_\"+str(val)+\"_\" for key,val in zip(HYPERPARAMETERS.keys(),combination)]\n",
    "    for elem in namelist:\n",
    "        extra += elem\n",
    "    extra = extra[:-1]\n",
    "\n",
    "    # Create a writer to save results to tensorboard\n",
    "    writer = create_writer(experiment_name=experiment_name,\n",
    "                           model_name=model_name,\n",
    "                           extra=extra)\n",
    "    # Train the model for a number of epochs and log the results to tensorboard\n",
    "    results = train(model=model_0,\n",
    "                    train_dataloader=train_dataloader,\n",
    "                    test_dataloader=test_dataloader,\n",
    "                    optimizer=optimizer,\n",
    "                    loss_fn=loss_fn,\n",
    "                    epochs=NUM_EPOCHS,\n",
    "                    writer=writer)\n",
    "    # Store additional information on the experiment\n",
    "    create_and_save_experiment_metadata(experiment_name=experiment_name,\n",
    "                                        model_name=model_name,\n",
    "                                        extra=extra,\n",
    "                                        train_dataloader=train_dataloader,\n",
    "                                        test_dataloader=test_dataloader,\n",
    "                                        model=model_0,\n",
    "                                        optimizer=optimizer,\n",
    "                                        loss_fn=loss_fn,\n",
    "                                        epochs=NUM_EPOCHS,\n",
    "                                        hyperparameters_tuple=combination,\n",
    "                                        hyperparameters_keys=HYPERPARAMETERS.keys()\n",
    "                                        )\n",
    "    # Store the results of the accuracy and loss as a dataframe\n",
    "    df = create_dataframe(results=results,\n",
    "                          hyperparameters_tuple=combination,\n",
    "                          hyperparameters_keys=HYPERPARAMETERS.keys())\n",
    "    save_dataframe(df=df,\n",
    "                   model_name=model_name,\n",
    "                   experiment_name=experiment_name,\n",
    "                   extra=extra)\n"
   ]
  },
  {
   "cell_type": "code",
   "execution_count": null,
   "id": "935ca79f",
   "metadata": {},
   "outputs": [
    {
     "data": {
      "image/png": "[encoded data removed]",
      "text/plain": [
       "<Figure size 1100x1000 with 4 Axes>"
      ]
     },
     "metadata": {},
     "output_type": "display_data"
    }
   ],
   "source": [
    "#exp name and model name an extra are variables, not input arguments for retrieve, \n",
    "# because I need them for plot too :)\n",
    "#the retrieve has the filter for experiment_name, model_name, extra\n",
    "#the plot has no filter because it is hard :-: maybe in the future\n",
    "#If you specified an argument in the retrieve it wont show in the label, so \n",
    "#add it to the title when plotting. \n",
    "\n",
    "\n",
    "import matplotlib.pyplot as plt \n",
    "import pandas as pd\n",
    "from utils.config import RESULTS_DIRECTORY\n",
    "import numpy as np\n",
    "from utils.helpers import retrieve_results\n",
    "import itertools\n",
    "\n",
    "resdf = retrieve_results(experiment_name=\"Test_plots\",model_name=\"TinyVGG_1\",extra=\"Hidden_Channels_40_Epochs_6_lr_0.01\")\n",
    "\n",
    "names = iter(resdf[\"Label\"].unique()) # 1 label per feather file\n",
    "colors = plt.rcParams['axes.prop_cycle'].by_key()['color']\n",
    "color_cycle = itertools.cycle(colors)\n",
    "\n",
    "fig,ax = plt.subplots(2,1,figsize=(11,10))\n",
    "\n",
    "ax0 = ax[0].twinx()\n",
    "ax0.get_yaxis().set_visible(False)\n",
    "ax0.get_xaxis().set_visible(False)\n",
    "ax1 = ax[1].twinx()\n",
    "ax1.get_yaxis().set_visible(False)\n",
    "ax1.get_xaxis().set_visible(False)\n",
    "\n",
    "ax[0].set_title(\"Training and testing accuracy\")\n",
    "ax[1].set_title(\"Training and testing loss\")\n",
    "\n",
    "ax[0].set_ylabel(\"Accuracy\")\n",
    "ax[1].set_ylabel(\"Loss\")\n",
    "ax[0].set_xlabel(\"Epochs\")\n",
    "ax[1].set_xlabel(\"Epochs\")\n",
    "\n",
    "#for dataframe in ...########################################################################\n",
    "\n",
    "col = next(color_cycle)\n",
    "name = next(names)\n",
    "\n",
    "ax[0].plot(resdf[[\"Epoch #\"]],resdf[[\"train_acc\"]],'-',color=col,label=name)\n",
    "ax[0].plot(resdf[[\"Epoch #\"]],resdf[[\"test_acc\"]],'--',color=col) \n",
    "\n",
    "ax[1].plot(resdf[[\"Epoch #\"]],resdf[[\"train_loss\"]],'-',color=col,label=name)\n",
    "ax[1].plot(resdf[[\"Epoch #\"]],resdf[[\"test_loss\"]],'--',color=col)\n",
    "\n",
    "ax[1].legend(loc=1,fontsize=\"small\",bbox_to_anchor=(1, -0.125)) # Legend for colors in loss\n",
    "\n",
    "#out of the for##############################################################################\n",
    "\n",
    "\n",
    "ax0.plot(np.nan,np.nan,'-',label=\"train\",color ='black')\n",
    "ax0.plot(np.nan,np.nan,'--',label=\"test\",color='black')\n",
    "ax0.legend(loc=2) # Legend for train test in acc\n",
    "\n",
    "ax1.plot(np.nan,np.nan,'-',label=\"train\",color ='black') \n",
    "ax1.plot(np.nan,np.nan,'--',label=\"test\",color='black')\n",
    "ax1.legend(loc=3) # Legend for train test in loss\n",
    "\n",
    "#fig.legend(loc=\"center\")\n",
    "\n",
    "plt.show()\n"
   ]
  },
  {
   "cell_type": "code",
   "execution_count": null,
   "id": "62e55278",
   "metadata": {},
   "outputs": [
    {
     "name": "stdout",
     "output_type": "stream",
     "text": [
      "   Hidden_Channels  Epochs     lr  train_loss  train_acc  test_loss  test_acc  \\\n",
      "0               40       6  0.001    2.300779   0.100233   2.297978  0.124023   \n",
      "1               40       6  0.001    2.298735   0.121177   2.295792  0.135742   \n",
      "2               40       6  0.001    2.296610   0.126828   2.293447  0.159180   \n",
      "3               40       6  0.001    2.294279   0.125997   2.290784  0.182617   \n",
      "4               40       6  0.001    2.291416   0.169215   2.287474  0.191406   \n",
      "5               40       6  0.001    2.287872   0.162566   2.283183  0.193359   \n",
      "\n",
      "   Epoch #                                           Label  \n",
      "0        1  TinyVGG_1_Hidden_Channels_40_Epochs_6_lr_0.001  \n",
      "1        2  TinyVGG_1_Hidden_Channels_40_Epochs_6_lr_0.001  \n",
      "2        3  TinyVGG_1_Hidden_Channels_40_Epochs_6_lr_0.001  \n",
      "3        4  TinyVGG_1_Hidden_Channels_40_Epochs_6_lr_0.001  \n",
      "4        5  TinyVGG_1_Hidden_Channels_40_Epochs_6_lr_0.001  \n",
      "5        6  TinyVGG_1_Hidden_Channels_40_Epochs_6_lr_0.001  \n",
      "\n",
      "\n",
      "    Hidden_Channels  Epochs    lr  train_loss  train_acc  test_loss  test_acc  \\\n",
      "6                40       6  0.01    2.293604   0.152593   2.270115  0.282227   \n",
      "7                40       6  0.01    1.957199   0.348238   1.524705  0.520508   \n",
      "8                40       6  0.01    1.071352   0.627660   1.117599  0.539062   \n",
      "9                40       6  0.01    0.863553   0.693484   1.056686  0.626953   \n",
      "10               40       6  0.01    0.759398   0.719249   0.824019  0.695312   \n",
      "11               40       6  0.01    0.695740   0.741190   0.857368  0.674805   \n",
      "\n",
      "    Epoch #                                          Label  \n",
      "6         1  TinyVGG_1_Hidden_Channels_40_Epochs_6_lr_0.01  \n",
      "7         2  TinyVGG_1_Hidden_Channels_40_Epochs_6_lr_0.01  \n",
      "8         3  TinyVGG_1_Hidden_Channels_40_Epochs_6_lr_0.01  \n",
      "9         4  TinyVGG_1_Hidden_Channels_40_Epochs_6_lr_0.01  \n",
      "10        5  TinyVGG_1_Hidden_Channels_40_Epochs_6_lr_0.01  \n",
      "11        6  TinyVGG_1_Hidden_Channels_40_Epochs_6_lr_0.01  \n",
      "\n",
      "\n"
     ]
    }
   ],
   "source": [
    "from utils.helpers import retrieve_results\n",
    "from utils.helpers import plot_results\n",
    "\n",
    "experiment_name = \"Test_plots\"\n",
    "model_name = None \n",
    "extra = None\n",
    "\n",
    "resdf = retrieve_results(experiment_name=\"Test_plots\")#,model_name=\"TinyVGG_1\",extra=\"Hidden_Channels_40_Epochs_6_lr_0.01\")\n"
   ]
  },
  {
   "cell_type": "code",
   "execution_count": null,
   "id": "4dbbd1b3",
   "metadata": {},
   "outputs": [
    {
     "name": "stdout",
     "output_type": "stream",
     "text": [
      "['Test_dataframe', 'Test_plots']\n"
     ]
    }
   ],
   "source": [
    "subfolders = [ f.name for f in os.scandir(RESULTS_DIRECTORY) if f.is_dir()]\n",
    "print(subfolders)"
   ]
  },
  {
   "cell_type": "code",
   "execution_count": 15,
   "id": "3f95544e",
   "metadata": {},
   "outputs": [
    {
     "data": {
      "text/html": [
       "<div>\n",
       "<style scoped>\n",
       "    .dataframe tbody tr th:only-of-type {\n",
       "        vertical-align: middle;\n",
       "    }\n",
       "\n",
       "    .dataframe tbody tr th {\n",
       "        vertical-align: top;\n",
       "    }\n",
       "\n",
       "    .dataframe thead th {\n",
       "        text-align: right;\n",
       "    }\n",
       "</style>\n",
       "<table border=\"1\" class=\"dataframe\">\n",
       "  <thead>\n",
       "    <tr style=\"text-align: right;\">\n",
       "      <th></th>\n",
       "      <th>Hidden_Channels</th>\n",
       "      <th>Epochs</th>\n",
       "      <th>lr</th>\n",
       "      <th>train_loss</th>\n",
       "      <th>train_acc</th>\n",
       "      <th>test_loss</th>\n",
       "      <th>test_acc</th>\n",
       "      <th>Epoch #</th>\n",
       "      <th>Label</th>\n",
       "    </tr>\n",
       "  </thead>\n",
       "  <tbody>\n",
       "    <tr>\n",
       "      <th>0</th>\n",
       "      <td>40</td>\n",
       "      <td>6</td>\n",
       "      <td>0.001</td>\n",
       "      <td>2.300779</td>\n",
       "      <td>0.100233</td>\n",
       "      <td>2.297978</td>\n",
       "      <td>0.124023</td>\n",
       "      <td>1</td>\n",
       "      <td>TinyVGG_1_Hidden_Channels_40_Epochs_6_lr_0.001</td>\n",
       "    </tr>\n",
       "    <tr>\n",
       "      <th>1</th>\n",
       "      <td>40</td>\n",
       "      <td>6</td>\n",
       "      <td>0.001</td>\n",
       "      <td>2.298735</td>\n",
       "      <td>0.121177</td>\n",
       "      <td>2.295792</td>\n",
       "      <td>0.135742</td>\n",
       "      <td>2</td>\n",
       "      <td>TinyVGG_1_Hidden_Channels_40_Epochs_6_lr_0.001</td>\n",
       "    </tr>\n",
       "    <tr>\n",
       "      <th>2</th>\n",
       "      <td>40</td>\n",
       "      <td>6</td>\n",
       "      <td>0.001</td>\n",
       "      <td>2.296610</td>\n",
       "      <td>0.126828</td>\n",
       "      <td>2.293447</td>\n",
       "      <td>0.159180</td>\n",
       "      <td>3</td>\n",
       "      <td>TinyVGG_1_Hidden_Channels_40_Epochs_6_lr_0.001</td>\n",
       "    </tr>\n",
       "    <tr>\n",
       "      <th>3</th>\n",
       "      <td>40</td>\n",
       "      <td>6</td>\n",
       "      <td>0.001</td>\n",
       "      <td>2.294279</td>\n",
       "      <td>0.125997</td>\n",
       "      <td>2.290784</td>\n",
       "      <td>0.182617</td>\n",
       "      <td>4</td>\n",
       "      <td>TinyVGG_1_Hidden_Channels_40_Epochs_6_lr_0.001</td>\n",
       "    </tr>\n",
       "    <tr>\n",
       "      <th>4</th>\n",
       "      <td>40</td>\n",
       "      <td>6</td>\n",
       "      <td>0.001</td>\n",
       "      <td>2.291416</td>\n",
       "      <td>0.169215</td>\n",
       "      <td>2.287474</td>\n",
       "      <td>0.191406</td>\n",
       "      <td>5</td>\n",
       "      <td>TinyVGG_1_Hidden_Channels_40_Epochs_6_lr_0.001</td>\n",
       "    </tr>\n",
       "  </tbody>\n",
       "</table>\n",
       "</div>"
      ],
      "text/plain": [
       "   Hidden_Channels  Epochs     lr  train_loss  train_acc  test_loss  test_acc  \\\n",
       "0               40       6  0.001    2.300779   0.100233   2.297978  0.124023   \n",
       "1               40       6  0.001    2.298735   0.121177   2.295792  0.135742   \n",
       "2               40       6  0.001    2.296610   0.126828   2.293447  0.159180   \n",
       "3               40       6  0.001    2.294279   0.125997   2.290784  0.182617   \n",
       "4               40       6  0.001    2.291416   0.169215   2.287474  0.191406   \n",
       "\n",
       "   Epoch #                                           Label  \n",
       "0        1  TinyVGG_1_Hidden_Channels_40_Epochs_6_lr_0.001  \n",
       "1        2  TinyVGG_1_Hidden_Channels_40_Epochs_6_lr_0.001  \n",
       "2        3  TinyVGG_1_Hidden_Channels_40_Epochs_6_lr_0.001  \n",
       "3        4  TinyVGG_1_Hidden_Channels_40_Epochs_6_lr_0.001  \n",
       "4        5  TinyVGG_1_Hidden_Channels_40_Epochs_6_lr_0.001  "
      ]
     },
     "execution_count": 15,
     "metadata": {},
     "output_type": "execute_result"
    }
   ],
   "source": [
    "resdf.head()"
   ]
  },
  {
   "cell_type": "code",
   "execution_count": null,
   "id": "40003d2e",
   "metadata": {},
   "outputs": [],
   "source": []
  },
  {
   "cell_type": "code",
   "execution_count": null,
   "id": "6e1464b9",
   "metadata": {},
   "outputs": [
    {
     "data": {
      "text/plain": [
       "array([  5.,  10.,  15.,  20.,  25.,  30.,  35.,  40.,  45.,  50.,  55.,\n",
       "        60.,  65.,  70.,  75.,  80.,  85.,  90.,  95., 100.])"
      ]
     },
     "execution_count": 148,
     "metadata": {},
     "output_type": "execute_result"
    }
   ],
   "source": [
    "import numpy as np\n",
    "# To normalize the epochs\n",
    "big = np.array(np.linspace(1,100,100))\n",
    "mid = np.linspace(1,20,20)\n",
    "small = np.array(np.linspace(1,5,5))\n",
    "\n",
    "small = small * 100/5\n",
    "mid = mid * 100/20"
   ]
  },
  {
   "cell_type": "markdown",
   "id": "a150faf1",
   "metadata": {},
   "source": [
    "---------------------------------"
   ]
  },
  {
   "cell_type": "code",
   "execution_count": 3,
   "id": "bad00fc3",
   "metadata": {},
   "outputs": [
    {
     "data": {
      "text/plain": [
       "{'date': '28-08-2025 13:28',\n",
       " 'experiment name': 'Test_new_metadata',\n",
       " 'model name': 'Model_3',\n",
       " 'learning rate': 0.001,\n",
       " 'epochs': 2,\n",
       " 'loss function': 'CrossEntropyLoss',\n",
       " 'optimizer name': 'SGD',\n",
       " 'dataset': 'FashionMNIST',\n",
       " 'training dataset size': 6000,\n",
       " 'testing dataset size': 1000,\n",
       " 'batch size': 32,\n",
       " 'Hyperparams': {'Hidden_Channels': [40], 'Epochs': [2], 'lr': [0.001]},\n",
       " 'optimizer params': {'lr': 0.001,\n",
       "  'momentum': 0,\n",
       "  'dampening': 0,\n",
       "  'weight_decay': 0,\n",
       "  'nesterov': False,\n",
       "  'maximize': False,\n",
       "  'foreach': None,\n",
       "  'differentiable': False,\n",
       "  'fused': None},\n",
       " 'model params': {'layer_1': Sequential(\n",
       "    (0): Conv2d(1, 40, kernel_size=(3, 3), stride=(1, 1))\n",
       "    (1): ReLU()\n",
       "    (2): Conv2d(40, 40, kernel_size=(3, 3), stride=(1, 1))\n",
       "    (3): ReLU()\n",
       "    (4): MaxPool2d(kernel_size=2, stride=2, padding=0, dilation=1, ceil_mode=False)\n",
       "  ),\n",
       "  'layer_2': Sequential(\n",
       "    (0): Conv2d(40, 40, kernel_size=(3, 3), stride=(1, 1))\n",
       "    (1): ReLU()\n",
       "    (2): Conv2d(40, 40, kernel_size=(3, 3), stride=(1, 1))\n",
       "    (3): ReLU()\n",
       "    (4): MaxPool2d(kernel_size=2, stride=2, padding=0, dilation=1, ceil_mode=False)\n",
       "  ),\n",
       "  'layer_3': Sequential(\n",
       "    (0): Flatten(start_dim=1, end_dim=-1)\n",
       "    (1): Linear(in_features=640, out_features=10, bias=True)\n",
       "  )}}"
      ]
     },
     "execution_count": 3,
     "metadata": {},
     "output_type": "execute_result"
    }
   ],
   "source": [
    "from utils.helpers import retrieve_metadata\n",
    "\n",
    "retrieve_metadata(experiment_name=\"Test_new_metadata\",model_name=\"Model_3\",extra=\"Hidden_Channels_40_Epochs_2_lr_0.001\")"
   ]
  },
  {
   "cell_type": "code",
   "execution_count": 231,
   "id": "78c14937",
   "metadata": {},
   "outputs": [
    {
     "data": {
      "text/plain": [
       "dict_keys"
      ]
     },
     "execution_count": 231,
     "metadata": {},
     "output_type": "execute_result"
    }
   ],
   "source": [
    "type(HYPERPARAMETERS.keys())"
   ]
  },
  {
   "cell_type": "code",
   "execution_count": 141,
   "id": "4ad3d6a6",
   "metadata": {},
   "outputs": [
    {
     "ename": "PermissionError",
     "evalue": "[Errno 13] Permission denied: 'c:\\\\Users\\\\oriol\\\\GitHub_Repos\\\\CNN-classification\\\\experiment_logs\\\\results\\\\Test_dataframe\\\\TinyVGG_1\\\\Hidden_Channels_40_Epochs_2_lr_0.01'",
     "output_type": "error",
     "traceback": [
      "\u001b[31m---------------------------------------------------------------------------\u001b[39m",
      "\u001b[31mPermissionError\u001b[39m                           Traceback (most recent call last)",
      "\u001b[36mCell\u001b[39m\u001b[36m \u001b[39m\u001b[32mIn[141]\u001b[39m\u001b[32m, line 6\u001b[39m\n\u001b[32m      3\u001b[39m retrieve_metadata(experiment_name=\u001b[33m\"\u001b[39m\u001b[33mTest_dataframe\u001b[39m\u001b[33m\"\u001b[39m,model_name=\u001b[33m\"\u001b[39m\u001b[33mTinyVGG_1\u001b[39m\u001b[33m\"\u001b[39m,extra=\u001b[33m\"\u001b[39m\u001b[33mHidden_Channels_40_Epochs_2_lr_0.01\u001b[39m\u001b[33m\"\u001b[39m)\n\u001b[32m      4\u001b[39m dataframe_path = os.path.join(RESULTS_DIRECTORY,\u001b[33m\"\u001b[39m\u001b[33mTest_dataframe\u001b[39m\u001b[33m\"\u001b[39m,\u001b[33m\"\u001b[39m\u001b[33mTinyVGG_1\u001b[39m\u001b[33m\"\u001b[39m,\u001b[33m\"\u001b[39m\u001b[33mHidden_Channels_40_Epochs_2_lr_0.01\u001b[39m\u001b[33m\"\u001b[39m)\n\u001b[32m----> \u001b[39m\u001b[32m6\u001b[39m \u001b[43mpd\u001b[49m\u001b[43m.\u001b[49m\u001b[43mread_feather\u001b[49m\u001b[43m(\u001b[49m\u001b[43mdataframe_path\u001b[49m\u001b[43m)\u001b[49m\n",
      "\u001b[36mFile \u001b[39m\u001b[32mc:\\Users\\oriol\\anaconda3\\envs\\pytorch_cu126\\Lib\\site-packages\\pandas\\io\\feather_format.py:119\u001b[39m, in \u001b[36mread_feather\u001b[39m\u001b[34m(path, columns, use_threads, storage_options, dtype_backend)\u001b[39m\n\u001b[32m    115\u001b[39m \u001b[38;5;28;01mimport\u001b[39;00m\u001b[38;5;250m \u001b[39m\u001b[34;01mpandas\u001b[39;00m\u001b[34;01m.\u001b[39;00m\u001b[34;01mcore\u001b[39;00m\u001b[34;01m.\u001b[39;00m\u001b[34;01marrays\u001b[39;00m\u001b[34;01m.\u001b[39;00m\u001b[34;01marrow\u001b[39;00m\u001b[34;01m.\u001b[39;00m\u001b[34;01mextension_types\u001b[39;00m  \u001b[38;5;66;03m# pyright: ignore[reportUnusedImport] # noqa: F401\u001b[39;00m\n\u001b[32m    117\u001b[39m check_dtype_backend(dtype_backend)\n\u001b[32m--> \u001b[39m\u001b[32m119\u001b[39m \u001b[38;5;28;01mwith\u001b[39;00m \u001b[43mget_handle\u001b[49m\u001b[43m(\u001b[49m\n\u001b[32m    120\u001b[39m \u001b[43m    \u001b[49m\u001b[43mpath\u001b[49m\u001b[43m,\u001b[49m\u001b[43m \u001b[49m\u001b[33;43m\"\u001b[39;49m\u001b[33;43mrb\u001b[39;49m\u001b[33;43m\"\u001b[39;49m\u001b[43m,\u001b[49m\u001b[43m \u001b[49m\u001b[43mstorage_options\u001b[49m\u001b[43m=\u001b[49m\u001b[43mstorage_options\u001b[49m\u001b[43m,\u001b[49m\u001b[43m \u001b[49m\u001b[43mis_text\u001b[49m\u001b[43m=\u001b[49m\u001b[38;5;28;43;01mFalse\u001b[39;49;00m\n\u001b[32m    121\u001b[39m \u001b[43m\u001b[49m\u001b[43m)\u001b[49m \u001b[38;5;28;01mas\u001b[39;00m handles:\n\u001b[32m    122\u001b[39m     \u001b[38;5;28;01mif\u001b[39;00m dtype_backend \u001b[38;5;129;01mis\u001b[39;00m lib.no_default \u001b[38;5;129;01mand\u001b[39;00m \u001b[38;5;129;01mnot\u001b[39;00m using_string_dtype():\n\u001b[32m    123\u001b[39m         \u001b[38;5;28;01mreturn\u001b[39;00m feather.read_feather(\n\u001b[32m    124\u001b[39m             handles.handle, columns=columns, use_threads=\u001b[38;5;28mbool\u001b[39m(use_threads)\n\u001b[32m    125\u001b[39m         )\n",
      "\u001b[36mFile \u001b[39m\u001b[32mc:\\Users\\oriol\\anaconda3\\envs\\pytorch_cu126\\Lib\\site-packages\\pandas\\io\\common.py:882\u001b[39m, in \u001b[36mget_handle\u001b[39m\u001b[34m(path_or_buf, mode, encoding, compression, memory_map, is_text, errors, storage_options)\u001b[39m\n\u001b[32m    873\u001b[39m         handle = \u001b[38;5;28mopen\u001b[39m(\n\u001b[32m    874\u001b[39m             handle,\n\u001b[32m    875\u001b[39m             ioargs.mode,\n\u001b[32m   (...)\u001b[39m\u001b[32m    878\u001b[39m             newline=\u001b[33m\"\u001b[39m\u001b[33m\"\u001b[39m,\n\u001b[32m    879\u001b[39m         )\n\u001b[32m    880\u001b[39m     \u001b[38;5;28;01melse\u001b[39;00m:\n\u001b[32m    881\u001b[39m         \u001b[38;5;66;03m# Binary mode\u001b[39;00m\n\u001b[32m--> \u001b[39m\u001b[32m882\u001b[39m         handle = \u001b[38;5;28;43mopen\u001b[39;49m\u001b[43m(\u001b[49m\u001b[43mhandle\u001b[49m\u001b[43m,\u001b[49m\u001b[43m \u001b[49m\u001b[43mioargs\u001b[49m\u001b[43m.\u001b[49m\u001b[43mmode\u001b[49m\u001b[43m)\u001b[49m\n\u001b[32m    883\u001b[39m     handles.append(handle)\n\u001b[32m    885\u001b[39m \u001b[38;5;66;03m# Convert BytesIO or file objects passed with an encoding\u001b[39;00m\n",
      "\u001b[31mPermissionError\u001b[39m: [Errno 13] Permission denied: 'c:\\\\Users\\\\oriol\\\\GitHub_Repos\\\\CNN-classification\\\\experiment_logs\\\\results\\\\Test_dataframe\\\\TinyVGG_1\\\\Hidden_Channels_40_Epochs_2_lr_0.01'"
     ]
    }
   ],
   "source": [
    "from utils.helpers import retrieve_metadata\n",
    "import pandas as pd\n",
    "retrieve_metadata(experiment_name=\"Test_dataframe\",model_name=\"TinyVGG_1\",extra=\"Hidden_Channels_40_Epochs_2_lr_0.01\")\n",
    "dataframe_path = os.path.join(RESULTS_DIRECTORY,\"Test_dataframe\",\"TinyVGG_1\",\"Hidden_Channels_40_Epochs_2_lr_0.01\")\n",
    "\n",
    "pd.read_feather(dataframe_path)"
   ]
  },
  {
   "cell_type": "code",
   "execution_count": 142,
   "id": "cf6c785f",
   "metadata": {},
   "outputs": [
    {
     "data": {
      "text/plain": [
       "[1, 2]"
      ]
     },
     "execution_count": 142,
     "metadata": {},
     "output_type": "execute_result"
    }
   ],
   "source": [
    "A = [1,2,3]\n",
    "A[:-1]"
   ]
  },
  {
   "cell_type": "code",
   "execution_count": null,
   "id": "69e451d5",
   "metadata": {},
   "outputs": [],
   "source": []
  }
 ],
 "metadata": {
  "kernelspec": {
   "display_name": "pytorch_cu126",
   "language": "python",
   "name": "python3"
  },
  "language_info": {
   "codemirror_mode": {
    "name": "ipython",
    "version": 3
   },
   "file_extension": ".py",
   "mimetype": "text/x-python",
   "name": "python",
   "nbconvert_exporter": "python",
   "pygments_lexer": "ipython3",
   "version": "3.12.3"
  }
 },
 "nbformat": 4,
 "nbformat_minor": 5
}
