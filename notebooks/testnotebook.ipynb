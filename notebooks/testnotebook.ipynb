{
 "cells": [
  {
   "cell_type": "markdown",
   "id": "6b2276bd",
   "metadata": {},
   "source": [
    "# SETUP "
   ]
  },
  {
   "cell_type": "code",
   "execution_count": 74,
   "id": "b2721885",
   "metadata": {},
   "outputs": [
    {
     "name": "stdout",
     "output_type": "stream",
     "text": [
      "['c:\\\\Users\\\\oriol\\\\GitHub_Repos\\\\CNN-classification', 'c:\\\\Users\\\\oriol\\\\GitHub_Repos\\\\CNN-classification\\\\utils', 'c:\\\\Users\\\\oriol\\\\anaconda3\\\\envs\\\\pytorch\\\\python312.zip', 'c:\\\\Users\\\\oriol\\\\anaconda3\\\\envs\\\\pytorch\\\\DLLs', 'c:\\\\Users\\\\oriol\\\\anaconda3\\\\envs\\\\pytorch\\\\Lib', 'c:\\\\Users\\\\oriol\\\\anaconda3\\\\envs\\\\pytorch', '', 'c:\\\\Users\\\\oriol\\\\anaconda3\\\\envs\\\\pytorch\\\\Lib\\\\site-packages', 'c:\\\\Users\\\\oriol\\\\anaconda3\\\\envs\\\\pytorch\\\\Lib\\\\site-packages\\\\win32', 'c:\\\\Users\\\\oriol\\\\anaconda3\\\\envs\\\\pytorch\\\\Lib\\\\site-packages\\\\win32\\\\lib', 'c:\\\\Users\\\\oriol\\\\anaconda3\\\\envs\\\\pytorch\\\\Lib\\\\site-packages\\\\Pythonwin']\n"
     ]
    }
   ],
   "source": [
    "import sys\n",
    "import os\n",
    "from pathlib import Path\n",
    "\n",
    "modulepath = Path.cwd().parent / \"utils\"\n",
    "modulepath = str(modulepath)\n",
    "projectpath = Path.cwd().parent\n",
    "projectpath = str(projectpath)\n",
    "if modulepath not in sys.path:\n",
    "    sys.path.insert(0,str(modulepath))\n",
    "if projectpath not in sys.path:\n",
    "    sys.path.insert(0,str(projectpath))  \n",
    "print(sys.path)"
   ]
  },
  {
   "cell_type": "markdown",
   "id": "44888dd4",
   "metadata": {},
   "source": [
    "# TRAIN"
   ]
  },
  {
   "cell_type": "code",
   "execution_count": 283,
   "id": "433b2f8d",
   "metadata": {},
   "outputs": [
    {
     "name": "stdout",
     "output_type": "stream",
     "text": [
      "[INFO] Created SummaryWriter, saving to: c:\\Users\\oriol\\GitHub_Repos\\CNN-classification\\experiment_logs\\runs\\Try_categorical_HP\\TinyVGG_1\\Hidden_Channels_20_Epochs_2_lr_0.1_Iter_2_Size_0.05_Fruit_Oranges...\n",
      "Iteration 1\n"
     ]
    },
    {
     "data": {
      "application/vnd.jupyter.widget-view+json": {
       "model_id": "c55d0160319745c48f12e97244e3d7ba",
       "version_major": 2,
       "version_minor": 0
      },
      "text/plain": [
       "  0%|          | 0/2 [00:00<?, ?it/s]"
      ]
     },
     "metadata": {},
     "output_type": "display_data"
    },
    {
     "name": "stdout",
     "output_type": "stream",
     "text": [
      "Iteration 2\n"
     ]
    },
    {
     "data": {
      "application/vnd.jupyter.widget-view+json": {
       "model_id": "dc78447189854e9b864eaa1efbf1ece6",
       "version_major": 2,
       "version_minor": 0
      },
      "text/plain": [
       "  0%|          | 0/2 [00:00<?, ?it/s]"
      ]
     },
     "metadata": {},
     "output_type": "display_data"
    },
    {
     "name": "stdout",
     "output_type": "stream",
     "text": [
      "[INFO] Created experiment metadata, saving to: c:\\Users\\oriol\\GitHub_Repos\\CNN-classification\\experiment_logs\\results\\Try_categorical_HP\\TinyVGG_1\\Hidden_Channels_20_Epochs_2_lr_0.1_Iter_2_Size_0.05_Fruit_Oranges...\n",
      "[INFO] Saving the above results to: c:\\Users\\oriol\\GitHub_Repos\\CNN-classification\\experiment_logs\\results\\Try_categorical_HP\\TinyVGG_1\\Hidden_Channels_20_Epochs_2_lr_0.1_Iter_2_Size_0.05_Fruit_Oranges\\Results.feather\n",
      "[INFO] Created SummaryWriter, saving to: c:\\Users\\oriol\\GitHub_Repos\\CNN-classification\\experiment_logs\\runs\\Try_categorical_HP\\TinyVGG_1\\Hidden_Channels_20_Epochs_2_lr_0.1_Iter_2_Size_0.05_Fruit_Apples...\n",
      "Iteration 1\n"
     ]
    },
    {
     "data": {
      "application/vnd.jupyter.widget-view+json": {
       "model_id": "ffea4353e4744a3f94f7bb6d73673a7a",
       "version_major": 2,
       "version_minor": 0
      },
      "text/plain": [
       "  0%|          | 0/2 [00:00<?, ?it/s]"
      ]
     },
     "metadata": {},
     "output_type": "display_data"
    },
    {
     "name": "stdout",
     "output_type": "stream",
     "text": [
      "Iteration 2\n"
     ]
    },
    {
     "data": {
      "application/vnd.jupyter.widget-view+json": {
       "model_id": "f622d81b7c5b420c98a5c2630cbbaa7f",
       "version_major": 2,
       "version_minor": 0
      },
      "text/plain": [
       "  0%|          | 0/2 [00:00<?, ?it/s]"
      ]
     },
     "metadata": {},
     "output_type": "display_data"
    },
    {
     "name": "stdout",
     "output_type": "stream",
     "text": [
      "[INFO] Created experiment metadata, saving to: c:\\Users\\oriol\\GitHub_Repos\\CNN-classification\\experiment_logs\\results\\Try_categorical_HP\\TinyVGG_1\\Hidden_Channels_20_Epochs_2_lr_0.1_Iter_2_Size_0.05_Fruit_Apples...\n",
      "[INFO] Saving the above results to: c:\\Users\\oriol\\GitHub_Repos\\CNN-classification\\experiment_logs\\results\\Try_categorical_HP\\TinyVGG_1\\Hidden_Channels_20_Epochs_2_lr_0.1_Iter_2_Size_0.05_Fruit_Apples\\Results.feather\n"
     ]
    }
   ],
   "source": [
    "import torch\n",
    "from torch import nn\n",
    "\n",
    "from utils.engine import train\n",
    "from utils.model_architectures import TinyVGG_1\n",
    "from utils.data_loaders import create_train_test_dataloaders\n",
    "from utils.helpers import create_writer\n",
    "from utils.helpers import create_dataframe\n",
    "from utils.helpers import hyperparameter_combinations\n",
    "from utils.helpers import save_dataframe\n",
    "from utils.helpers import create_and_save_experiment_metadata\n",
    "\n",
    "device = \"cuda\" if torch.cuda.is_available() else \"cpu\"\n",
    "#SEED = 0\n",
    "#torch.manual_seed(SEED)\n",
    "# There are other sources of randomness, so manual_seed does not enable \n",
    "# reproducibility\n",
    "\n",
    "#next(model.parameters()).is_cuda #check if model on cuda\n",
    "#from torchinfo import summary\n",
    "#summary(tvgg,input_size=[32,1,28,28])\n",
    "\n",
    "# A Hyperparameter named Iter controls the number of iterations for a given\n",
    "# set of hyperparameters\n",
    "HYPERPARAMETERS = {'Hidden_Channels': [20],\n",
    "                   'Epochs': [2],\n",
    "                   'lr': [0.1],\n",
    "                   'Iter': [2],\n",
    "                   'Size': [0.05],\n",
    "                   'Fruit': [\"Oranges\",\"Apples\"]\n",
    "                   }\n",
    "\n",
    "experiment_name = \"Try_categorical_HP\"\n",
    "hp_combinations = hyperparameter_combinations(HYPERPARAMETERS)\n",
    "hp_keys = HYPERPARAMETERS.keys()\n",
    "\n",
    "for combination in hp_combinations:\n",
    "    HIDDEN_CHANNELS = combination[\"Hidden_Channels\"]\n",
    "    NUM_EPOCHS = combination[\"Epochs\"]\n",
    "    LR = combination[\"lr\"]\n",
    "        # HIDDEN_CHANNELS, NUM_EPOCHS, LR have to be specified, cannot be none\n",
    "    ITER = combination[\"Iter\"] if \"Iter\" in hp_keys else None \n",
    "        # ITER Defaults to 1 when None\n",
    "    SIZE = combination[\"Size\"] if \"Size\" in hp_keys else None \n",
    "        # SIZE Defaults to 1.0 when None\n",
    "\n",
    "    train_dataloader, test_dataloader = create_train_test_dataloaders(size=SIZE) #type: ignore\n",
    "\n",
    "    # create multiple models and optimizers, one pair for every iteration\n",
    "    model_0 = []\n",
    "    optimizer_0 = []\n",
    "    if ITER:\n",
    "        n_iters = ITER\n",
    "    else:\n",
    "        n_iters = 1\n",
    "    for n in range(n_iters):\n",
    "        mod = TinyVGG_1(input_shape=1,hidden_channels=HIDDEN_CHANNELS,output_shape=10).to(device)\n",
    "        model_0.append(mod)\n",
    "        optimizer_0.append(torch.optim.SGD(params=mod.parameters(),lr=LR))\n",
    "\n",
    "    loss_fn = nn.CrossEntropyLoss()\n",
    "\n",
    "    model_name = model_0[0]._get_name()\n",
    "    #model_name = \"Model_3\"\n",
    "\n",
    "    extra = \"\"\n",
    "    namelist = [str(key)+\"_\"+str(val)+\"_\" for key,val in combination.items()]\n",
    "    for elem in namelist:\n",
    "        extra += elem\n",
    "    extra = extra[:-1]\n",
    "\n",
    "    # Create a writer to save results to tensorboard\n",
    "    writer = create_writer(experiment_name=experiment_name,\n",
    "                           model_name=model_name,\n",
    "                           extra=extra)\n",
    "    # Train the model for a number of epochs and log the results to tensorboard\n",
    "    results = train(model=model_0,\n",
    "                    train_dataloader=train_dataloader,\n",
    "                    test_dataloader=test_dataloader,\n",
    "                    optimizer=optimizer_0,\n",
    "                    loss_fn=loss_fn,\n",
    "                    epochs=NUM_EPOCHS,\n",
    "                    iters=ITER,\n",
    "                    writer=writer)\n",
    "    # Store additional information on the experiment\n",
    "    create_and_save_experiment_metadata(experiment_name=experiment_name,\n",
    "                                        model_name=model_name,\n",
    "                                        extra=extra,\n",
    "                                        train_dataloader=train_dataloader,\n",
    "                                        test_dataloader=test_dataloader,\n",
    "                                        model=model_0[0],\n",
    "                                        optimizer=optimizer_0[0],\n",
    "                                        loss_fn=loss_fn,\n",
    "                                        epochs=NUM_EPOCHS,\n",
    "                                        hyperparameters_combination=combination\n",
    "                                        )\n",
    "    # Store the results of the accuracy and loss as a dataframe\n",
    "    df = create_dataframe(results=results,\n",
    "                          hyperparameters_combination=combination)\n",
    "    save_dataframe(df=df,\n",
    "                   model_name=model_name,\n",
    "                   experiment_name=experiment_name,\n",
    "                   extra=extra)\n"
   ]
  },
  {
   "cell_type": "markdown",
   "id": "e66fd541",
   "metadata": {},
   "source": [
    "# METADATA"
   ]
  },
  {
   "cell_type": "code",
   "execution_count": 3,
   "id": "509914f9",
   "metadata": {},
   "outputs": [],
   "source": [
    "def print_metadata(md):\n",
    "    for key,value in zip(md.keys(),md.values()):\n",
    "        print(f\"{key}: {value}\")"
   ]
  },
  {
   "cell_type": "code",
   "execution_count": null,
   "id": "7de7e0f7",
   "metadata": {},
   "outputs": [],
   "source": [
    "from utils.helpers import retrieve_metadata\n",
    "\n",
    "md_t3m = retrieve_metadata(experiment_name=\"Test_3_Models\",model_name=\"TinyVGG_1\",extra=\"Hidden_Channels_30_Epochs_3_lr_0.1_Iter_2_Size_0.11\")"
   ]
  },
  {
   "cell_type": "code",
   "execution_count": 9,
   "id": "b6dcd3a8",
   "metadata": {},
   "outputs": [
    {
     "name": "stdout",
     "output_type": "stream",
     "text": [
      "date: 16-09-2025 00:32\n",
      "experiment name: Test_3_models\n",
      "model name: TinyVGG_1\n",
      "learning rate: 0.1\n",
      "epochs: 3\n",
      "loss function: CrossEntropyLoss\n",
      "optimizer name: SGD\n",
      "dataset: FashionMNIST\n",
      "training dataset size: 6600\n",
      "testing dataset size: 1100\n",
      "batch size: 32\n",
      "Hyperparams: {'Hidden_Channels': 30, 'Epochs': 3, 'lr': 0.1, 'Iter': 2, 'Size': 0.11}\n",
      "optimizer params: {'lr': 0.1, 'momentum': 0, 'dampening': 0, 'weight_decay': 0, 'nesterov': False, 'maximize': False, 'foreach': None, 'differentiable': False, 'fused': None}\n",
      "model params: {'layer_1': Sequential(\n",
      "  (0): Conv2d(1, 30, kernel_size=(3, 3), stride=(1, 1))\n",
      "  (1): ReLU()\n",
      "  (2): Conv2d(30, 30, kernel_size=(3, 3), stride=(1, 1))\n",
      "  (3): ReLU()\n",
      "  (4): MaxPool2d(kernel_size=2, stride=2, padding=0, dilation=1, ceil_mode=False)\n",
      "), 'layer_2': Sequential(\n",
      "  (0): Conv2d(30, 30, kernel_size=(3, 3), stride=(1, 1))\n",
      "  (1): ReLU()\n",
      "  (2): Conv2d(30, 30, kernel_size=(3, 3), stride=(1, 1))\n",
      "  (3): ReLU()\n",
      "  (4): MaxPool2d(kernel_size=2, stride=2, padding=0, dilation=1, ceil_mode=False)\n",
      "), 'layer_3': Sequential(\n",
      "  (0): Flatten(start_dim=1, end_dim=-1)\n",
      "  (1): Linear(in_features=480, out_features=10, bias=True)\n",
      ")}\n"
     ]
    }
   ],
   "source": [
    "print_metadata(md_t3m)"
   ]
  },
  {
   "cell_type": "markdown",
   "id": "7868fb2c",
   "metadata": {},
   "source": [
    "# Trial and error"
   ]
  },
  {
   "cell_type": "code",
   "execution_count": 114,
   "id": "e263c66a",
   "metadata": {},
   "outputs": [
    {
     "name": "stdout",
     "output_type": "stream",
     "text": [
      "[INFO] Retrieving results from c:\\Users\\oriol\\GitHub_Repos\\CNN-classification\\experiment_logs\\results\n"
     ]
    }
   ],
   "source": [
    "from utils.helpers import retrieve_results\n",
    "from scipy.stats import pearsonr\n",
    "import pandas as pd\n",
    "from sklearn.ensemble import RandomForestRegressor\n",
    "from sklearn.inspection import permutation_importance\n",
    "#results = retrieve_results(experiment_name=\"Big_sweep\")\n",
    "results = retrieve_results()\n",
    "grouped_res = results.groupby([\"Experiment_name\",\"Model_name\"])\n",
    "exp_mod_pairs = list(grouped_res.indices.keys())\n"
   ]
  },
  {
   "cell_type": "code",
   "execution_count": null,
   "id": "6e72382b",
   "metadata": {},
   "outputs": [
    {
     "name": "stdout",
     "output_type": "stream",
     "text": [
      "['Big_sweep' 'lr_sweep_size_01' 'New_model' 'New_model_2' 'Test_3_models'\n",
      " 'Test_Iter' 'Test_list_1_models' 'Test_list_3_models' 'Test_new_plots_1'\n",
      " 'Test_new_plots_2' 'Test_single_model']\n",
      "dict_keys([('Big_sweep', 'TinyVGG_1'), ('New_model', 'Model_2'), ('New_model_2', 'Model_3'), ('Test_3_models', 'TinyVGG_1'), ('Test_Iter', 'TinyVGG_1'), ('Test_list_1_models', 'TinyVGG_1'), ('Test_list_3_models', 'TinyVGG_1'), ('Test_new_plots_1', 'TinyVGG_1'), ('Test_new_plots_2', 'TinyVGG_1'), ('Test_single_model', 'TinyVGG_1'), ('lr_sweep_size_01', 'TinyVGG_1')])\n"
     ]
    },
    {
     "data": {
      "text/plain": [
       "False"
      ]
     },
     "execution_count": 222,
     "metadata": {},
     "output_type": "execute_result"
    }
   ],
   "source": [
    "#print(results[\"Experiment_name\"].unique())\n",
    "#print(grouped_res.indices.keys())\n",
    "#grouped_res.get_group((\"Big_sweep\",\"TinyVGG_1\"))\n",
    "#(\"Big_sweep\",\"TinyVGG_1\") in grouped_res.indices.keys()"
   ]
  },
  {
   "cell_type": "code",
   "execution_count": 266,
   "id": "1ee1de31",
   "metadata": {},
   "outputs": [],
   "source": [
    "exps = ['Big_sweep', 'lr_sweep_size_01', 'New_model']\n",
    "mods = ['TinyVGG_1','Model_2']\n",
    "importance_database = {}\n",
    "for exp in exps:\n",
    "    for mod in mods:\n",
    "        if (exp,mod) in exp_mod_pairs:\n",
    "            df = grouped_res.get_group((exp,mod))\n",
    "            col_y = \"train_loss\"\n",
    "            col_X = df.columns.to_list()[0:df.columns.to_list().index(\"train_loss\")] #type:ignore\n",
    "            col_X.remove(\"Iter\")\n",
    "            col_X.append(\"Epoch #\")\n",
    "            col_X[:] = [col for col in col_X if len(df[col].unique())>1]\n",
    "            X = df[col_X]       #type:ignore\n",
    "            y = df[[col_y]]     #type:ignore\n",
    "            r,p = pearsonr(X,y)\n",
    "            #print(f\"{col_X}\\n{r}\\n{p}\")\n",
    "            randomForest = RandomForestRegressor(n_estimators=100,\n",
    "                                                 bootstrap=True,\n",
    "                                                 criterion='squared_error',\n",
    "                                                 random_state=0)\n",
    "            #y.shape\n",
    "            randomForest.fit(X, y[col_y])\n",
    "            #pochoimportance = randomForest.feature_importances_\n",
    "            importance = permutation_importance(randomForest,\n",
    "                                                X,y,\n",
    "                                                random_state=0,n_repeats=20)\n",
    "            importance_database.update(\n",
    "                {exp:{mod:{\"Hyperparameters\":col_X,\n",
    "                           \"Correlation\":r,\n",
    "                           \"p-value\":p,\n",
    "                           \"Importance\":importance[\"importances_mean\"]/sum(importance[\"importances_mean\"]),\n",
    "                           \"Uncertainty\":importance[\"importances_std\"]}}})\n",
    "            "
   ]
  },
  {
   "cell_type": "code",
   "execution_count": null,
   "id": "7a07d666",
   "metadata": {},
   "outputs": [
    {
     "name": "stderr",
     "output_type": "stream",
     "text": [
      "C:\\Users\\oriol\\AppData\\Local\\Temp\\ipykernel_33016\\4241756515.py:26: SettingWithCopyWarning: \n",
      "A value is trying to be set on a copy of a slice from a DataFrame.\n",
      "Try using .loc[row_indexer,col_indexer] = value instead\n",
      "\n",
      "See the caveats in the documentation: https://pandas.pydata.org/pandas-docs/stable/user_guide/indexing.html#returning-a-view-versus-a-copy\n",
      "  df[hp] = pd.factorize( df[hp] )[0]\n"
     ]
    }
   ],
   "source": [
    "from pandas.api.types import is_object_dtype\n",
    "\n",
    "importance_database = {}\n",
    "for exp,mod in grouped_res.indices.keys():#type:ignore\n",
    "    df = grouped_res.get_group((exp,mod))\n",
    "    col_y = \"train_loss\"\n",
    "    col_X = df.columns.to_list()[0:df.columns.to_list().index(\"train_loss\")] #type:ignore\n",
    "    col_X.remove(\"Iter\")\n",
    "    col_X.append(\"Epoch #\")\n",
    "    # Hyperparameters assessed are all HP that change in value, except for Iter, \n",
    "    # and adding Epoch # \n",
    "    col_X[:] = [col for col in col_X if len(df[col].unique())>1]\n",
    "    if col_X == []:\n",
    "        importance_database.update({exp:{mod:{\"Hyperparameters\":[],\n",
    "                                              \"Correlation\":[],\n",
    "                                              \"p-value\":[],\n",
    "                                              \"Importance\":[],\n",
    "                                              \"Uncertainty\":[] }}})\n",
    "        continue\n",
    "\n",
    "\n",
    "    # if any of the hyperparameters is categorical we drop it since both tests \n",
    "    # are for numeric variables\n",
    "    for hp in col_X:\n",
    "        if is_object_dtype(df.loc[:,hp]):    \n",
    "            col_X.remove(hp)\n",
    "    X = df[col_X]       #type:ignore\n",
    "    y = df[[col_y]]     #type:ignore\n",
    "\n",
    "    r,p = pearsonr(X,y)\n",
    "\n",
    "    randomForest = RandomForestRegressor(n_estimators=100,\n",
    "                                         bootstrap=True,\n",
    "                                         criterion='squared_error',\n",
    "                                         random_state=0)\n",
    "    randomForest.fit(X, y[col_y])\n",
    "    #pochoimportance = randomForest.feature_importances_\n",
    "    importance = permutation_importance(randomForest,\n",
    "                                        X,y,\n",
    "                                        random_state=0,n_repeats=20)\n",
    "    importance_database.update(\n",
    "        {exp:{mod:{\"Hyperparameters\":col_X,\n",
    "                    \"Correlation\":r,\n",
    "                    \"p-value\":p,\n",
    "                    \"Importance\":importance[\"importances_mean\"]/sum(importance[\"importances_mean\"]),#type:ignore\n",
    "                    \"Uncertainty\":importance[\"importances_std\"]}}})\n",
    "\n",
    "\n"
   ]
  },
  {
   "cell_type": "code",
   "execution_count": null,
   "id": "99ea2709",
   "metadata": {},
   "outputs": [
    {
     "data": {
      "text/plain": [
       "{'TinyVGG_1': {'Hyperparameters': ['Fruit', 'Epoch #'],\n",
       "  'Correlation': array([ 0.35063269, -0.8371732 ]),\n",
       "  'p-value': array([0.39446119, 0.00951734]),\n",
       "  'Importance': array([0.19698768, 0.80301232]),\n",
       "  'Uncertainty': array([0.1338827, 0.7205968])}}"
      ]
     },
     "execution_count": 139,
     "metadata": {},
     "output_type": "execute_result"
    }
   ],
   "source": [
    "importance_database[\"Try_categorical_HP\"]\n",
    "\n"
   ]
  },
  {
   "cell_type": "code",
   "execution_count": 269,
   "id": "10ff0990",
   "metadata": {},
   "outputs": [
    {
     "name": "stdout",
     "output_type": "stream",
     "text": [
      "0\n",
      "10\n",
      "1\n"
     ]
    }
   ],
   "source": [
    "\n",
    "for exp in exps:\n",
    "    for mod in mods:\n",
    "        if (exp,mod) in exp_mod_pairs:\n",
    "            print(exp_mod_pairs.index((exp,mod)))\n",
    "            #print(importance_database[exp][mod][\"Correlation\"])"
   ]
  },
  {
   "cell_type": "code",
   "execution_count": null,
   "id": "a93975a3",
   "metadata": {},
   "outputs": [
    {
     "data": {
      "text/plain": [
       "[4, [], [], [], []]"
      ]
     },
     "execution_count": 282,
     "metadata": {},
     "output_type": "execute_result"
    }
   ],
   "source": [
    "A = [[],[],[],[],[]]\n",
    "A[0] = 4\n"
   ]
  },
  {
   "cell_type": "code",
   "execution_count": 185,
   "id": "0e8d8b0a",
   "metadata": {},
   "outputs": [],
   "source": [
    "col_y = \"train_acc\"\n",
    "col_X = results.columns.to_list()[0:results.columns.to_list().index(\"train_loss\")] #type:ignore\n",
    "# train loss is to separate HP, has nothing to do with col_y, they just happen to be the same\n",
    "# col_y could be train_acc, test_loss...\n",
    "col_X.remove(\"Iter\")    # Iter has no importance since it generates statistically independent repetitions of a model\n",
    "#col_X.remove(\"Epochs\") # Keep epochs since it gives an idea of how relevant different total number of epochs are\n",
    "col_X.append(\"Epoch #\") # Adding Epoch # to see how it compares to Epochs\n",
    "col_X[:] = [col for col in col_X if len(results[col].unique())>1] #type:ignore\n",
    "# removes columns that only have one possible value since they cannot have an effect on importance or correlation \n"
   ]
  },
  {
   "cell_type": "code",
   "execution_count": 186,
   "id": "99d211ed",
   "metadata": {},
   "outputs": [],
   "source": [
    "X = results[col_X]      #type:ignore\n",
    "y = results[[col_y]]      #type:ignore"
   ]
  },
  {
   "cell_type": "code",
   "execution_count": 187,
   "id": "e4e84833",
   "metadata": {},
   "outputs": [
    {
     "name": "stdout",
     "output_type": "stream",
     "text": [
      "['Hidden_Channels', 'Epochs', 'lr', 'Epoch #']\n",
      "[0.0541088  0.06256874 0.83313685 0.35297202]\n",
      "[5.47335485e-01 4.86419352e-01 1.08783227e-33 5.03725359e-05]\n"
     ]
    }
   ],
   "source": [
    "r,p = pearsonr(X,y)\n",
    "print(f\"{col_X}\\n{r}\\n{p}\")"
   ]
  },
  {
   "cell_type": "code",
   "execution_count": null,
   "id": "b5dbcb64",
   "metadata": {},
   "outputs": [],
   "source": []
  },
  {
   "cell_type": "code",
   "execution_count": 192,
   "id": "b22dff21",
   "metadata": {},
   "outputs": [],
   "source": [
    "randomForest = RandomForestRegressor(n_estimators=100,bootstrap=True,criterion='squared_error',random_state=0) #check args\n",
    "#y.shape\n",
    "randomForest.fit(X, y[col_y])\n",
    "#pochoimportance = randomForest.feature_importances_\n",
    "importance = permutation_importance(randomForest,X,y,random_state=0,n_repeats=10)"
   ]
  },
  {
   "cell_type": "code",
   "execution_count": 193,
   "id": "19836647",
   "metadata": {},
   "outputs": [
    {
     "data": {
      "text/plain": [
       "{'importances_mean': array([0.04101797, 0.01339657, 1.65737602, 0.53282938]),\n",
       " 'importances_std': array([0.00556885, 0.00347224, 0.12763871, 0.08050309]),\n",
       " 'importances': array([[0.03276973, 0.03803908, 0.0479374 , 0.04540232, 0.04566939,\n",
       "         0.03636471, 0.0370485 , 0.03421748, 0.04771234, 0.04501874],\n",
       "        [0.01681941, 0.01559143, 0.01138419, 0.01167541, 0.00784778,\n",
       "         0.01798934, 0.01649025, 0.01642945, 0.01073027, 0.00900813],\n",
       "        [1.53891331, 1.84342399, 1.76183568, 1.4820419 , 1.72301287,\n",
       "         1.78415167, 1.55429295, 1.55812722, 1.78982014, 1.53814042],\n",
       "        [0.70751199, 0.4812686 , 0.62431983, 0.44708949, 0.49466967,\n",
       "         0.55489323, 0.4814323 , 0.51667142, 0.58108791, 0.4393494 ]])}"
      ]
     },
     "execution_count": 193,
     "metadata": {},
     "output_type": "execute_result"
    }
   ],
   "source": [
    "importance\n",
    "#pochoimportance"
   ]
  },
  {
   "cell_type": "code",
   "execution_count": 194,
   "id": "1876e37d",
   "metadata": {},
   "outputs": [
    {
     "data": {
      "text/plain": [
       "Text(0.5, 1.0, 'Importance')"
      ]
     },
     "execution_count": 194,
     "metadata": {},
     "output_type": "execute_result"
    },
    {
     "data": {
      "image/png": "[encoded data removed]",
      "text/plain": [
       "<Figure size 640x480 with 1 Axes>"
      ]
     },
     "metadata": {},
     "output_type": "display_data"
    }
   ],
   "source": [
    "import matplotlib.pyplot as plt\n",
    "plt.barh(y=col_X,width=importance[\"importances_mean\"],xerr=importance[\"importances_std\"])\n",
    "plt.title(\"Importance\")"
   ]
  },
  {
   "cell_type": "code",
   "execution_count": 176,
   "id": "0b3df5ea",
   "metadata": {},
   "outputs": [],
   "source": [
    "pochoimportance = randomForest.feature_importances_"
   ]
  },
  {
   "cell_type": "code",
   "execution_count": null,
   "id": "8365356f",
   "metadata": {},
   "outputs": [
    {
     "data": {
      "text/plain": [
       "<BarContainer object of 4 artists>"
      ]
     },
     "execution_count": 178,
     "metadata": {},
     "output_type": "execute_result"
    },
    {
     "data": {
      "image/png": "[encoded data removed]",
      "text/plain": [
       "<Figure size 640x480 with 1 Axes>"
      ]
     },
     "metadata": {},
     "output_type": "display_data"
    }
   ],
   "source": [
    "plt.barh(y=col_X,width=pochoimportance)\n",
    "# flatten exps =>[]...\n",
    "\n",
    "# create group by exp mod at startup\n",
    "\n",
    "\n",
    "\n",
    "\n",
    "# in tab 3 create identical exp and mod selectors, except they have different \n",
    "# ids and they dont save results\n",
    "\n",
    "# when these new selectors are changed, trigger an alternate render function and \n",
    "# render tab 3 using selected mods and exps\n",
    "\n",
    "# then access they group by with the key provided by the inputs and calculate\n",
    "# importance and correlation\n",
    "\n",
    "# store the importance and allat if it is the first time\n",
    "\n",
    "\n",
    "\n",
    "# render the exp mods in the render callback\n"
   ]
  },
  {
   "cell_type": "code",
   "execution_count": 264,
   "id": "0ad69851",
   "metadata": {},
   "outputs": [
    {
     "data": {
      "text/plain": [
       "{'importances_mean': array([0.576]),\n",
       " 'importances_std': array([0.87985453]),\n",
       " 'importances': array([[1.92, 0.  , 0.  , 1.92, 1.92, 0.  , 0.  , 0.  , 0.  , 0.  , 0.  ,\n",
       "         0.  , 0.  , 0.  , 0.  , 1.92, 0.  , 1.92, 0.  , 1.92]])}"
      ]
     },
     "execution_count": 264,
     "metadata": {},
     "output_type": "execute_result"
    }
   ],
   "source": [
    "importance"
   ]
  },
  {
   "cell_type": "code",
   "execution_count": 287,
   "id": "68bb5a47",
   "metadata": {},
   "outputs": [
    {
     "data": {
      "text/plain": [
       "[True, True, False, False]"
      ]
     },
     "execution_count": 287,
     "metadata": {},
     "output_type": "execute_result"
    }
   ],
   "source": [
    "import numpy as np\n",
    "A = [\"Apple\",\"Orange\",np.nan,np.nan]\n",
    "is_str = [isinstance(val,str) for val in A]\n",
    "is_str\n",
    "\n"
   ]
  },
  {
   "cell_type": "code",
   "execution_count": 299,
   "id": "0d9ba756",
   "metadata": {},
   "outputs": [],
   "source": [
    "import pandas as pd\n",
    "\n",
    "da = pd.DataFrame({\"A\":[\"Apple\",\"Orange\",1,2]})"
   ]
  },
  {
   "cell_type": "code",
   "execution_count": 300,
   "id": "61b89674",
   "metadata": {},
   "outputs": [
    {
     "data": {
      "text/plain": [
       "0     Apple\n",
       "1    Orange\n",
       "2         1\n",
       "3         2\n",
       "Name: A, dtype: object"
      ]
     },
     "execution_count": 300,
     "metadata": {},
     "output_type": "execute_result"
    }
   ],
   "source": [
    "da[\"A\"].fillna(\"Not specified\")"
   ]
  },
  {
   "cell_type": "code",
   "execution_count": 303,
   "id": "5c32233e",
   "metadata": {},
   "outputs": [
    {
     "name": "stdout",
     "output_type": "stream",
     "text": [
      "[INFO] retrieving results from c:\\Users\\oriol\\GitHub_Repos\\CNN-classification\\experiment_logs\\results\n"
     ]
    }
   ],
   "source": [
    "from utils.helpers import retrieve_results\n",
    "\n",
    "results = retrieve_results()\n",
    "grouped_exp_mod = results.groupby([\"Experiment_name\",\"Model_name\"])"
   ]
  },
  {
   "cell_type": "code",
   "execution_count": null,
   "id": "220f5195",
   "metadata": {},
   "outputs": [
    {
     "name": "stdout",
     "output_type": "stream",
     "text": [
      "     Size  Coolness Fruit\n",
      "0    0.05       NaN   NaN\n",
      "1    0.05       NaN   NaN\n",
      "2    0.05       NaN   NaN\n",
      "3    0.05       NaN   NaN\n",
      "4    0.05       NaN   NaN\n",
      "..    ...       ...   ...\n",
      "121  0.05       NaN   NaN\n",
      "122  0.05       NaN   NaN\n",
      "123  0.05       NaN   NaN\n",
      "124  0.05       NaN   NaN\n",
      "125  0.05       NaN   NaN\n",
      "\n",
      "[126 rows x 3 columns]\n",
      "     Size  Coolness Fruit\n",
      "216   NaN       NaN   NaN\n",
      "217   NaN       NaN   NaN\n",
      "     Size  Coolness Fruit\n",
      "218   NaN       NaN   NaN\n",
      "219   NaN       NaN   NaN\n",
      "220   NaN     100.0   NaN\n",
      "221   NaN     100.0   NaN\n",
      "     Size  Coolness Fruit\n",
      "222  0.11       NaN   NaN\n",
      "223  0.11       NaN   NaN\n",
      "224  0.11       NaN   NaN\n",
      "225  0.11       NaN   NaN\n",
      "226  0.11       NaN   NaN\n",
      "227  0.11       NaN   NaN\n",
      "228  0.10       NaN   NaN\n",
      "229  0.10       NaN   NaN\n",
      "230  0.10       NaN   NaN\n",
      "231  0.10       NaN   NaN\n",
      "232  0.10       NaN   NaN\n",
      "233  0.10       NaN   NaN\n",
      "234  0.10       NaN   NaN\n",
      "235  0.10       NaN   NaN\n",
      "236  0.10       NaN   NaN\n",
      "237  0.10       NaN   NaN\n",
      "238  0.10       NaN   NaN\n",
      "239  0.10       NaN   NaN\n",
      "     Size  Coolness Fruit\n",
      "240   NaN       NaN   NaN\n",
      "241   NaN       NaN   NaN\n",
      "242   NaN       NaN   NaN\n",
      "243   NaN       NaN   NaN\n",
      "244   NaN       NaN   NaN\n",
      "245   NaN       NaN   NaN\n",
      "     Size  Coolness Fruit\n",
      "246   0.1       NaN   NaN\n",
      "247   0.1       NaN   NaN\n",
      "248   0.1       NaN   NaN\n",
      "     Size  Coolness Fruit\n",
      "249   0.1       NaN   NaN\n",
      "250   0.1       NaN   NaN\n",
      "251   0.1       NaN   NaN\n",
      "252   0.1       NaN   NaN\n",
      "253   0.1       NaN   NaN\n",
      "254   0.1       NaN   NaN\n",
      "255   0.1       NaN   NaN\n",
      "256   0.1       NaN   NaN\n",
      "257   0.1       NaN   NaN\n",
      "     Size  Coolness Fruit\n",
      "258   NaN       NaN   NaN\n",
      "259   NaN       NaN   NaN\n",
      "260   NaN       NaN   NaN\n",
      "261   NaN       NaN   NaN\n",
      "262   NaN       NaN   NaN\n",
      "263   NaN       NaN   NaN\n",
      "264   NaN       NaN   NaN\n",
      "265   NaN       NaN   NaN\n",
      "266   NaN       NaN   NaN\n",
      "267   NaN       NaN   NaN\n",
      "268   NaN       NaN   NaN\n",
      "269   NaN       NaN   NaN\n",
      "270   NaN       NaN   NaN\n",
      "271   NaN       NaN   NaN\n",
      "272   NaN       NaN   NaN\n",
      "273   NaN       NaN   NaN\n",
      "274   NaN       NaN   NaN\n",
      "275   NaN       NaN   NaN\n",
      "276   NaN       NaN   NaN\n",
      "277   NaN       NaN   NaN\n",
      "     Size  Coolness Fruit\n",
      "278   NaN       NaN   NaN\n",
      "279   NaN       NaN   NaN\n",
      "280   NaN       NaN   NaN\n",
      "281   NaN       NaN   NaN\n",
      "282   NaN       NaN   NaN\n",
      "283   NaN       NaN   NaN\n",
      "284   NaN       NaN   NaN\n",
      "285   NaN       NaN   NaN\n",
      "286   NaN       NaN   NaN\n",
      "287   NaN       NaN   NaN\n",
      "     Size  Coolness Fruit\n",
      "288   0.1       NaN   NaN\n",
      "289   0.1       NaN   NaN\n",
      "290   0.1       NaN   NaN\n",
      "     Size  Coolness    Fruit\n",
      "291  0.05       NaN   Apples\n",
      "292  0.05       NaN   Apples\n",
      "293  0.05       NaN   Apples\n",
      "294  0.05       NaN   Apples\n",
      "295  0.05       NaN  Oranges\n",
      "296  0.05       NaN  Oranges\n",
      "297  0.05       NaN  Oranges\n",
      "298  0.05       NaN  Oranges\n",
      "     Size  Coolness Fruit\n",
      "126   0.1       NaN   NaN\n",
      "127   0.1       NaN   NaN\n",
      "128   0.1       NaN   NaN\n",
      "129   0.1       NaN   NaN\n",
      "130   0.1       NaN   NaN\n",
      "..    ...       ...   ...\n",
      "211   0.1       NaN   NaN\n",
      "212   0.1       NaN   NaN\n",
      "213   0.1       NaN   NaN\n",
      "214   0.1       NaN   NaN\n",
      "215   0.1       NaN   NaN\n",
      "\n",
      "[90 rows x 3 columns]\n"
     ]
    }
   ],
   "source": [
    "for idx in grouped_exp_mod.indices:\n",
    "    df = grouped_exp_mod.get_group(idx)\n",
    "    "
   ]
  },
  {
   "cell_type": "code",
   "execution_count": 307,
   "id": "b6f43285",
   "metadata": {},
   "outputs": [
    {
     "data": {
      "text/plain": [
       "{'Big_sweep': {'TinyVGG_1': {'Hyperparameters': ['Hidden_Channels',\n",
       "    'Epochs',\n",
       "    'lr',\n",
       "    'Epoch #'],\n",
       "   'Correlation': array([-0.05293559, -0.07230701, -0.82156094, -0.32461589]),\n",
       "   'p-value': array([5.56068170e-01, 4.21045311e-01, 4.76380539e-32, 2.08543109e-04]),\n",
       "   'Importance': array([0.01325218, 0.00218998, 0.73222456, 0.25233328]),\n",
       "   'Uncertainty': array([0.00642788, 0.00154759, 0.19189463, 0.07965817])}},\n",
       " 'lr_sweep_size_01': {'TinyVGG_1': {'Hyperparameters': ['lr', 'Epoch #'],\n",
       "   'Correlation': array([-0.58087135, -0.20760685]),\n",
       "   'p-value': array([1.95028280e-09, 4.95939983e-02]),\n",
       "   'Importance': array([0.88652433, 0.11347567]),\n",
       "   'Uncertainty': array([0.15825859, 0.02688173])}},\n",
       " 'New_model': {'Model_2': {'Hyperparameters': ['Epoch #'],\n",
       "   'Correlation': array([-1.]),\n",
       "   'p-value': array([1.]),\n",
       "   'Importance': array([1.]),\n",
       "   'Uncertainty': array([0.87985453])}}}"
      ]
     },
     "execution_count": 307,
     "metadata": {},
     "output_type": "execute_result"
    }
   ],
   "source": [
    "importance_database"
   ]
  },
  {
   "cell_type": "code",
   "execution_count": 310,
   "id": "b709a21a",
   "metadata": {},
   "outputs": [
    {
     "data": {
      "text/plain": [
       "0"
      ]
     },
     "execution_count": 310,
     "metadata": {},
     "output_type": "execute_result"
    }
   ],
   "source": [
    "round(0.0796)"
   ]
  },
  {
   "cell_type": "code",
   "execution_count": null,
   "id": "25148920",
   "metadata": {},
   "outputs": [],
   "source": [
    "import math\n",
    "def round_nnz(x: float) -> float:\n",
    "    \"\"\"\n",
    "    Round a float to the nearest non-zero decimal place.\n",
    "\n",
    "    \"\"\"\n",
    "    if x == 0:\n",
    "        return 0\n",
    "\n",
    "    magnitude = math.floor(math.log10(abs(x))) # 10 ^ magnitude of the number\n",
    "\n",
    "    # If number >= 1, round to nearest integer\n",
    "    if magnitude >= 0:\n",
    "        return round(x)\n",
    "    \n",
    "    # If number between 1 and 1e-4 round to nearest non-zero decimal\n",
    "    decimals = abs(magnitude)\n",
    "    return round(x, decimals)"
   ]
  },
  {
   "cell_type": "code",
   "execution_count": 69,
   "id": "ded06fae",
   "metadata": {},
   "outputs": [
    {
     "data": {
      "text/plain": [
       "1.0"
      ]
     },
     "execution_count": 69,
     "metadata": {},
     "output_type": "execute_result"
    }
   ],
   "source": [
    "round(0.99,1)"
   ]
  },
  {
   "cell_type": "code",
   "execution_count": 50,
   "id": "a790aec3",
   "metadata": {},
   "outputs": [
    {
     "name": "stdout",
     "output_type": "stream",
     "text": [
      "2\n",
      "0.1\n",
      "0.01\n",
      "0.0005\n",
      "-5e-05\n",
      "-1e-05\n",
      "-0.007\n"
     ]
    }
   ],
   "source": [
    "print(round_nnz(1.7))     # \"123.5\"\n",
    "print(round_nnz(0.123456))    # \"0.1\"\n",
    "print(round_nnz(0.0123456))   # \"0.01\"\n",
    "print(round_nnz(0.0004567))   # \"0.0005\"\n",
    "print(round_nnz(-0.0000456))   # \"4.6e-05\"\n",
    "print(round_nnz(-0.0000123)) # \"1.2e-07\"\n",
    "print(round_nnz(-0.0075))"
   ]
  },
  {
   "cell_type": "code",
   "execution_count": 51,
   "id": "e93b56d7",
   "metadata": {},
   "outputs": [
    {
     "name": "stdout",
     "output_type": "stream",
     "text": [
      "0\n"
     ]
    }
   ],
   "source": [
    "print(round_nnz(0))"
   ]
  },
  {
   "cell_type": "code",
   "execution_count": 52,
   "id": "669af4f1",
   "metadata": {},
   "outputs": [
    {
     "data": {
      "text/plain": [
       "0.2304489213782739"
      ]
     },
     "execution_count": 52,
     "metadata": {},
     "output_type": "execute_result"
    }
   ],
   "source": [
    "math.log10(1.7)"
   ]
  },
  {
   "cell_type": "code",
   "execution_count": 53,
   "id": "e41d40dc",
   "metadata": {},
   "outputs": [
    {
     "data": {
      "text/plain": [
       "2"
      ]
     },
     "execution_count": 53,
     "metadata": {},
     "output_type": "execute_result"
    }
   ],
   "source": [
    "round(1.7)"
   ]
  },
  {
   "cell_type": "code",
   "execution_count": 54,
   "id": "42e2dd0d",
   "metadata": {},
   "outputs": [],
   "source": [
    "A = [0.000996356, 0.99, -0.9887, -145]"
   ]
  },
  {
   "cell_type": "code",
   "execution_count": 120,
   "id": "f046d6ea",
   "metadata": {},
   "outputs": [
    {
     "data": {
      "text/plain": [
       "dtype('int64')"
      ]
     },
     "execution_count": 120,
     "metadata": {},
     "output_type": "execute_result"
    }
   ],
   "source": [
    "import pandas as pd\n",
    "import numpy as np\n",
    "df = pd.DataFrame({\"One\":['Apple',\"Orange\"],\"Two\":[0.98,0.88]})\n",
    "from pandas.api.types import is_object_dtype\n",
    "if is_object_dtype(df[\"One\"]):\n",
    "    df[\"One\"] = pd.factorize( df[\"One\"] )[0]\n",
    "df[\"One\"].dtype"
   ]
  },
  {
   "cell_type": "code",
   "execution_count": 132,
   "id": "5e3ee420",
   "metadata": {},
   "outputs": [
    {
     "data": {
      "text/html": [
       "<div>\n",
       "<style scoped>\n",
       "    .dataframe tbody tr th:only-of-type {\n",
       "        vertical-align: middle;\n",
       "    }\n",
       "\n",
       "    .dataframe tbody tr th {\n",
       "        vertical-align: top;\n",
       "    }\n",
       "\n",
       "    .dataframe thead th {\n",
       "        text-align: right;\n",
       "    }\n",
       "</style>\n",
       "<table border=\"1\" class=\"dataframe\">\n",
       "  <thead>\n",
       "    <tr style=\"text-align: right;\">\n",
       "      <th></th>\n",
       "      <th>One</th>\n",
       "    </tr>\n",
       "  </thead>\n",
       "  <tbody>\n",
       "    <tr>\n",
       "      <th>0</th>\n",
       "      <td>0</td>\n",
       "    </tr>\n",
       "    <tr>\n",
       "      <th>1</th>\n",
       "      <td>1</td>\n",
       "    </tr>\n",
       "  </tbody>\n",
       "</table>\n",
       "</div>"
      ],
      "text/plain": [
       "   One\n",
       "0    0\n",
       "1    1"
      ]
     },
     "execution_count": 132,
     "metadata": {},
     "output_type": "execute_result"
    }
   ],
   "source": [
    "df.loc[:,[\"One\"]]"
   ]
  },
  {
   "cell_type": "code",
   "execution_count": null,
   "id": "9c6335c6",
   "metadata": {},
   "outputs": [],
   "source": []
  }
 ],
 "metadata": {
  "kernelspec": {
   "display_name": "pytorch",
   "language": "python",
   "name": "python3"
  },
  "language_info": {
   "codemirror_mode": {
    "name": "ipython",
    "version": 3
   },
   "file_extension": ".py",
   "mimetype": "text/x-python",
   "name": "python",
   "nbconvert_exporter": "python",
   "pygments_lexer": "ipython3",
   "version": "3.12.3"
  }
 },
 "nbformat": 4,
 "nbformat_minor": 5
}
