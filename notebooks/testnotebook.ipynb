{
 "cells": [
  {
   "cell_type": "code",
   "execution_count": 1,
   "id": "47f9bc35",
   "metadata": {},
   "outputs": [
    {
     "name": "stdout",
     "output_type": "stream",
     "text": [
      "['c:\\\\Users\\\\oriol\\\\GitHub_Repos\\\\CNN-classification', 'c:\\\\Users\\\\oriol\\\\GitHub_Repos\\\\CNN-classification\\\\utils', 'c:\\\\Users\\\\oriol\\\\anaconda3\\\\envs\\\\pytorch_cu126\\\\python312.zip', 'c:\\\\Users\\\\oriol\\\\anaconda3\\\\envs\\\\pytorch_cu126\\\\DLLs', 'c:\\\\Users\\\\oriol\\\\anaconda3\\\\envs\\\\pytorch_cu126\\\\Lib', 'c:\\\\Users\\\\oriol\\\\anaconda3\\\\envs\\\\pytorch_cu126', '', 'c:\\\\Users\\\\oriol\\\\anaconda3\\\\envs\\\\pytorch_cu126\\\\Lib\\\\site-packages', 'c:\\\\Users\\\\oriol\\\\anaconda3\\\\envs\\\\pytorch_cu126\\\\Lib\\\\site-packages\\\\win32', 'c:\\\\Users\\\\oriol\\\\anaconda3\\\\envs\\\\pytorch_cu126\\\\Lib\\\\site-packages\\\\win32\\\\lib', 'c:\\\\Users\\\\oriol\\\\anaconda3\\\\envs\\\\pytorch_cu126\\\\Lib\\\\site-packages\\\\Pythonwin']\n"
     ]
    }
   ],
   "source": [
    "import sys\n",
    "from pathlib import Path \n",
    "from torchvision.transforms import v2\n",
    "import torch\n",
    "import matplotlib.pyplot as plt\n",
    "modulepath = Path.cwd().parent / \"utils\"\n",
    "modulepath = str(modulepath)\n",
    "projectpath = Path.cwd().parent\n",
    "projectpath = str(projectpath)\n",
    "if modulepath not in sys.path:\n",
    "    sys.path.insert(0,str(modulepath))\n",
    "if projectpath not in sys.path:\n",
    "    sys.path.insert(0,str(projectpath))  \n",
    "print(sys.path)\n"
   ]
  },
  {
   "cell_type": "code",
   "execution_count": 2,
   "id": "f1c23cb1",
   "metadata": {},
   "outputs": [],
   "source": [
    "from utils.data_loaders import create_train_test_dataloaders\n",
    "transform = v2.Compose([v2.RandomCrop(size=(20, 20))])#,v2.ToImage(), v2.ToDtype(torch.float32, scale=True)])\n"
   ]
  },
  {
   "cell_type": "code",
   "execution_count": 3,
   "id": "08b8a80d",
   "metadata": {},
   "outputs": [],
   "source": [
    "train_basic,test_basic = create_train_test_dataloaders(\"FashionMNIST\")\n",
    "train_augmented,test_augmented = create_train_test_dataloaders(\"FashionMNIST\",transform=transform)\n",
    "img_basic,label_basic = next(iter(train_basic))\n",
    "img_augmented,label_augmented = next(iter(train_augmented))"
   ]
  },
  {
   "cell_type": "code",
   "execution_count": 4,
   "id": "f0b33942",
   "metadata": {},
   "outputs": [
    {
     "data": {
      "text/plain": [
       "(np.float64(-0.5), np.float64(19.5), np.float64(19.5), np.float64(-0.5))"
      ]
     },
     "execution_count": 4,
     "metadata": {},
     "output_type": "execute_result"
    },
    {
     "data": {
      "image/png": "[encoded data removed]",
      "text/plain": [
       "<Figure size 640x480 with 2 Axes>"
      ]
     },
     "metadata": {},
     "output_type": "display_data"
    }
   ],
   "source": [
    "fig,ax = plt.subplots(1,2)\n",
    "ax[0].imshow(img_basic[0].permute(1,2,0),cmap=\"gray\")\n",
    "ax[1].imshow(img_augmented[0].permute(1,2,0),cmap=\"gray\")\n",
    "ax[0].axis(False)\n",
    "ax[1].axis(False)"
   ]
  },
  {
   "cell_type": "code",
   "execution_count": 5,
   "id": "dfe83b31",
   "metadata": {},
   "outputs": [
    {
     "data": {
      "text/plain": [
       "torch.Size([32, 1, 28, 28])"
      ]
     },
     "execution_count": 5,
     "metadata": {},
     "output_type": "execute_result"
    }
   ],
   "source": [
    "img_basic.shape"
   ]
  },
  {
   "cell_type": "code",
   "execution_count": 6,
   "id": "a1b73328",
   "metadata": {},
   "outputs": [],
   "source": [
    "from utils.model_architectures import TinyVGG\n",
    "from torchinfo import summary \n",
    "\n",
    "tvgg = TinyVGG(1,20,10)"
   ]
  },
  {
   "cell_type": "code",
   "execution_count": 7,
   "id": "68c2326d",
   "metadata": {},
   "outputs": [
    {
     "data": {
      "text/plain": [
       "==========================================================================================\n",
       "Layer (type:depth-idx)                   Output Shape              Param #\n",
       "==========================================================================================\n",
       "TinyVGG                                  [32, 10]                  --\n",
       "├─Sequential: 1-1                        [32, 20, 12, 12]          --\n",
       "│    └─Conv2d: 2-1                       [32, 20, 26, 26]          200\n",
       "│    └─ReLU: 2-2                         [32, 20, 26, 26]          --\n",
       "│    └─Conv2d: 2-3                       [32, 20, 24, 24]          3,620\n",
       "│    └─ReLU: 2-4                         [32, 20, 24, 24]          --\n",
       "│    └─MaxPool2d: 2-5                    [32, 20, 12, 12]          --\n",
       "├─Sequential: 1-2                        [32, 20, 4, 4]            --\n",
       "│    └─Conv2d: 2-6                       [32, 20, 10, 10]          3,620\n",
       "│    └─ReLU: 2-7                         [32, 20, 10, 10]          --\n",
       "│    └─Conv2d: 2-8                       [32, 20, 8, 8]            3,620\n",
       "│    └─ReLU: 2-9                         [32, 20, 8, 8]            --\n",
       "│    └─MaxPool2d: 2-10                   [32, 20, 4, 4]            --\n",
       "├─Sequential: 1-3                        [32, 10]                  --\n",
       "│    └─Flatten: 2-11                     [32, 320]                 --\n",
       "│    └─Linear: 2-12                      [32, 10]                  3,210\n",
       "==========================================================================================\n",
       "Total params: 14,270\n",
       "Trainable params: 14,270\n",
       "Non-trainable params: 0\n",
       "Total mult-adds (Units.MEGABYTES): 90.15\n",
       "==========================================================================================\n",
       "Input size (MB): 0.10\n",
       "Forward/backward pass size (MB): 7.25\n",
       "Params size (MB): 0.06\n",
       "Estimated Total Size (MB): 7.41\n",
       "=========================================================================================="
      ]
     },
     "execution_count": 7,
     "metadata": {},
     "output_type": "execute_result"
    }
   ],
   "source": [
    "summary(tvgg,input_size=[32,1,28,28])"
   ]
  },
  {
   "cell_type": "code",
   "execution_count": 8,
   "id": "5ceeec08",
   "metadata": {},
   "outputs": [
    {
     "data": {
      "text/plain": [
       "tensor([[0.1001, 0.0967, 0.1051, 0.0985, 0.1029, 0.0993, 0.0996, 0.1008, 0.0986,\n",
       "         0.0985]], grad_fn=<SoftmaxBackward0>)"
      ]
     },
     "execution_count": 8,
     "metadata": {},
     "output_type": "execute_result"
    }
   ],
   "source": [
    "tvgg.cpu()\n",
    "tvgg.forward(img_basic[0].unsqueeze(dim=0))\n",
    "torch.softmax(tvgg.forward(img_basic[0].unsqueeze(dim=0)),1)\n",
    "\n",
    "#next(tvgg.parameters()).is_cuda #check if model on cuda"
   ]
  },
  {
   "cell_type": "code",
   "execution_count": null,
   "id": "402c7971",
   "metadata": {},
   "outputs": [
    {
     "ename": "ModuleNotFoundError",
     "evalue": "No module named 'tensorboard'",
     "output_type": "error",
     "traceback": [
      "\u001b[31m---------------------------------------------------------------------------\u001b[39m",
      "\u001b[31mModuleNotFoundError\u001b[39m                       Traceback (most recent call last)",
      "\u001b[36mCell\u001b[39m\u001b[36m \u001b[39m\u001b[32mIn[10]\u001b[39m\u001b[32m, line 1\u001b[39m\n\u001b[32m----> \u001b[39m\u001b[32m1\u001b[39m \u001b[38;5;28;01mfrom\u001b[39;00m\u001b[38;5;250m \u001b[39m\u001b[34;01mtrain\u001b[39;00m\u001b[38;5;250m \u001b[39m\u001b[38;5;28;01mimport\u001b[39;00m train\n\u001b[32m      2\u001b[39m \u001b[38;5;28;01mfrom\u001b[39;00m\u001b[38;5;250m \u001b[39m\u001b[34;01mutils\u001b[39;00m\u001b[34;01m.\u001b[39;00m\u001b[34;01mmodel_architectures\u001b[39;00m\u001b[38;5;250m \u001b[39m\u001b[38;5;28;01mimport\u001b[39;00m TinyVGG\n\u001b[32m      3\u001b[39m \u001b[38;5;28;01mfrom\u001b[39;00m\u001b[38;5;250m \u001b[39m\u001b[34;01mutils\u001b[39;00m\u001b[34;01m.\u001b[39;00m\u001b[34;01mdata_loaders\u001b[39;00m\u001b[38;5;250m \u001b[39m\u001b[38;5;28;01mimport\u001b[39;00m create_train_test_dataloaders\n",
      "\u001b[36mFile \u001b[39m\u001b[32mc:\\Users\\oriol\\GitHub_Repos\\CNN-classification\\utils\\train.py:9\u001b[39m\n\u001b[32m      7\u001b[39m \u001b[38;5;28;01mfrom\u001b[39;00m\u001b[38;5;250m \u001b[39m\u001b[34;01mtyping\u001b[39;00m\u001b[38;5;250m \u001b[39m\u001b[38;5;28;01mimport\u001b[39;00m Dict, List, Tuple\n\u001b[32m      8\u001b[39m \u001b[38;5;66;03m#import torch.utils.tensorboard\u001b[39;00m\n\u001b[32m----> \u001b[39m\u001b[32m9\u001b[39m \u001b[38;5;28;01mfrom\u001b[39;00m\u001b[38;5;250m \u001b[39m\u001b[34;01mtorch\u001b[39;00m\u001b[34;01m.\u001b[39;00m\u001b[34;01mutils\u001b[39;00m\u001b[34;01m.\u001b[39;00m\u001b[34;01mtensorboard\u001b[39;00m\u001b[38;5;250m \u001b[39m\u001b[38;5;28;01mimport\u001b[39;00m SummaryWriter\n\u001b[32m     11\u001b[39m \u001b[38;5;28;01mfrom\u001b[39;00m\u001b[38;5;250m \u001b[39m\u001b[34;01mconfig\u001b[39;00m\u001b[38;5;250m \u001b[39m\u001b[38;5;28;01mimport\u001b[39;00m device\n\u001b[32m     13\u001b[39m \u001b[38;5;28;01mdef\u001b[39;00m\u001b[38;5;250m \u001b[39m\u001b[34mtrain_step\u001b[39m(model: torch.nn.Module, \n\u001b[32m     14\u001b[39m                 dataloader: torch.utils.data.DataLoader, \n\u001b[32m     15\u001b[39m                 loss_fn: torch.nn.Module, \n\u001b[32m     16\u001b[39m                 optimizer: torch.optim.Optimizer,\n\u001b[32m     17\u001b[39m                 device=device) -> Tuple[\u001b[38;5;28mfloat\u001b[39m, \u001b[38;5;28mfloat\u001b[39m]:\n\u001b[32m     18\u001b[39m                 \u001b[38;5;66;03m#device: torch.device) -> Tuple[float,float]:\u001b[39;00m\n",
      "\u001b[36mFile \u001b[39m\u001b[32mc:\\Users\\oriol\\anaconda3\\envs\\pytorch_cu126\\Lib\\site-packages\\torch\\utils\\tensorboard\\__init__.py:1\u001b[39m\n\u001b[32m----> \u001b[39m\u001b[32m1\u001b[39m \u001b[38;5;28;01mimport\u001b[39;00m\u001b[38;5;250m \u001b[39m\u001b[34;01mtensorboard\u001b[39;00m\n\u001b[32m      2\u001b[39m \u001b[38;5;28;01mfrom\u001b[39;00m\u001b[38;5;250m \u001b[39m\u001b[34;01mtorch\u001b[39;00m\u001b[34;01m.\u001b[39;00m\u001b[34;01m_vendor\u001b[39;00m\u001b[34;01m.\u001b[39;00m\u001b[34;01mpackaging\u001b[39;00m\u001b[34;01m.\u001b[39;00m\u001b[34;01mversion\u001b[39;00m\u001b[38;5;250m \u001b[39m\u001b[38;5;28;01mimport\u001b[39;00m Version\n\u001b[32m      4\u001b[39m \u001b[38;5;28;01mif\u001b[39;00m \u001b[38;5;129;01mnot\u001b[39;00m \u001b[38;5;28mhasattr\u001b[39m(tensorboard, \u001b[33m\"\u001b[39m\u001b[33m__version__\u001b[39m\u001b[33m\"\u001b[39m) \u001b[38;5;129;01mor\u001b[39;00m Version(\n\u001b[32m      5\u001b[39m     tensorboard.__version__\n\u001b[32m      6\u001b[39m ) < Version(\u001b[33m\"\u001b[39m\u001b[33m1.15\u001b[39m\u001b[33m\"\u001b[39m):\n",
      "\u001b[31mModuleNotFoundError\u001b[39m: No module named 'tensorboard'"
     ]
    }
   ],
   "source": [
    "from utils.train import train\n",
    "from utils.model_architectures import TinyVGG\n",
    "from utils.data_loaders import create_train_test_dataloaders\n",
    "from utils.config import device \n",
    "from torch import nn\n",
    "from utils.helpers import create_writer\n",
    "train_dataloader, test_dataloader = create_train_test_dataloaders()\n",
    "\n",
    "model_0 = TinyVGG(input_shape=1,hidden_channels=10,output_shape=10).to(device)\n",
    "loss_fn = nn.CrossEntropyLoss()\n",
    "optimizer = torch.optim.SGD(params=model_0.parameters(),lr=0.01)\n",
    "print(f\"Is the model on GPU{next(model_0.parameters()).is_cuda}\")\n",
    "writer = create_writer(experiment_name=\"Test_writer\",model_name=\"TinyVGG\",extra=\"1 epochs\")\n",
    "train(model=model_0,train_dataloader=train_dataloader,test_dataloader=test_dataloader,optimizer=optimizer,loss_fn=loss_fn,epochs=1,writer=writer)\n"
   ]
  },
  {
   "cell_type": "code",
   "execution_count": null,
   "id": "11ba9b33",
   "metadata": {},
   "outputs": [
    {
     "ename": "ModuleNotFoundError",
     "evalue": "No module named 'tensorboard'",
     "output_type": "error",
     "traceback": [
      "\u001b[31m---------------------------------------------------------------------------\u001b[39m",
      "\u001b[31mModuleNotFoundError\u001b[39m                       Traceback (most recent call last)",
      "\u001b[36mCell\u001b[39m\u001b[36m \u001b[39m\u001b[32mIn[13]\u001b[39m\u001b[32m, line 1\u001b[39m\n\u001b[32m----> \u001b[39m\u001b[32m1\u001b[39m \u001b[38;5;28;01mfrom\u001b[39;00m\u001b[38;5;250m \u001b[39m\u001b[34;01mtorch\u001b[39;00m\u001b[34;01m.\u001b[39;00m\u001b[34;01mutils\u001b[39;00m\u001b[34;01m.\u001b[39;00m\u001b[34;01mtensorboard\u001b[39;00m\u001b[38;5;250m \u001b[39m\u001b[38;5;28;01mimport\u001b[39;00m SummaryWriter\n",
      "\u001b[36mFile \u001b[39m\u001b[32mc:\\Users\\oriol\\anaconda3\\envs\\pytorch_cu126\\Lib\\site-packages\\torch\\utils\\tensorboard\\__init__.py:1\u001b[39m\n\u001b[32m----> \u001b[39m\u001b[32m1\u001b[39m \u001b[38;5;28;01mimport\u001b[39;00m\u001b[38;5;250m \u001b[39m\u001b[34;01mtensorboard\u001b[39;00m\n\u001b[32m      2\u001b[39m \u001b[38;5;28;01mfrom\u001b[39;00m\u001b[38;5;250m \u001b[39m\u001b[34;01mtorch\u001b[39;00m\u001b[34;01m.\u001b[39;00m\u001b[34;01m_vendor\u001b[39;00m\u001b[34;01m.\u001b[39;00m\u001b[34;01mpackaging\u001b[39;00m\u001b[34;01m.\u001b[39;00m\u001b[34;01mversion\u001b[39;00m\u001b[38;5;250m \u001b[39m\u001b[38;5;28;01mimport\u001b[39;00m Version\n\u001b[32m      4\u001b[39m \u001b[38;5;28;01mif\u001b[39;00m \u001b[38;5;129;01mnot\u001b[39;00m \u001b[38;5;28mhasattr\u001b[39m(tensorboard, \u001b[33m\"\u001b[39m\u001b[33m__version__\u001b[39m\u001b[33m\"\u001b[39m) \u001b[38;5;129;01mor\u001b[39;00m Version(\n\u001b[32m      5\u001b[39m     tensorboard.__version__\n\u001b[32m      6\u001b[39m ) < Version(\u001b[33m\"\u001b[39m\u001b[33m1.15\u001b[39m\u001b[33m\"\u001b[39m):\n",
      "\u001b[31mModuleNotFoundError\u001b[39m: No module named 'tensorboard'"
     ]
    }
   ],
   "source": []
  },
  {
   "cell_type": "code",
   "execution_count": null,
   "id": "b74a7ebb",
   "metadata": {},
   "outputs": [],
   "source": []
  }
 ],
 "metadata": {
  "kernelspec": {
   "display_name": "pytorch_cu126",
   "language": "python",
   "name": "python3"
  },
  "language_info": {
   "codemirror_mode": {
    "name": "ipython",
    "version": 3
   },
   "file_extension": ".py",
   "mimetype": "text/x-python",
   "name": "python",
   "nbconvert_exporter": "python",
   "pygments_lexer": "ipython3",
   "version": "3.12.3"
  }
 },
 "nbformat": 4,
 "nbformat_minor": 5
}
