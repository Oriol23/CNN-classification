{
 "cells": [
  {
   "cell_type": "code",
   "execution_count": 5,
   "id": "47f9bc35",
   "metadata": {},
   "outputs": [
    {
     "name": "stdout",
     "output_type": "stream",
     "text": [
      "['c:\\\\Users\\\\oriol\\\\GitHub_Repos\\\\CNN-classification', 'c:\\\\Users\\\\oriol\\\\GitHub_Repos\\\\CNN-classification\\\\utils', 'c:\\\\Users\\\\oriol\\\\anaconda3\\\\envs\\\\pytorch_cu126\\\\python312.zip', 'c:\\\\Users\\\\oriol\\\\anaconda3\\\\envs\\\\pytorch_cu126\\\\DLLs', 'c:\\\\Users\\\\oriol\\\\anaconda3\\\\envs\\\\pytorch_cu126\\\\Lib', 'c:\\\\Users\\\\oriol\\\\anaconda3\\\\envs\\\\pytorch_cu126', '', 'c:\\\\Users\\\\oriol\\\\anaconda3\\\\envs\\\\pytorch_cu126\\\\Lib\\\\site-packages', 'c:\\\\Users\\\\oriol\\\\anaconda3\\\\envs\\\\pytorch_cu126\\\\Lib\\\\site-packages\\\\win32', 'c:\\\\Users\\\\oriol\\\\anaconda3\\\\envs\\\\pytorch_cu126\\\\Lib\\\\site-packages\\\\win32\\\\lib', 'c:\\\\Users\\\\oriol\\\\anaconda3\\\\envs\\\\pytorch_cu126\\\\Lib\\\\site-packages\\\\Pythonwin']\n"
     ]
    }
   ],
   "source": [
    "import sys\n",
    "import os\n",
    "from pathlib import Path \n",
    "from torchvision.transforms import v2\n",
    "import torch\n",
    "import matplotlib.pyplot as plt\n",
    "import pickle\n",
    "modulepath = Path.cwd().parent / \"utils\"\n",
    "modulepath = str(modulepath)\n",
    "projectpath = Path.cwd().parent\n",
    "projectpath = str(projectpath)\n",
    "if modulepath not in sys.path:\n",
    "    sys.path.insert(0,str(modulepath))\n",
    "if projectpath not in sys.path:\n",
    "    sys.path.insert(0,str(projectpath))  \n",
    "print(sys.path)\n"
   ]
  },
  {
   "cell_type": "code",
   "execution_count": 2,
   "id": "f1c23cb1",
   "metadata": {},
   "outputs": [],
   "source": [
    "from utils.data_loaders import create_train_test_dataloaders\n",
    "transform = v2.Compose([v2.RandomCrop(size=(20, 20))])#,v2.ToImage(), v2.ToDtype(torch.float32, scale=True)])\n"
   ]
  },
  {
   "cell_type": "code",
   "execution_count": 3,
   "id": "08b8a80d",
   "metadata": {},
   "outputs": [],
   "source": [
    "train_basic,test_basic = create_train_test_dataloaders(\"FashionMNIST\")\n",
    "train_augmented,test_augmented = create_train_test_dataloaders(\"FashionMNIST\",transform=transform)\n",
    "img_basic,label_basic = next(iter(train_basic))\n",
    "img_augmented,label_augmented = next(iter(train_augmented))"
   ]
  },
  {
   "cell_type": "code",
   "execution_count": 4,
   "id": "ee5cf398",
   "metadata": {},
   "outputs": [
    {
     "name": "stdout",
     "output_type": "stream",
     "text": [
      "some spaces are good\n",
      "some spaces are good\n"
     ]
    }
   ],
   "source": [
    "train_basic,test_basic = create_train_test_dataloaders(\"some spaces are good\")\n",
    "\n",
    "print(train_basic.dataset.root.split(\"\\\\\")[-1])\n",
    "name = os.path.split(os.path.normpath(train_basic.dataset.root))[-1]\n",
    "print(name)"
   ]
  },
  {
   "cell_type": "code",
   "execution_count": 5,
   "id": "f0b33942",
   "metadata": {},
   "outputs": [
    {
     "data": {
      "text/plain": [
       "(np.float64(-0.5), np.float64(19.5), np.float64(19.5), np.float64(-0.5))"
      ]
     },
     "execution_count": 5,
     "metadata": {},
     "output_type": "execute_result"
    },
    {
     "data": {
      "image/png": "[encoded data removed]",
      "text/plain": [
       "<Figure size 640x480 with 2 Axes>"
      ]
     },
     "metadata": {},
     "output_type": "display_data"
    }
   ],
   "source": [
    "fig,ax = plt.subplots(1,2)\n",
    "ax[0].imshow(img_basic[0].permute(1,2,0),cmap=\"gray\")\n",
    "ax[1].imshow(img_augmented[0].permute(1,2,0),cmap=\"gray\")\n",
    "ax[0].axis(False)\n",
    "ax[1].axis(False)"
   ]
  },
  {
   "cell_type": "code",
   "execution_count": 6,
   "id": "dfe83b31",
   "metadata": {},
   "outputs": [
    {
     "data": {
      "text/plain": [
       "torch.Size([32, 1, 28, 28])"
      ]
     },
     "execution_count": 6,
     "metadata": {},
     "output_type": "execute_result"
    }
   ],
   "source": [
    "img_basic.shape"
   ]
  },
  {
   "cell_type": "code",
   "execution_count": 7,
   "id": "a1b73328",
   "metadata": {},
   "outputs": [],
   "source": [
    "from utils.model_architectures import TinyVGG_1\n",
    "from torchinfo import summary \n",
    "\n",
    "tvgg = TinyVGG_1(1,20,10)"
   ]
  },
  {
   "cell_type": "code",
   "execution_count": 8,
   "id": "68c2326d",
   "metadata": {},
   "outputs": [
    {
     "data": {
      "text/plain": [
       "==========================================================================================\n",
       "Layer (type:depth-idx)                   Output Shape              Param #\n",
       "==========================================================================================\n",
       "TinyVGG_1                                [32, 10]                  --\n",
       "├─Sequential: 1-1                        [32, 20, 12, 12]          --\n",
       "│    └─Conv2d: 2-1                       [32, 20, 26, 26]          200\n",
       "│    └─ReLU: 2-2                         [32, 20, 26, 26]          --\n",
       "│    └─Conv2d: 2-3                       [32, 20, 24, 24]          3,620\n",
       "│    └─ReLU: 2-4                         [32, 20, 24, 24]          --\n",
       "│    └─MaxPool2d: 2-5                    [32, 20, 12, 12]          --\n",
       "├─Sequential: 1-2                        [32, 20, 4, 4]            --\n",
       "│    └─Conv2d: 2-6                       [32, 20, 10, 10]          3,620\n",
       "│    └─ReLU: 2-7                         [32, 20, 10, 10]          --\n",
       "│    └─Conv2d: 2-8                       [32, 20, 8, 8]            3,620\n",
       "│    └─ReLU: 2-9                         [32, 20, 8, 8]            --\n",
       "│    └─MaxPool2d: 2-10                   [32, 20, 4, 4]            --\n",
       "├─Sequential: 1-3                        [32, 10]                  --\n",
       "│    └─Flatten: 2-11                     [32, 320]                 --\n",
       "│    └─Linear: 2-12                      [32, 10]                  3,210\n",
       "==========================================================================================\n",
       "Total params: 14,270\n",
       "Trainable params: 14,270\n",
       "Non-trainable params: 0\n",
       "Total mult-adds (Units.MEGABYTES): 90.15\n",
       "==========================================================================================\n",
       "Input size (MB): 0.10\n",
       "Forward/backward pass size (MB): 7.25\n",
       "Params size (MB): 0.06\n",
       "Estimated Total Size (MB): 7.41\n",
       "=========================================================================================="
      ]
     },
     "execution_count": 8,
     "metadata": {},
     "output_type": "execute_result"
    }
   ],
   "source": [
    "summary(tvgg,input_size=[32,1,28,28])"
   ]
  },
  {
   "cell_type": "code",
   "execution_count": 9,
   "id": "5ceeec08",
   "metadata": {},
   "outputs": [
    {
     "data": {
      "text/plain": [
       "tensor([[0.0998, 0.0965, 0.1040, 0.1035, 0.0949, 0.0968, 0.1020, 0.0970, 0.1029,\n",
       "         0.1026]], grad_fn=<SoftmaxBackward0>)"
      ]
     },
     "execution_count": 9,
     "metadata": {},
     "output_type": "execute_result"
    }
   ],
   "source": [
    "tvgg.cpu()\n",
    "tvgg.forward(img_basic[0].unsqueeze(dim=0))\n",
    "torch.softmax(tvgg.forward(img_basic[0].unsqueeze(dim=0)),1)\n",
    "\n",
    "#next(tvgg.parameters()).is_cuda #check if model on cuda"
   ]
  },
  {
   "cell_type": "code",
   "execution_count": 86,
   "id": "402c7971",
   "metadata": {},
   "outputs": [
    {
     "name": "stdout",
     "output_type": "stream",
     "text": [
      "[INFO] Created SummaryWriter, saving to: c:\\Users\\oriol\\GitHub_Repos\\CNN-classification\\experiment_logs\\runs\\TinyVGG_1\\Test_new_logs_folder\\3 epochs...\n",
      "[INFO] Created experiment metadata, saving to: c:\\Users\\oriol\\GitHub_Repos\\CNN-classification\\experiment_logs\\runs_metadata\\TinyVGG_1\\Test_new_logs_folder\\3 epochs...\n"
     ]
    },
    {
     "data": {
      "application/vnd.jupyter.widget-view+json": {
       "model_id": "15c7054fc6564da0b11d2dadef31dd87",
       "version_major": 2,
       "version_minor": 0
      },
      "text/plain": [
       "  0%|          | 0/3 [00:00<?, ?it/s]"
      ]
     },
     "metadata": {},
     "output_type": "display_data"
    }
   ],
   "source": [
    "from utils.engine import train\n",
    "from utils.model_architectures import TinyVGG_1\n",
    "from utils.data_loaders import create_train_test_dataloaders\n",
    "from torch import nn\n",
    "from utils.helpers import create_writer\n",
    "from utils.helpers import create_experiment_metadata\n",
    "train_dataloader, test_dataloader = create_train_test_dataloaders(\"some spaces are good\")\n",
    "\n",
    "device = \"cuda\" if torch.cuda.is_available() else \"cpu\"\n",
    "\n",
    "model_0 = TinyVGG_1(input_shape=1,hidden_channels=10,output_shape=10).to(device)\n",
    "loss_fn = nn.CrossEntropyLoss()\n",
    "optimizer = torch.optim.SGD(params=model_0.parameters(),lr=0.01)\n",
    "#print(f\"Is the model on GPU {next(model_0.parameters()).is_cuda}\")\n",
    "\n",
    "model_name = model_0._get_name()\n",
    "experiment_name = \"Test_new_logs_folder\"\n",
    "extra = \"3 epochs\"\n",
    "NUM_EPOCHS = 3\n",
    "\n",
    "writer = create_writer(experiment_name=experiment_name,model_name=model_name,extra=extra)\n",
    "\n",
    "train(model=model_0,train_dataloader=train_dataloader,test_dataloader=test_dataloader,optimizer=optimizer,loss_fn=loss_fn,epochs=NUM_EPOCHS,writer=writer)\n"
   ]
  },
  {
   "cell_type": "code",
   "execution_count": 6,
   "id": "c01ee294",
   "metadata": {},
   "outputs": [],
   "source": [
    "with open(r\"C:\\Users\\oriol\\GitHub_Repos\\CNN-classification\\runs_metadata\\TinyVGG_1\\Test_writer_and_metadata\\3 epochs SDG\\Metadata.pkl\", 'rb') as file:\n",
    "    meta_dict = pickle.load(file)"
   ]
  },
  {
   "cell_type": "code",
   "execution_count": 2,
   "id": "53b51877",
   "metadata": {},
   "outputs": [],
   "source": [
    "from utils.config import RUNS_METADATA_DIRECTORY\n",
    "from utils.config import METADATA_FILENAME\n",
    "\n",
    "def retrieve_metadata(model_name:str, experiment_name:str, extra=None):\n",
    "    \"\"\"AAA\"\"\"\n",
    "    if extra:\n",
    "        metadata_path = os.path.join(RUNS_METADATA_DIRECTORY, model_name, \n",
    "                               experiment_name, extra, METADATA_FILENAME)\n",
    "    else:\n",
    "        metadata_path = os.path.join(RUNS_METADATA_DIRECTORY, model_name, \n",
    "                               experiment_name, METADATA_FILENAME)\n",
    "    if os.path.exists(metadata_path):\n",
    "        with open(metadata_path, 'rb') as file:\n",
    "            metadata = pickle.load(file)\n",
    "        return metadata\n",
    "    else:\n",
    "        print(f\"No metadata stored in {metadata_path}\")"
   ]
  },
  {
   "cell_type": "code",
   "execution_count": 8,
   "id": "13aabe7e",
   "metadata": {},
   "outputs": [
    {
     "name": "stdout",
     "output_type": "stream",
     "text": [
      "No metadata stored in c:\\Users\\oriol\\GitHub_Repos\\CNN-classification\\runs_metadata\\TinyVGG_1\\iwhrsgir\\3 epochs SDG\\Metadata.pkl\n"
     ]
    }
   ],
   "source": [
    "\n",
    "meta_dict = retrieve_metadata(model_name=\"TinyVGG_1\", experiment_name=\"iwhrsgir\", extra=\"3 epochs SDG\")\n"
   ]
  },
  {
   "cell_type": "code",
   "execution_count": null,
   "id": "ec9e12ac",
   "metadata": {},
   "outputs": [
    {
     "name": "stdout",
     "output_type": "stream",
     "text": [
      "{'date': '20-08-2025', 'experiment name': 'Test_writer_and_metadata', 'model name': 'TinyVGG_1', 'learning rate': 0.01, 'epochs': 3, 'loss function': 'CrossEntropyLoss', 'optimizer name': 'SGD', 'dataset': 'some spaces are good', 'training dataset size': 60000, 'testing dataset size': 10000, 'batch size': 32, 'optimizer params': {'lr': 0.01, 'momentum': 0, 'dampening': 0, 'weight_decay': 0, 'nesterov': False, 'maximize': False, 'foreach': None, 'differentiable': False, 'fused': None}, 'model params': {'layer_1': Sequential(\n",
      "  (0): Conv2d(1, 10, kernel_size=(3, 3), stride=(1, 1))\n",
      "  (1): ReLU()\n",
      "  (2): Conv2d(10, 10, kernel_size=(3, 3), stride=(1, 1))\n",
      "  (3): ReLU()\n",
      "  (4): MaxPool2d(kernel_size=2, stride=2, padding=0, dilation=1, ceil_mode=False)\n",
      "), 'layer_2': Sequential(\n",
      "  (0): Conv2d(10, 10, kernel_size=(3, 3), stride=(1, 1))\n",
      "  (1): ReLU()\n",
      "  (2): Conv2d(10, 10, kernel_size=(3, 3), stride=(1, 1))\n",
      "  (3): ReLU()\n",
      "  (4): MaxPool2d(kernel_size=2, stride=2, padding=0, dilation=1, ceil_mode=False)\n",
      "), 'layer_3': Sequential(\n",
      "  (0): Flatten(start_dim=1, end_dim=-1)\n",
      "  (1): Linear(in_features=160, out_features=10, bias=True)\n",
      ")}}\n"
     ]
    }
   ],
   "source": [
    "print(meta_dict)"
   ]
  },
  {
   "cell_type": "code",
   "execution_count": 71,
   "id": "0023c2d3",
   "metadata": {},
   "outputs": [
    {
     "name": "stdout",
     "output_type": "stream",
     "text": [
      "c:\\Users\\oriol\\GitHub_Repos\\CNN-classification\\experiment_logs\\runs\n",
      "c:\\Users\\oriol\\GitHub_Repos\\CNN-classification\\experiment_logs\n",
      "['c:\\\\Users\\\\oriol\\\\GitHub_Repos\\\\CNN-classification\\\\experiment_logs', 'c:\\\\Users\\\\oriol\\\\GitHub_Repos\\\\CNN-classification\\\\experiment_logs\\\\runs', 'c:\\\\Users\\\\oriol\\\\GitHub_Repos\\\\CNN-classification', 'c:\\\\Users\\\\oriol\\\\GitHub_Repos\\\\CNN-classification\\\\utils', 'c:\\\\Users\\\\oriol\\\\anaconda3\\\\envs\\\\pytorch_cu126\\\\python312.zip', 'c:\\\\Users\\\\oriol\\\\anaconda3\\\\envs\\\\pytorch_cu126\\\\DLLs', 'c:\\\\Users\\\\oriol\\\\anaconda3\\\\envs\\\\pytorch_cu126\\\\Lib', 'c:\\\\Users\\\\oriol\\\\anaconda3\\\\envs\\\\pytorch_cu126', '', 'c:\\\\Users\\\\oriol\\\\anaconda3\\\\envs\\\\pytorch_cu126\\\\Lib\\\\site-packages', 'c:\\\\Users\\\\oriol\\\\anaconda3\\\\envs\\\\pytorch_cu126\\\\Lib\\\\site-packages\\\\win32', 'c:\\\\Users\\\\oriol\\\\anaconda3\\\\envs\\\\pytorch_cu126\\\\Lib\\\\site-packages\\\\win32\\\\lib', 'c:\\\\Users\\\\oriol\\\\anaconda3\\\\envs\\\\pytorch_cu126\\\\Lib\\\\site-packages\\\\Pythonwin']\n"
     ]
    }
   ],
   "source": [
    "from utils.config import RUNS_DIRECTORY\n",
    "print(RUNS_DIRECTORY)\n",
    "exlog = os.path.dirname(RUNS_DIRECTORY)\n",
    "print(exlog)\n",
    "if exlog not in sys.path:\n",
    "    sys.path.insert(0,str(exlog))\n",
    "print(sys.path)"
   ]
  },
  {
   "cell_type": "code",
   "execution_count": null,
   "id": "4daeccfa",
   "metadata": {},
   "outputs": [],
   "source": [
    "from utils.engine import train\n",
    "from utils.model_architectures import TinyVGG_1\n",
    "from utils.data_loaders import create_train_test_dataloaders\n",
    "from torch import nn\n",
    "from utils.helpers import create_writer\n",
    "from utils.helpers import create_experiment_metadata\n",
    "train_dataloader, test_dataloader = create_train_test_dataloaders()\n",
    "\n",
    "device = \"cuda\" if torch.cuda.is_available() else \"cpu\"\n",
    "\n",
    "model_0 = TinyVGG_1(input_shape=1,hidden_channels=10,output_shape=10).to(device)\n",
    "loss_fn = nn.CrossEntropyLoss()\n",
    "optimizer = torch.optim.SGD(params=model_0.parameters(),lr=0.01)"
   ]
  },
  {
   "cell_type": "code",
   "execution_count": null,
   "id": "743adb5e",
   "metadata": {},
   "outputs": [],
   "source": [
    "optimizer.__getstate__()['defaults']"
   ]
  },
  {
   "cell_type": "code",
   "execution_count": null,
   "id": "d7bae9de",
   "metadata": {},
   "outputs": [],
   "source": [
    "model_0.__getstate__()['_modules']"
   ]
  },
  {
   "cell_type": "code",
   "execution_count": null,
   "id": "eca7c459",
   "metadata": {},
   "outputs": [],
   "source": [
    "import pickle\n",
    "with open(r\"C:\\Users\\oriol\\GitHub_Repos\\CNN-classification\\runs_metadata\\TinyVGG_1\\Test_writer_and_dict\\2 epochs\\Metadata.pkl\", 'rb') as file:\n",
    "    meta_dict = pickle.load(file)"
   ]
  },
  {
   "cell_type": "code",
   "execution_count": null,
   "id": "a30e5a80",
   "metadata": {},
   "outputs": [],
   "source": [
    "print(meta_dict)"
   ]
  },
  {
   "cell_type": "code",
   "execution_count": null,
   "id": "03012040",
   "metadata": {},
   "outputs": [],
   "source": []
  },
  {
   "cell_type": "code",
   "execution_count": null,
   "id": "0c9b4818",
   "metadata": {},
   "outputs": [],
   "source": [
    "wrtr.__getstate__()['log_dir']"
   ]
  },
  {
   "cell_type": "code",
   "execution_count": null,
   "id": "9fb810f6",
   "metadata": {},
   "outputs": [],
   "source": [
    "import os\n",
    "from utils.config import RUNS_DIRECTORY\n",
    "from utils.helpers import create_writer\n",
    "wrtr,dctdr = create_writer(model_name=\"None\",experiment_name=\"Test expname extraction\",extra=\"Please\")\n",
    "\n",
    "relpath = os.path.normpath(os.path.relpath(wrtr.__getstate__()['log_dir'],RUNS_DIRECTORY))\n",
    "components = relpath.split(os.sep)"
   ]
  },
  {
   "cell_type": "code",
   "execution_count": null,
   "id": "4d3d6bc9",
   "metadata": {},
   "outputs": [],
   "source": [
    "print(f\"Model name '{components[0]}' and experiment name '{components[1]}'\")\n",
    "type(components[0])"
   ]
  },
  {
   "cell_type": "code",
   "execution_count": null,
   "id": "d6306241",
   "metadata": {},
   "outputs": [],
   "source": [
    "from utils.model_architectures import TinyVGG_1\n",
    "\n",
    "device = \"cuda\" if torch.cuda.is_available() else \"cpu\"\n",
    "\n",
    "model_0 = TinyVGG_1(input_shape=1,hidden_channels=10,output_shape=10).to(device)"
   ]
  },
  {
   "cell_type": "code",
   "execution_count": null,
   "id": "bf83a7aa",
   "metadata": {},
   "outputs": [],
   "source": [
    "from utils.config import RUNS_METADATA_DIRECTORY\n",
    "dictpath = os.path.join(RUNS_METADATA_DIRECTORY,relpath)\n",
    "print(dictpath)"
   ]
  },
  {
   "cell_type": "code",
   "execution_count": null,
   "id": "80220fa0",
   "metadata": {},
   "outputs": [],
   "source": [
    "import os\n",
    "from utils.config import RUNS_METADATA_DIRECTORY\n",
    "import pickle\n",
    "metadata_file = os.path.join(RUNS_METADATA_DIRECTORY,\"TinyVGG_1\",\"Test_writer_and_newdict\",\"1 epochs\",\"Metadata.pkl\")\n",
    "with open(metadata_file, 'rb') as f:\n",
    "    resdict = pickle.load(f)"
   ]
  },
  {
   "cell_type": "code",
   "execution_count": null,
   "id": "b5653dcb",
   "metadata": {},
   "outputs": [],
   "source": [
    "resdict"
   ]
  },
  {
   "cell_type": "code",
   "execution_count": 13,
   "id": "04e8cdc8",
   "metadata": {},
   "outputs": [
    {
     "name": "stdout",
     "output_type": "stream",
     "text": [
      "21-08-2025 12:24\n"
     ]
    }
   ],
   "source": [
    "from datetime import datetime \n",
    "\n",
    "print(datetime.now().strftime(\"%d-%m-%Y %H:%M\"))\n"
   ]
  },
  {
   "cell_type": "code",
   "execution_count": null,
   "id": "22a24443",
   "metadata": {},
   "outputs": [],
   "source": []
  }
 ],
 "metadata": {
  "kernelspec": {
   "display_name": "pytorch_cu126",
   "language": "python",
   "name": "python3"
  },
  "language_info": {
   "codemirror_mode": {
    "name": "ipython",
    "version": 3
   },
   "file_extension": ".py",
   "mimetype": "text/x-python",
   "name": "python",
   "nbconvert_exporter": "python",
   "pygments_lexer": "ipython3",
   "version": "3.12.3"
  }
 },
 "nbformat": 4,
 "nbformat_minor": 5
}
