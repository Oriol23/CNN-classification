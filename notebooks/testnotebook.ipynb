{
 "cells": [
  {
   "cell_type": "code",
   "execution_count": 1,
   "id": "47f9bc35",
   "metadata": {},
   "outputs": [
    {
     "name": "stdout",
     "output_type": "stream",
     "text": [
      "['c:\\\\Users\\\\oriol\\\\GitHub_Repos\\\\CNN-classification', 'c:\\\\Users\\\\oriol\\\\GitHub_Repos\\\\CNN-classification\\\\utils', 'c:\\\\Users\\\\oriol\\\\anaconda3\\\\envs\\\\pytorch_cu126\\\\python312.zip', 'c:\\\\Users\\\\oriol\\\\anaconda3\\\\envs\\\\pytorch_cu126\\\\DLLs', 'c:\\\\Users\\\\oriol\\\\anaconda3\\\\envs\\\\pytorch_cu126\\\\Lib', 'c:\\\\Users\\\\oriol\\\\anaconda3\\\\envs\\\\pytorch_cu126', '', 'c:\\\\Users\\\\oriol\\\\anaconda3\\\\envs\\\\pytorch_cu126\\\\Lib\\\\site-packages', 'c:\\\\Users\\\\oriol\\\\anaconda3\\\\envs\\\\pytorch_cu126\\\\Lib\\\\site-packages\\\\win32', 'c:\\\\Users\\\\oriol\\\\anaconda3\\\\envs\\\\pytorch_cu126\\\\Lib\\\\site-packages\\\\win32\\\\lib', 'c:\\\\Users\\\\oriol\\\\anaconda3\\\\envs\\\\pytorch_cu126\\\\Lib\\\\site-packages\\\\Pythonwin']\n"
     ]
    }
   ],
   "source": [
    "import sys\n",
    "import os\n",
    "from pathlib import Path \n",
    "from torchvision.transforms import v2\n",
    "import torch\n",
    "import matplotlib.pyplot as plt\n",
    "import pickle\n",
    "modulepath = Path.cwd().parent / \"utils\"\n",
    "modulepath = str(modulepath)\n",
    "projectpath = Path.cwd().parent\n",
    "projectpath = str(projectpath)\n",
    "if modulepath not in sys.path:\n",
    "    sys.path.insert(0,str(modulepath))\n",
    "if projectpath not in sys.path:\n",
    "    sys.path.insert(0,str(projectpath))  \n",
    "print(sys.path)\n"
   ]
  },
  {
   "cell_type": "code",
   "execution_count": 2,
   "id": "f1c23cb1",
   "metadata": {},
   "outputs": [],
   "source": [
    "from utils.data_loaders import create_train_test_dataloaders\n",
    "transform = v2.Compose([v2.RandomCrop(size=(20, 20))])#,v2.ToImage(), v2.ToDtype(torch.float32, scale=True)])\n"
   ]
  },
  {
   "cell_type": "code",
   "execution_count": 4,
   "id": "08b8a80d",
   "metadata": {},
   "outputs": [],
   "source": [
    "train_basic,test_basic = create_train_test_dataloaders(dataset_name=\"FashionMNIST\",size=0.1)\n",
    "train_augmented,test_augmented = create_train_test_dataloaders(dataset_name=\"FashionMNIST\",transform=transform)\n",
    "img_basic,label_basic = next(iter(train_basic))\n",
    "img_augmented,label_augmented = next(iter(train_augmented))"
   ]
  },
  {
   "cell_type": "code",
   "execution_count": null,
   "id": "1fdc0726",
   "metadata": {},
   "outputs": [
    {
     "name": "stdout",
     "output_type": "stream",
     "text": [
      "32\n"
     ]
    }
   ],
   "source": []
  },
  {
   "cell_type": "code",
   "execution_count": 4,
   "id": "ee5cf398",
   "metadata": {},
   "outputs": [
    {
     "name": "stdout",
     "output_type": "stream",
     "text": [
      "some spaces are good\n",
      "some spaces are good\n"
     ]
    }
   ],
   "source": [
    "train_basic,test_basic = create_train_test_dataloaders(\"some spaces are good\")\n",
    "\n",
    "print(train_basic.dataset.root.split(\"\\\\\")[-1])\n",
    "name = os.path.split(os.path.normpath(train_basic.dataset.root))[-1]\n",
    "print(name)"
   ]
  },
  {
   "cell_type": "code",
   "execution_count": 5,
   "id": "f0b33942",
   "metadata": {},
   "outputs": [
    {
     "data": {
      "text/plain": [
       "(np.float64(-0.5), np.float64(19.5), np.float64(19.5), np.float64(-0.5))"
      ]
     },
     "execution_count": 5,
     "metadata": {},
     "output_type": "execute_result"
    },
    {
     "data": {
      "image/png": "[encoded data removed]",
      "text/plain": [
       "<Figure size 640x480 with 2 Axes>"
      ]
     },
     "metadata": {},
     "output_type": "display_data"
    }
   ],
   "source": [
    "fig,ax = plt.subplots(1,2)\n",
    "ax[0].imshow(img_basic[0].permute(1,2,0),cmap=\"gray\")\n",
    "ax[1].imshow(img_augmented[0].permute(1,2,0),cmap=\"gray\")\n",
    "ax[0].axis(False)\n",
    "ax[1].axis(False)"
   ]
  },
  {
   "cell_type": "code",
   "execution_count": 6,
   "id": "dfe83b31",
   "metadata": {},
   "outputs": [
    {
     "data": {
      "text/plain": [
       "torch.Size([32, 1, 28, 28])"
      ]
     },
     "execution_count": 6,
     "metadata": {},
     "output_type": "execute_result"
    }
   ],
   "source": [
    "img_basic.shape"
   ]
  },
  {
   "cell_type": "code",
   "execution_count": 7,
   "id": "a1b73328",
   "metadata": {},
   "outputs": [],
   "source": [
    "from utils.model_architectures import TinyVGG_1\n",
    "from torchinfo import summary \n",
    "\n",
    "tvgg = TinyVGG_1(1,20,10)"
   ]
  },
  {
   "cell_type": "code",
   "execution_count": 8,
   "id": "68c2326d",
   "metadata": {},
   "outputs": [
    {
     "data": {
      "text/plain": [
       "==========================================================================================\n",
       "Layer (type:depth-idx)                   Output Shape              Param #\n",
       "==========================================================================================\n",
       "TinyVGG_1                                [32, 10]                  --\n",
       "├─Sequential: 1-1                        [32, 20, 12, 12]          --\n",
       "│    └─Conv2d: 2-1                       [32, 20, 26, 26]          200\n",
       "│    └─ReLU: 2-2                         [32, 20, 26, 26]          --\n",
       "│    └─Conv2d: 2-3                       [32, 20, 24, 24]          3,620\n",
       "│    └─ReLU: 2-4                         [32, 20, 24, 24]          --\n",
       "│    └─MaxPool2d: 2-5                    [32, 20, 12, 12]          --\n",
       "├─Sequential: 1-2                        [32, 20, 4, 4]            --\n",
       "│    └─Conv2d: 2-6                       [32, 20, 10, 10]          3,620\n",
       "│    └─ReLU: 2-7                         [32, 20, 10, 10]          --\n",
       "│    └─Conv2d: 2-8                       [32, 20, 8, 8]            3,620\n",
       "│    └─ReLU: 2-9                         [32, 20, 8, 8]            --\n",
       "│    └─MaxPool2d: 2-10                   [32, 20, 4, 4]            --\n",
       "├─Sequential: 1-3                        [32, 10]                  --\n",
       "│    └─Flatten: 2-11                     [32, 320]                 --\n",
       "│    └─Linear: 2-12                      [32, 10]                  3,210\n",
       "==========================================================================================\n",
       "Total params: 14,270\n",
       "Trainable params: 14,270\n",
       "Non-trainable params: 0\n",
       "Total mult-adds (Units.MEGABYTES): 90.15\n",
       "==========================================================================================\n",
       "Input size (MB): 0.10\n",
       "Forward/backward pass size (MB): 7.25\n",
       "Params size (MB): 0.06\n",
       "Estimated Total Size (MB): 7.41\n",
       "=========================================================================================="
      ]
     },
     "execution_count": 8,
     "metadata": {},
     "output_type": "execute_result"
    }
   ],
   "source": [
    "summary(tvgg,input_size=[32,1,28,28])"
   ]
  },
  {
   "cell_type": "code",
   "execution_count": 9,
   "id": "5ceeec08",
   "metadata": {},
   "outputs": [
    {
     "data": {
      "text/plain": [
       "tensor([[0.1039, 0.0984, 0.0970, 0.0983, 0.0958, 0.0985, 0.1001, 0.1020, 0.1042,\n",
       "         0.1018]], grad_fn=<SoftmaxBackward0>)"
      ]
     },
     "execution_count": 9,
     "metadata": {},
     "output_type": "execute_result"
    }
   ],
   "source": [
    "tvgg.cpu()\n",
    "tvgg.forward(img_basic[0].unsqueeze(dim=0))\n",
    "torch.softmax(tvgg.forward(img_basic[0].unsqueeze(dim=0)),1)\n",
    "\n",
    "#next(tvgg.parameters()).is_cuda #check if model on cuda"
   ]
  },
  {
   "cell_type": "code",
   "execution_count": 8,
   "id": "402c7971",
   "metadata": {},
   "outputs": [
    {
     "name": "stdout",
     "output_type": "stream",
     "text": [
      "[INFO] Created SummaryWriter, saving to: c:\\Users\\oriol\\GitHub_Repos\\CNN-classification\\experiment_logs\\runs\\TinyVGG_1\\Test_small_dataset\\1 epochs...\n",
      "[INFO] Created experiment metadata, saving to: c:\\Users\\oriol\\GitHub_Repos\\CNN-classification\\experiment_logs\\runs_metadata\\TinyVGG_1\\Test_small_dataset\\1 epochs...\n"
     ]
    },
    {
     "data": {
      "application/vnd.jupyter.widget-view+json": {
       "model_id": "1ea260d29a284fad918cc10ea2d7e8fe",
       "version_major": 2,
       "version_minor": 0
      },
      "text/plain": [
       "  0%|          | 0/1 [00:00<?, ?it/s]"
      ]
     },
     "metadata": {},
     "output_type": "display_data"
    }
   ],
   "source": [
    "from utils.engine import train\n",
    "from utils.model_architectures import TinyVGG_1\n",
    "from utils.data_loaders import create_train_test_dataloaders\n",
    "from torch import nn\n",
    "from utils.helpers import create_writer\n",
    "from utils.helpers import create_experiment_metadata\n",
    "train_dataloader, test_dataloader = create_train_test_dataloaders(size=0.1) #type: ignore\n",
    "    \n",
    "device = \"cuda\" if torch.cuda.is_available() else \"cpu\"\n",
    "\n",
    "model_0 = TinyVGG_1(input_shape=1,hidden_channels=10,output_shape=10).to(device)\n",
    "loss_fn = nn.CrossEntropyLoss()\n",
    "optimizer = torch.optim.SGD(params=model_0.parameters(),lr=0.01)\n",
    "#print(f\"Is the model on GPU {next(model_0.parameters()).is_cuda}\")\n",
    "\n",
    "model_name = model_0._get_name()\n",
    "experiment_name = \"Test_small_dataset\"\n",
    "extra = \"1 epochs\"\n",
    "NUM_EPOCHS = 1\n",
    "\n",
    "writer = create_writer(experiment_name=experiment_name,model_name=model_name,extra=extra)\n",
    "\n",
    "train(model=model_0,train_dataloader=train_dataloader,test_dataloader=test_dataloader,optimizer=optimizer,loss_fn=loss_fn,epochs=NUM_EPOCHS,writer=writer)\n"
   ]
  },
  {
   "cell_type": "code",
   "execution_count": 27,
   "id": "c01ee294",
   "metadata": {},
   "outputs": [],
   "source": [
    "from utils.data_loaders import create_train_test_dataloaders\n",
    "from torchvision import datasets \n",
    "from utils.config import DATA_DIRECTORY\n",
    "mnist = os.path.join(DATA_DIRECTORY,\"FashionMNIST\")\n",
    "train_dataset = datasets.FashionMNIST(root=mnist,train=True,download=False,transform=v2.Compose([v2.ToImage(),v2.ToDtype(torch.float32, scale=True)]))\n",
    "train_basic,test_basic = create_train_test_dataloaders(\"FashionMNIST\")\n"
   ]
  },
  {
   "cell_type": "code",
   "execution_count": null,
   "id": "eea50e0e",
   "metadata": {},
   "outputs": [
    {
     "name": "stdout",
     "output_type": "stream",
     "text": [
      "Initial len 600, initial type <class 'torchvision.datasets.mnist.FashionMNIST'>\n",
      "470400\n",
      "Final len 60, final type <class 'torchvision.datasets.mnist.FashionMNIST'>\n"
     ]
    }
   ],
   "source": [
    "print(f\"Initial len {len(train_dataset)}, initial type {type(train_dataset)}\")\n",
    "size = 0.1\n",
    "nel = int(len(train_dataset)*size)\n",
    "train_dataset.data = train_dataset.data[0:nel]\n",
    "print(f\"Final len {len(train_dataset)}, final type {type(train_dataset)}\")\n"
   ]
  },
  {
   "cell_type": "code",
   "execution_count": 2,
   "id": "53b51877",
   "metadata": {},
   "outputs": [],
   "source": [
    "from utils.config import RUNS_METADATA_DIRECTORY\n",
    "from utils.config import METADATA_FILENAME\n",
    "\n",
    "def retrieve_metadata(model_name:str, experiment_name:str, extra=None):\n",
    "    \"\"\"AAA\"\"\"\n",
    "    if extra:\n",
    "        metadata_path = os.path.join(RUNS_METADATA_DIRECTORY, model_name, \n",
    "                               experiment_name, extra, METADATA_FILENAME)\n",
    "    else:\n",
    "        metadata_path = os.path.join(RUNS_METADATA_DIRECTORY, model_name, \n",
    "                               experiment_name, METADATA_FILENAME)\n",
    "    if os.path.exists(metadata_path):\n",
    "        with open(metadata_path, 'rb') as file:\n",
    "            metadata = pickle.load(file)\n",
    "        return metadata\n",
    "    else:\n",
    "        print(f\"No metadata stored in {metadata_path}\")"
   ]
  },
  {
   "cell_type": "code",
   "execution_count": 8,
   "id": "13aabe7e",
   "metadata": {},
   "outputs": [
    {
     "name": "stdout",
     "output_type": "stream",
     "text": [
      "No metadata stored in c:\\Users\\oriol\\GitHub_Repos\\CNN-classification\\runs_metadata\\TinyVGG_1\\iwhrsgir\\3 epochs SDG\\Metadata.pkl\n"
     ]
    }
   ],
   "source": [
    "\n",
    "meta_dict = retrieve_metadata(model_name=\"TinyVGG_1\", experiment_name=\"iwhrsgir\", extra=\"3 epochs SDG\")\n"
   ]
  },
  {
   "cell_type": "code",
   "execution_count": 7,
   "id": "ec9e12ac",
   "metadata": {},
   "outputs": [
    {
     "name": "stdout",
     "output_type": "stream",
     "text": [
      "{'date': '20-08-2025', 'experiment name': 'Test_writer_and_metadata', 'model name': 'TinyVGG_1', 'learning rate': 0.01, 'epochs': 3, 'loss function': 'CrossEntropyLoss', 'optimizer name': 'SGD', 'dataset': 'some spaces are good', 'training dataset size': 60000, 'testing dataset size': 10000, 'batch size': 32, 'optimizer params': {'lr': 0.01, 'momentum': 0, 'dampening': 0, 'weight_decay': 0, 'nesterov': False, 'maximize': False, 'foreach': None, 'differentiable': False, 'fused': None}, 'model params': {'layer_1': Sequential(\n",
      "  (0): Conv2d(1, 10, kernel_size=(3, 3), stride=(1, 1))\n",
      "  (1): ReLU()\n",
      "  (2): Conv2d(10, 10, kernel_size=(3, 3), stride=(1, 1))\n",
      "  (3): ReLU()\n",
      "  (4): MaxPool2d(kernel_size=2, stride=2, padding=0, dilation=1, ceil_mode=False)\n",
      "), 'layer_2': Sequential(\n",
      "  (0): Conv2d(10, 10, kernel_size=(3, 3), stride=(1, 1))\n",
      "  (1): ReLU()\n",
      "  (2): Conv2d(10, 10, kernel_size=(3, 3), stride=(1, 1))\n",
      "  (3): ReLU()\n",
      "  (4): MaxPool2d(kernel_size=2, stride=2, padding=0, dilation=1, ceil_mode=False)\n",
      "), 'layer_3': Sequential(\n",
      "  (0): Flatten(start_dim=1, end_dim=-1)\n",
      "  (1): Linear(in_features=160, out_features=10, bias=True)\n",
      ")}}\n"
     ]
    }
   ],
   "source": [
    "print(meta_dict)"
   ]
  },
  {
   "cell_type": "code",
   "execution_count": 71,
   "id": "0023c2d3",
   "metadata": {},
   "outputs": [
    {
     "name": "stdout",
     "output_type": "stream",
     "text": [
      "c:\\Users\\oriol\\GitHub_Repos\\CNN-classification\\experiment_logs\\runs\n",
      "c:\\Users\\oriol\\GitHub_Repos\\CNN-classification\\experiment_logs\n",
      "['c:\\\\Users\\\\oriol\\\\GitHub_Repos\\\\CNN-classification\\\\experiment_logs', 'c:\\\\Users\\\\oriol\\\\GitHub_Repos\\\\CNN-classification\\\\experiment_logs\\\\runs', 'c:\\\\Users\\\\oriol\\\\GitHub_Repos\\\\CNN-classification', 'c:\\\\Users\\\\oriol\\\\GitHub_Repos\\\\CNN-classification\\\\utils', 'c:\\\\Users\\\\oriol\\\\anaconda3\\\\envs\\\\pytorch_cu126\\\\python312.zip', 'c:\\\\Users\\\\oriol\\\\anaconda3\\\\envs\\\\pytorch_cu126\\\\DLLs', 'c:\\\\Users\\\\oriol\\\\anaconda3\\\\envs\\\\pytorch_cu126\\\\Lib', 'c:\\\\Users\\\\oriol\\\\anaconda3\\\\envs\\\\pytorch_cu126', '', 'c:\\\\Users\\\\oriol\\\\anaconda3\\\\envs\\\\pytorch_cu126\\\\Lib\\\\site-packages', 'c:\\\\Users\\\\oriol\\\\anaconda3\\\\envs\\\\pytorch_cu126\\\\Lib\\\\site-packages\\\\win32', 'c:\\\\Users\\\\oriol\\\\anaconda3\\\\envs\\\\pytorch_cu126\\\\Lib\\\\site-packages\\\\win32\\\\lib', 'c:\\\\Users\\\\oriol\\\\anaconda3\\\\envs\\\\pytorch_cu126\\\\Lib\\\\site-packages\\\\Pythonwin']\n"
     ]
    }
   ],
   "source": [
    "from utils.config import RUNS_DIRECTORY\n",
    "print(RUNS_DIRECTORY)\n",
    "exlog = os.path.dirname(RUNS_DIRECTORY)\n",
    "print(exlog)\n",
    "if exlog not in sys.path:\n",
    "    sys.path.insert(0,str(exlog))\n",
    "print(sys.path)"
   ]
  },
  {
   "cell_type": "code",
   "execution_count": null,
   "id": "4daeccfa",
   "metadata": {},
   "outputs": [],
   "source": [
    "from utils.engine import train\n",
    "from utils.model_architectures import TinyVGG_1\n",
    "from utils.data_loaders import create_train_test_dataloaders\n",
    "from torch import nn\n",
    "from utils.helpers import create_writer\n",
    "from utils.helpers import create_experiment_metadata\n",
    "train_dataloader, test_dataloader = create_train_test_dataloaders()\n",
    "\n",
    "device = \"cuda\" if torch.cuda.is_available() else \"cpu\"\n",
    "\n",
    "model_0 = TinyVGG_1(input_shape=1,hidden_channels=10,output_shape=10).to(device)\n",
    "loss_fn = nn.CrossEntropyLoss()\n",
    "optimizer = torch.optim.SGD(params=model_0.parameters(),lr=0.01)"
   ]
  },
  {
   "cell_type": "code",
   "execution_count": null,
   "id": "743adb5e",
   "metadata": {},
   "outputs": [],
   "source": [
    "optimizer.__getstate__()['defaults']"
   ]
  },
  {
   "cell_type": "code",
   "execution_count": null,
   "id": "d7bae9de",
   "metadata": {},
   "outputs": [],
   "source": [
    "model_0.__getstate__()['_modules']"
   ]
  },
  {
   "cell_type": "code",
   "execution_count": null,
   "id": "eca7c459",
   "metadata": {},
   "outputs": [],
   "source": [
    "import pickle\n",
    "with open(r\"C:\\Users\\oriol\\GitHub_Repos\\CNN-classification\\runs_metadata\\TinyVGG_1\\Test_writer_and_dict\\2 epochs\\Metadata.pkl\", 'rb') as file:\n",
    "    meta_dict = pickle.load(file)"
   ]
  },
  {
   "cell_type": "code",
   "execution_count": null,
   "id": "a30e5a80",
   "metadata": {},
   "outputs": [],
   "source": [
    "print(meta_dict)"
   ]
  },
  {
   "cell_type": "code",
   "execution_count": null,
   "id": "03012040",
   "metadata": {},
   "outputs": [],
   "source": []
  },
  {
   "cell_type": "code",
   "execution_count": null,
   "id": "0c9b4818",
   "metadata": {},
   "outputs": [],
   "source": [
    "wrtr.__getstate__()['log_dir']"
   ]
  },
  {
   "cell_type": "code",
   "execution_count": null,
   "id": "9fb810f6",
   "metadata": {},
   "outputs": [],
   "source": [
    "import os\n",
    "from utils.config import RUNS_DIRECTORY\n",
    "from utils.helpers import create_writer\n",
    "wrtr = create_writer(model_name=\"None\",experiment_name=\"Test expname extraction\",extra=\"Please\")\n",
    "\n",
    "relpath = os.path.normpath(os.path.relpath(wrtr.__getstate__()['log_dir'],RUNS_DIRECTORY))\n",
    "components = relpath.split(os.sep)"
   ]
  },
  {
   "cell_type": "code",
   "execution_count": null,
   "id": "4d3d6bc9",
   "metadata": {},
   "outputs": [],
   "source": [
    "print(f\"Model name '{components[0]}' and experiment name '{components[1]}'\")\n",
    "type(components[0])"
   ]
  },
  {
   "cell_type": "code",
   "execution_count": null,
   "id": "d6306241",
   "metadata": {},
   "outputs": [],
   "source": [
    "from utils.model_architectures import TinyVGG_1\n",
    "\n",
    "device = \"cuda\" if torch.cuda.is_available() else \"cpu\"\n",
    "\n",
    "model_0 = TinyVGG_1(input_shape=1,hidden_channels=10,output_shape=10).to(device)"
   ]
  },
  {
   "cell_type": "code",
   "execution_count": null,
   "id": "bf83a7aa",
   "metadata": {},
   "outputs": [],
   "source": [
    "from utils.config import RUNS_METADATA_DIRECTORY\n",
    "dictpath = os.path.join(RUNS_METADATA_DIRECTORY,relpath)\n",
    "print(dictpath)"
   ]
  },
  {
   "cell_type": "code",
   "execution_count": null,
   "id": "80220fa0",
   "metadata": {},
   "outputs": [],
   "source": [
    "import os\n",
    "from utils.config import RUNS_METADATA_DIRECTORY\n",
    "import pickle\n",
    "metadata_file = os.path.join(RUNS_METADATA_DIRECTORY,\"TinyVGG_1\",\"Test_writer_and_newdict\",\"1 epochs\",\"Metadata.pkl\")\n",
    "with open(metadata_file, 'rb') as f:\n",
    "    resdict = pickle.load(f)"
   ]
  },
  {
   "cell_type": "code",
   "execution_count": null,
   "id": "b5653dcb",
   "metadata": {},
   "outputs": [],
   "source": [
    "resdict"
   ]
  },
  {
   "cell_type": "code",
   "execution_count": 13,
   "id": "04e8cdc8",
   "metadata": {},
   "outputs": [
    {
     "name": "stdout",
     "output_type": "stream",
     "text": [
      "21-08-2025 12:24\n"
     ]
    }
   ],
   "source": [
    "from datetime import datetime \n",
    "\n",
    "print(datetime.now().strftime(\"%d-%m-%Y %H:%M\"))\n"
   ]
  },
  {
   "cell_type": "code",
   "execution_count": 10,
   "id": "22a24443",
   "metadata": {},
   "outputs": [
    {
     "data": {
      "text/plain": [
       "<All keys matched successfully>"
      ]
     },
     "execution_count": 10,
     "metadata": {},
     "output_type": "execute_result"
    }
   ],
   "source": [
    "from utils.model_architectures import TinyVGG_1\n",
    "loaded_model = TinyVGG_1(1,10,10)\n",
    "loaded_model.load_state_dict(torch.load(f=r\"C:\\Users\\oriol\\GitHub_Repos\\CNN-classification\\models\\Untrained_TinyVGG_1.pth\")) "
   ]
  },
  {
   "cell_type": "code",
   "execution_count": 123,
   "id": "d68bff46",
   "metadata": {},
   "outputs": [],
   "source": [
    "HYPERPARAMETERS = {'Hidden Channels': [20,40,60,80,100],\n",
    "                   'Epochs': [10,20],\n",
    "                   'lr': [0.01,0.001],\n",
    "                   'padding': [0,1],\n",
    "                   'Fifth': ['A','B','C','D']\n",
    "                   }\n"
   ]
  },
  {
   "cell_type": "code",
   "execution_count": 124,
   "id": "287b53f6",
   "metadata": {},
   "outputs": [],
   "source": [
    "def flatten(mixed_list):\n",
    "    \"\"\"Flattens a list that contains numbers and other lists.\n",
    "    \n",
    "    Args: \n",
    "        mixed_list: A list containing numbers and lists.\n",
    "    \n",
    "    Returns: \n",
    "        A list of all the elements.\n",
    "    \"\"\"\n",
    "    flattened_list = []\n",
    "    for elem in mixed_list:\n",
    "        if isinstance(elem,list):\n",
    "            for el in elem:\n",
    "                flattened_list.append(el)\n",
    "        else:\n",
    "            flattened_list.append(elem)\n",
    "    return flattened_list\n",
    "    \n"
   ]
  },
  {
   "cell_type": "code",
   "execution_count": 125,
   "id": "4a451a46",
   "metadata": {},
   "outputs": [],
   "source": [
    "def list_combinator(list_1, list_2):\n",
    "    \"\"\"Returns a list of all pairs of elements of list 1 and 2.\n",
    "    \n",
    "    If any of the two lists is empty returns the other. \n",
    "    If any of the elements of the list is another list, it flattens it. \n",
    "\n",
    "    Args: \n",
    "        list_1: List number one.\n",
    "        list_2: List number two.\n",
    "    \n",
    "    Returns: \n",
    "        A list of lists. \n",
    "        \n",
    "    For example: \n",
    "        list_combinator([1,2],[3,4]) returns [[1,3],[1,4],[2,3],[2,4]]\n",
    "    \"\"\"\n",
    "    if list_1 == []:\n",
    "        return list_2\n",
    "    if list_2 == []:\n",
    "        return list_1\n",
    "    \n",
    "    list_combinations = []\n",
    "    for el_1 in list_1:\n",
    "        for el_2 in list_2:\n",
    "            if isinstance(el_1, list) or isinstance(el_2, list):\n",
    "                list_combinations.append(flatten([el_1,el_2]))\n",
    "            else:\n",
    "                list_combinations.append([el_1,el_2])\n",
    "    return list_combinations"
   ]
  },
  {
   "cell_type": "code",
   "execution_count": 2,
   "id": "7c069971",
   "metadata": {},
   "outputs": [],
   "source": [
    "def hyperparameter_combinator(hyperparams):\n",
    "    \"\"\"Returns all possible combinations of hyperparameters.\n",
    "    \n",
    "    Args: \n",
    "        hyperparams: A dictionary containing the hyperparameters. \n",
    "    \n",
    "    For example: \n",
    "        HYPERPARAMETERS = {'Hidden Channels': [20,40,60,80,100],\n",
    "                            'Epochs': [10,20,30],\n",
    "                            'lr': [0.1,0.01,0.001]\n",
    "                            } \n",
    "    Returns: \n",
    "        A list of tuples of all possible combinations, e.g \n",
    "        [(20,10,0.1),(20,10,0.01),...,(100,30,0.001)]\n",
    "    \"\"\"\n",
    "\n",
    "    hyperparams_list = []\n",
    "    hyperparams_combinations = []\n",
    "    tuple_combinations = []\n",
    "\n",
    "    for key in hyperparams.keys():\n",
    "        hyperparams_list.append(hyperparams[key])\n",
    "    \n",
    "    for hplist in hyperparams_list:\n",
    "        hyperparams_combinations = list_combinator(hyperparams_combinations,hplist)\n",
    "\n",
    "    for combination in hyperparams_combinations:\n",
    "        tuple_combinations.append(tuple(combination))\n",
    "    \n",
    "    return tuple_combinations"
   ]
  },
  {
   "cell_type": "code",
   "execution_count": 130,
   "id": "5564cb00",
   "metadata": {},
   "outputs": [
    {
     "name": "stdout",
     "output_type": "stream",
     "text": [
      "Length 160, Multiplication 160\n"
     ]
    }
   ],
   "source": [
    "combins = hyperparameter_combinator(HYPERPARAMETERS)\n",
    "mul = 1\n",
    "hpl = []\n",
    "for key in HYPERPARAMETERS.keys():\n",
    "    hpl.append(HYPERPARAMETERS[key])\n",
    "for li in hpl:\n",
    "    mul = len(li)*mul\n",
    "print(f\"Length {len(combins)}, Multiplication {mul}\")\n"
   ]
  },
  {
   "cell_type": "code",
   "execution_count": 131,
   "id": "9f722cc5",
   "metadata": {},
   "outputs": [
    {
     "data": {
      "text/plain": [
       "[(20, 10, 0.01, 0, 'A'),\n",
       " (20, 10, 0.01, 0, 'B'),\n",
       " (20, 10, 0.01, 0, 'C'),\n",
       " (20, 10, 0.01, 0, 'D'),\n",
       " (20, 10, 0.01, 1, 'A'),\n",
       " (20, 10, 0.01, 1, 'B'),\n",
       " (20, 10, 0.01, 1, 'C'),\n",
       " (20, 10, 0.01, 1, 'D'),\n",
       " (20, 10, 0.001, 0, 'A'),\n",
       " (20, 10, 0.001, 0, 'B'),\n",
       " (20, 10, 0.001, 0, 'C'),\n",
       " (20, 10, 0.001, 0, 'D'),\n",
       " (20, 10, 0.001, 1, 'A'),\n",
       " (20, 10, 0.001, 1, 'B'),\n",
       " (20, 10, 0.001, 1, 'C'),\n",
       " (20, 10, 0.001, 1, 'D'),\n",
       " (20, 20, 0.01, 0, 'A'),\n",
       " (20, 20, 0.01, 0, 'B'),\n",
       " (20, 20, 0.01, 0, 'C'),\n",
       " (20, 20, 0.01, 0, 'D'),\n",
       " (20, 20, 0.01, 1, 'A'),\n",
       " (20, 20, 0.01, 1, 'B'),\n",
       " (20, 20, 0.01, 1, 'C'),\n",
       " (20, 20, 0.01, 1, 'D'),\n",
       " (20, 20, 0.001, 0, 'A'),\n",
       " (20, 20, 0.001, 0, 'B'),\n",
       " (20, 20, 0.001, 0, 'C'),\n",
       " (20, 20, 0.001, 0, 'D'),\n",
       " (20, 20, 0.001, 1, 'A'),\n",
       " (20, 20, 0.001, 1, 'B'),\n",
       " (20, 20, 0.001, 1, 'C'),\n",
       " (20, 20, 0.001, 1, 'D'),\n",
       " (40, 10, 0.01, 0, 'A'),\n",
       " (40, 10, 0.01, 0, 'B'),\n",
       " (40, 10, 0.01, 0, 'C'),\n",
       " (40, 10, 0.01, 0, 'D'),\n",
       " (40, 10, 0.01, 1, 'A'),\n",
       " (40, 10, 0.01, 1, 'B'),\n",
       " (40, 10, 0.01, 1, 'C'),\n",
       " (40, 10, 0.01, 1, 'D'),\n",
       " (40, 10, 0.001, 0, 'A'),\n",
       " (40, 10, 0.001, 0, 'B'),\n",
       " (40, 10, 0.001, 0, 'C'),\n",
       " (40, 10, 0.001, 0, 'D'),\n",
       " (40, 10, 0.001, 1, 'A'),\n",
       " (40, 10, 0.001, 1, 'B'),\n",
       " (40, 10, 0.001, 1, 'C'),\n",
       " (40, 10, 0.001, 1, 'D'),\n",
       " (40, 20, 0.01, 0, 'A'),\n",
       " (40, 20, 0.01, 0, 'B'),\n",
       " (40, 20, 0.01, 0, 'C'),\n",
       " (40, 20, 0.01, 0, 'D'),\n",
       " (40, 20, 0.01, 1, 'A'),\n",
       " (40, 20, 0.01, 1, 'B'),\n",
       " (40, 20, 0.01, 1, 'C'),\n",
       " (40, 20, 0.01, 1, 'D'),\n",
       " (40, 20, 0.001, 0, 'A'),\n",
       " (40, 20, 0.001, 0, 'B'),\n",
       " (40, 20, 0.001, 0, 'C'),\n",
       " (40, 20, 0.001, 0, 'D'),\n",
       " (40, 20, 0.001, 1, 'A'),\n",
       " (40, 20, 0.001, 1, 'B'),\n",
       " (40, 20, 0.001, 1, 'C'),\n",
       " (40, 20, 0.001, 1, 'D'),\n",
       " (60, 10, 0.01, 0, 'A'),\n",
       " (60, 10, 0.01, 0, 'B'),\n",
       " (60, 10, 0.01, 0, 'C'),\n",
       " (60, 10, 0.01, 0, 'D'),\n",
       " (60, 10, 0.01, 1, 'A'),\n",
       " (60, 10, 0.01, 1, 'B'),\n",
       " (60, 10, 0.01, 1, 'C'),\n",
       " (60, 10, 0.01, 1, 'D'),\n",
       " (60, 10, 0.001, 0, 'A'),\n",
       " (60, 10, 0.001, 0, 'B'),\n",
       " (60, 10, 0.001, 0, 'C'),\n",
       " (60, 10, 0.001, 0, 'D'),\n",
       " (60, 10, 0.001, 1, 'A'),\n",
       " (60, 10, 0.001, 1, 'B'),\n",
       " (60, 10, 0.001, 1, 'C'),\n",
       " (60, 10, 0.001, 1, 'D'),\n",
       " (60, 20, 0.01, 0, 'A'),\n",
       " (60, 20, 0.01, 0, 'B'),\n",
       " (60, 20, 0.01, 0, 'C'),\n",
       " (60, 20, 0.01, 0, 'D'),\n",
       " (60, 20, 0.01, 1, 'A'),\n",
       " (60, 20, 0.01, 1, 'B'),\n",
       " (60, 20, 0.01, 1, 'C'),\n",
       " (60, 20, 0.01, 1, 'D'),\n",
       " (60, 20, 0.001, 0, 'A'),\n",
       " (60, 20, 0.001, 0, 'B'),\n",
       " (60, 20, 0.001, 0, 'C'),\n",
       " (60, 20, 0.001, 0, 'D'),\n",
       " (60, 20, 0.001, 1, 'A'),\n",
       " (60, 20, 0.001, 1, 'B'),\n",
       " (60, 20, 0.001, 1, 'C'),\n",
       " (60, 20, 0.001, 1, 'D'),\n",
       " (80, 10, 0.01, 0, 'A'),\n",
       " (80, 10, 0.01, 0, 'B'),\n",
       " (80, 10, 0.01, 0, 'C'),\n",
       " (80, 10, 0.01, 0, 'D'),\n",
       " (80, 10, 0.01, 1, 'A'),\n",
       " (80, 10, 0.01, 1, 'B'),\n",
       " (80, 10, 0.01, 1, 'C'),\n",
       " (80, 10, 0.01, 1, 'D'),\n",
       " (80, 10, 0.001, 0, 'A'),\n",
       " (80, 10, 0.001, 0, 'B'),\n",
       " (80, 10, 0.001, 0, 'C'),\n",
       " (80, 10, 0.001, 0, 'D'),\n",
       " (80, 10, 0.001, 1, 'A'),\n",
       " (80, 10, 0.001, 1, 'B'),\n",
       " (80, 10, 0.001, 1, 'C'),\n",
       " (80, 10, 0.001, 1, 'D'),\n",
       " (80, 20, 0.01, 0, 'A'),\n",
       " (80, 20, 0.01, 0, 'B'),\n",
       " (80, 20, 0.01, 0, 'C'),\n",
       " (80, 20, 0.01, 0, 'D'),\n",
       " (80, 20, 0.01, 1, 'A'),\n",
       " (80, 20, 0.01, 1, 'B'),\n",
       " (80, 20, 0.01, 1, 'C'),\n",
       " (80, 20, 0.01, 1, 'D'),\n",
       " (80, 20, 0.001, 0, 'A'),\n",
       " (80, 20, 0.001, 0, 'B'),\n",
       " (80, 20, 0.001, 0, 'C'),\n",
       " (80, 20, 0.001, 0, 'D'),\n",
       " (80, 20, 0.001, 1, 'A'),\n",
       " (80, 20, 0.001, 1, 'B'),\n",
       " (80, 20, 0.001, 1, 'C'),\n",
       " (80, 20, 0.001, 1, 'D'),\n",
       " (100, 10, 0.01, 0, 'A'),\n",
       " (100, 10, 0.01, 0, 'B'),\n",
       " (100, 10, 0.01, 0, 'C'),\n",
       " (100, 10, 0.01, 0, 'D'),\n",
       " (100, 10, 0.01, 1, 'A'),\n",
       " (100, 10, 0.01, 1, 'B'),\n",
       " (100, 10, 0.01, 1, 'C'),\n",
       " (100, 10, 0.01, 1, 'D'),\n",
       " (100, 10, 0.001, 0, 'A'),\n",
       " (100, 10, 0.001, 0, 'B'),\n",
       " (100, 10, 0.001, 0, 'C'),\n",
       " (100, 10, 0.001, 0, 'D'),\n",
       " (100, 10, 0.001, 1, 'A'),\n",
       " (100, 10, 0.001, 1, 'B'),\n",
       " (100, 10, 0.001, 1, 'C'),\n",
       " (100, 10, 0.001, 1, 'D'),\n",
       " (100, 20, 0.01, 0, 'A'),\n",
       " (100, 20, 0.01, 0, 'B'),\n",
       " (100, 20, 0.01, 0, 'C'),\n",
       " (100, 20, 0.01, 0, 'D'),\n",
       " (100, 20, 0.01, 1, 'A'),\n",
       " (100, 20, 0.01, 1, 'B'),\n",
       " (100, 20, 0.01, 1, 'C'),\n",
       " (100, 20, 0.01, 1, 'D'),\n",
       " (100, 20, 0.001, 0, 'A'),\n",
       " (100, 20, 0.001, 0, 'B'),\n",
       " (100, 20, 0.001, 0, 'C'),\n",
       " (100, 20, 0.001, 0, 'D'),\n",
       " (100, 20, 0.001, 1, 'A'),\n",
       " (100, 20, 0.001, 1, 'B'),\n",
       " (100, 20, 0.001, 1, 'C'),\n",
       " (100, 20, 0.001, 1, 'D')]"
      ]
     },
     "execution_count": 131,
     "metadata": {},
     "output_type": "execute_result"
    }
   ],
   "source": [
    "combins"
   ]
  },
  {
   "cell_type": "code",
   "execution_count": null,
   "id": "2340fff7",
   "metadata": {},
   "outputs": [],
   "source": [
    "#Rethink the tensorboard structure\n",
    "\n",
    "#Write all HYPERPARAMETERS in extra\n",
    "\n",
    "#Pros of writing all HYPERPARAMETERS in extra\n",
    "    #Easy filtering by hyperparameter values\n",
    "#Cons\n",
    "    #If I want to add 1 more in the future it will be missing from all older experiment names\n",
    "    #Long names\n",
    "\n",
    "#I choose HYPERPARAMETERS by model architecture then it is less releavnt since there will be less changes \n",
    "#within the same architecture\n",
    "\n",
    "#Maybe store the loss and accuracy as a panda dataframe with a column for\n",
    "#Exp number (ID), HYPERPARAMETERS (the combination used for the experiment or more idk), exp name, model name, ... test acc, test loss, trsin acc, train loss\n",
    "\n",
    "#Exp number should be mutable or immutable?\n",
    "#Decide it when I create the Metadata.pkl file or when I load the dataframe?\n",
    "#If I decide it when creating the metadata, how do I keep trak of experiment number between different days or sessions?\n",
    "\n",
    "#One column for epoch (1,2,3,...) and another for number of epochs (fixed, 20 or smth)\n",
    "\n",
    "#Broad idea is \n",
    "#to store the metadata (same as now)\n",
    "#log to tensorboard (same as now)\n",
    "#create dataframe with column names and values of acc and hyperparameters\n",
    "#save the dataframe as a parquet or feather with column names depending on experiment (new)\n",
    "\n",
    "#The files are all saved in one folder, and when I want to access the database I load them all and join them as pd dataframes. \n",
    "    #might want to add a load filter\n",
    "#The files will be stored in a folder /experiment_results and the names will be \n",
    "    # model_name-experiment_name-extra\n",
    "\n",
    "#I will need to deal with dataframes with different number of columns, so remember types of joins. \n",
    "\n",
    "#Then do a dataframe filter and plotter :)\n",
    "\n",
    "#PROBLEMS\n",
    "\n",
    "    #How to do a useful legend for so many plots "
   ]
  },
  {
   "cell_type": "code",
   "execution_count": null,
   "id": "9f5bad53",
   "metadata": {},
   "outputs": [],
   "source": [
    "#For filtering filenames \n",
    "\n",
    "#names = [os.path.basename(x) for x in glob.glob('/your_path')] \n",
    "# makes glob return only filenames instead of the whole path "
   ]
  },
  {
   "cell_type": "code",
   "execution_count": null,
   "id": "433b2f8d",
   "metadata": {},
   "outputs": [
    {
     "name": "stdout",
     "output_type": "stream",
     "text": [
      "[INFO] Created SummaryWriter, saving to: c:\\Users\\oriol\\GitHub_Repos\\CNN-classification\\experiment_logs\\runs\\TinyVGG_1\\Test_dataframe\\Hidden_Channels_40_Epochs_2_lr_0.01...\n",
      "[INFO] Created experiment metadata, saving to: c:\\Users\\oriol\\GitHub_Repos\\CNN-classification\\experiment_logs\\runs_metadata\\TinyVGG_1\\Test_dataframe\\Hidden_Channels_40_Epochs_2_lr_0.01...\n"
     ]
    },
    {
     "data": {
      "application/vnd.jupyter.widget-view+json": {
       "model_id": "b4878c8451bb47548c8f0bcc3c7fb51b",
       "version_major": 2,
       "version_minor": 0
      },
      "text/plain": [
       "  0%|          | 0/2 [00:00<?, ?it/s]"
      ]
     },
     "metadata": {},
     "output_type": "display_data"
    },
    {
     "name": "stdout",
     "output_type": "stream",
     "text": [
      "[INFO] Saving results to: c:\\Users\\oriol\\GitHub_Repos\\CNN-classification\\experiment_logs\\results\\TinyVGG_1_Test_dataframe_Hidden_Channels_40_Epochs_2_lr_0.01.feather\n",
      "[INFO] Created SummaryWriter, saving to: c:\\Users\\oriol\\GitHub_Repos\\CNN-classification\\experiment_logs\\runs\\TinyVGG_1\\Test_dataframe\\Hidden_Channels_40_Epochs_2_lr_0.001...\n",
      "[INFO] Created experiment metadata, saving to: c:\\Users\\oriol\\GitHub_Repos\\CNN-classification\\experiment_logs\\runs_metadata\\TinyVGG_1\\Test_dataframe\\Hidden_Channels_40_Epochs_2_lr_0.001...\n"
     ]
    },
    {
     "data": {
      "application/vnd.jupyter.widget-view+json": {
       "model_id": "3c999a31738f4425b4a411a4acd2d727",
       "version_major": 2,
       "version_minor": 0
      },
      "text/plain": [
       "  0%|          | 0/2 [00:00<?, ?it/s]"
      ]
     },
     "metadata": {},
     "output_type": "display_data"
    },
    {
     "name": "stdout",
     "output_type": "stream",
     "text": [
      "[INFO] Saving results to: c:\\Users\\oriol\\GitHub_Repos\\CNN-classification\\experiment_logs\\results\\TinyVGG_1_Test_dataframe_Hidden_Channels_40_Epochs_2_lr_0.001.feather\n",
      "[INFO] Created SummaryWriter, saving to: c:\\Users\\oriol\\GitHub_Repos\\CNN-classification\\experiment_logs\\runs\\TinyVGG_1\\Test_dataframe\\Hidden_Channels_40_Epochs_3_lr_0.01...\n",
      "[INFO] Created experiment metadata, saving to: c:\\Users\\oriol\\GitHub_Repos\\CNN-classification\\experiment_logs\\runs_metadata\\TinyVGG_1\\Test_dataframe\\Hidden_Channels_40_Epochs_3_lr_0.01...\n"
     ]
    },
    {
     "data": {
      "application/vnd.jupyter.widget-view+json": {
       "model_id": "955a8dd338894b33a59b899475be5011",
       "version_major": 2,
       "version_minor": 0
      },
      "text/plain": [
       "  0%|          | 0/3 [00:00<?, ?it/s]"
      ]
     },
     "metadata": {},
     "output_type": "display_data"
    },
    {
     "name": "stdout",
     "output_type": "stream",
     "text": [
      "[INFO] Saving results to: c:\\Users\\oriol\\GitHub_Repos\\CNN-classification\\experiment_logs\\results\\TinyVGG_1_Test_dataframe_Hidden_Channels_40_Epochs_3_lr_0.01.feather\n",
      "[INFO] Created SummaryWriter, saving to: c:\\Users\\oriol\\GitHub_Repos\\CNN-classification\\experiment_logs\\runs\\TinyVGG_1\\Test_dataframe\\Hidden_Channels_40_Epochs_3_lr_0.001...\n",
      "[INFO] Created experiment metadata, saving to: c:\\Users\\oriol\\GitHub_Repos\\CNN-classification\\experiment_logs\\runs_metadata\\TinyVGG_1\\Test_dataframe\\Hidden_Channels_40_Epochs_3_lr_0.001...\n"
     ]
    },
    {
     "data": {
      "application/vnd.jupyter.widget-view+json": {
       "model_id": "7e46b1cc34cf4c329fbdfbdf386c4af3",
       "version_major": 2,
       "version_minor": 0
      },
      "text/plain": [
       "  0%|          | 0/3 [00:00<?, ?it/s]"
      ]
     },
     "metadata": {},
     "output_type": "display_data"
    },
    {
     "name": "stdout",
     "output_type": "stream",
     "text": [
      "[INFO] Saving results to: c:\\Users\\oriol\\GitHub_Repos\\CNN-classification\\experiment_logs\\results\\TinyVGG_1_Test_dataframe_Hidden_Channels_40_Epochs_3_lr_0.001.feather\n"
     ]
    }
   ],
   "source": [
    "from utils.engine import train\n",
    "from utils.model_architectures import TinyVGG_1\n",
    "from utils.data_loaders import create_train_test_dataloaders\n",
    "from torch import nn\n",
    "from utils.helpers import create_writer\n",
    "from utils.helpers import create_dataframe\n",
    "from utils.helpers import hyperparameter_combinations\n",
    "from utils.helpers import save_dataframe\n",
    "\n",
    "device = \"cuda\" if torch.cuda.is_available() else \"cpu\"\n",
    "\n",
    "HYPERPARAMETERS = {'Hidden_Channels': [40],\n",
    "                   'Epochs': [2,3],\n",
    "                   'lr': [0.01,0.001],\n",
    "                   }\n",
    "\n",
    "experiment_name = \"Test_dataframe\"\n",
    "hp_combinations = hyperparameter_combinations(HYPERPARAMETERS)\n",
    "\n",
    "for n,combination in enumerate(hp_combinations):\n",
    "    HIDDEN_CHANNELS = combination[0]\n",
    "    NUM_EPOCHS = combination[1]\n",
    "    LR = combination[2]\n",
    "\n",
    "    train_dataloader, test_dataloader = create_train_test_dataloaders(size=0.1) #type: ignore\n",
    "\n",
    "    model_0 = TinyVGG_1(input_shape=1,hidden_channels=HIDDEN_CHANNELS,output_shape=10).to(device)\n",
    "    loss_fn = nn.CrossEntropyLoss()\n",
    "    optimizer = torch.optim.SGD(params=model_0.parameters(),lr=LR)\n",
    "\n",
    "    model_name = model_0._get_name()\n",
    "\n",
    "    extra = \"\"\n",
    "    namelist = [str(key)+\"_\"+str(val)+\"_\" for key,val in zip(HYPERPARAMETERS.keys(),combination)]\n",
    "    for elem in namelist:\n",
    "        extra += elem\n",
    "    extra = extra[:-1]\n",
    "\n",
    "    writer = create_writer(experiment_name=experiment_name,model_name=model_name,extra=extra)\n",
    "\n",
    "    results = train(model=model_0,train_dataloader=train_dataloader,test_dataloader=test_dataloader,optimizer=optimizer,loss_fn=loss_fn,epochs=NUM_EPOCHS,writer=writer)\n",
    "\n",
    "    df = create_dataframe(results=results,hyperparameters_tuple=combination,hyperparameters_keys=HYPERPARAMETERS.keys())\n",
    "    save_dataframe(df,model_name=model_name,experiment_name=experiment_name,extra=extra)\n",
    "\n",
    "\n",
    "\n",
    "\n",
    "# Change long ass filenames to folder structure in results\n",
    "# Change order to experiment_name/model_name\n",
    "# Add .gitignore to results\n",
    "\n"
   ]
  },
  {
   "cell_type": "code",
   "execution_count": 111,
   "id": "935ca79f",
   "metadata": {},
   "outputs": [
    {
     "data": {
      "image/png": "[encoded data removed]",
      "text/plain": [
       "<Figure size 1100x500 with 4 Axes>"
      ]
     },
     "metadata": {},
     "output_type": "display_data"
    }
   ],
   "source": [
    "import matplotlib.pyplot as plt \n",
    "import pandas as pd\n",
    "from utils.config import RESULTS_DIRECTORY\n",
    "import numpy as np\n",
    "resdf = pd.read_feather(RESULTS_DIRECTORY+\"\\\\TinyVGG_1_Test_dataframe_Hidden_Channels_40_Epochs_3_lr_0.01.feather\")\n",
    "#resdf.set_index(\"Epoch #\",inplace=True)\n",
    "resdf.head()\n",
    "\n",
    "names = [\"rt\",\"rj\",\"rd\",\"rh\"]\n",
    "\n",
    "fig,ax = plt.subplots(1,2,figsize=(11,5))\n",
    "ax[0].plot([1,2,3],resdf[[\"train_acc\"]],'-')\n",
    "ax[0].plot([1,2,3],resdf[[\"test_acc\"]],'--')\n",
    "ax[1].plot([1,2,3],resdf[[\"train_loss\"]],'-')\n",
    "ax[1].plot([1,2,3],resdf[[\"test_loss\"]],'--')\n",
    "\n",
    "#ax[0].legend(labels=[\"1\",\"2\",\"3\",\"4\"])\n",
    "#ax[1].legend(labels=[\"train_loss\",\"test_loss\"])\n",
    "ax2 = ax[0].twinx()\n",
    "\n",
    "lines = ax[0].get_lines()\n",
    "ax[0].legend(labels=names,loc=1)\n",
    "\n",
    "\n",
    "ax2.get_yaxis().set_visible(False)\n",
    "ax2.plot(np.nan,np.nan,'-',label=\"train\",color ='black') #train\n",
    "ax2.plot(np.nan,np.nan,'--',label=\"test\",color='black') #test\n",
    "ax2.legend(loc=2)#,fontsize=\"xx-large\",bbox_to_anchor=(0.5, 0.0))\n",
    "\n",
    "ax3 = ax[1].twinx()\n",
    "\n",
    "lines = ax[1].get_lines()\n",
    "ax[1].legend(labels=names,loc=1)\n",
    "\n",
    "\n",
    "ax3.get_yaxis().set_visible(False)\n",
    "ax3.plot(np.nan,np.nan,'-',label=\"train\",color ='black') #train\n",
    "ax3.plot(np.nan,np.nan,'--',label=\"test\",color='black') #test\n",
    "ax3.legend(loc=2)#,fontsize=\"xx-large\",bbox_to_anchor=(0.5, 0.0))\n",
    "\n",
    "plt.show()\n"
   ]
  },
  {
   "cell_type": "code",
   "execution_count": null,
   "id": "6e1464b9",
   "metadata": {},
   "outputs": [
    {
     "data": {
      "text/plain": [
       "array([  5.,  10.,  15.,  20.,  25.,  30.,  35.,  40.,  45.,  50.,  55.,\n",
       "        60.,  65.,  70.,  75.,  80.,  85.,  90.,  95., 100.])"
      ]
     },
     "execution_count": 148,
     "metadata": {},
     "output_type": "execute_result"
    }
   ],
   "source": [
    "import numpy as np\n",
    "# To normalize the epochs\n",
    "big = np.array(np.linspace(1,100,100))\n",
    "mid = np.linspace(1,20,20)\n",
    "small = np.array(np.linspace(1,5,5))\n",
    "\n",
    "small = small * 100/5\n",
    "mid = mid * 100/20"
   ]
  },
  {
   "cell_type": "markdown",
   "id": "a150faf1",
   "metadata": {},
   "source": [
    "---------------------------------"
   ]
  },
  {
   "cell_type": "code",
   "execution_count": 4,
   "id": "bad00fc3",
   "metadata": {},
   "outputs": [
    {
     "data": {
      "text/plain": [
       "{'date': '23-08-2025 17:48',\n",
       " 'experiment name': 'Test_dataframe',\n",
       " 'model name': 'TinyVGG_1',\n",
       " 'learning rate': 0.001,\n",
       " 'epochs': 1,\n",
       " 'loss function': 'CrossEntropyLoss',\n",
       " 'optimizer name': 'SGD',\n",
       " 'dataset': 'FashionMNIST',\n",
       " 'training dataset size': 6000,\n",
       " 'testing dataset size': 1000,\n",
       " 'batch size': 32,\n",
       " 'optimizer params': {'lr': 0.001,\n",
       "  'momentum': 0,\n",
       "  'dampening': 0,\n",
       "  'weight_decay': 0,\n",
       "  'nesterov': False,\n",
       "  'maximize': False,\n",
       "  'foreach': None,\n",
       "  'differentiable': False,\n",
       "  'fused': None},\n",
       " 'model params': {'layer_1': Sequential(\n",
       "    (0): Conv2d(1, 40, kernel_size=(3, 3), stride=(1, 1))\n",
       "    (1): ReLU()\n",
       "    (2): Conv2d(40, 40, kernel_size=(3, 3), stride=(1, 1))\n",
       "    (3): ReLU()\n",
       "    (4): MaxPool2d(kernel_size=2, stride=2, padding=0, dilation=1, ceil_mode=False)\n",
       "  ),\n",
       "  'layer_2': Sequential(\n",
       "    (0): Conv2d(40, 40, kernel_size=(3, 3), stride=(1, 1))\n",
       "    (1): ReLU()\n",
       "    (2): Conv2d(40, 40, kernel_size=(3, 3), stride=(1, 1))\n",
       "    (3): ReLU()\n",
       "    (4): MaxPool2d(kernel_size=2, stride=2, padding=0, dilation=1, ceil_mode=False)\n",
       "  ),\n",
       "  'layer_3': Sequential(\n",
       "    (0): Flatten(start_dim=1, end_dim=-1)\n",
       "    (1): Linear(in_features=640, out_features=10, bias=True)\n",
       "  )}}"
      ]
     },
     "execution_count": 4,
     "metadata": {},
     "output_type": "execute_result"
    }
   ],
   "source": [
    "from utils.helpers import retrieve_metadata\n",
    "\n",
    "retrieve_metadata(model_name=\"TinyVGG_1\",experiment_name=\"Test_dataframe\",extra=\"Hidden Channels_40_Epochs_1_lr_0.001\")"
   ]
  },
  {
   "cell_type": "code",
   "execution_count": null,
   "id": "80e0556c",
   "metadata": {},
   "outputs": [],
   "source": []
  }
 ],
 "metadata": {
  "kernelspec": {
   "display_name": "pytorch_cu126",
   "language": "python",
   "name": "python3"
  },
  "language_info": {
   "codemirror_mode": {
    "name": "ipython",
    "version": 3
   },
   "file_extension": ".py",
   "mimetype": "text/x-python",
   "name": "python",
   "nbconvert_exporter": "python",
   "pygments_lexer": "ipython3",
   "version": "3.12.3"
  }
 },
 "nbformat": 4,
 "nbformat_minor": 5
}
