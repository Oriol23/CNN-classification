{
 "cells": [
  {
   "cell_type": "markdown",
   "id": "6b2276bd",
   "metadata": {},
   "source": [
    "# SETUP "
   ]
  },
  {
   "cell_type": "code",
   "execution_count": null,
   "id": "b2721885",
   "metadata": {},
   "outputs": [],
   "source": [
    "import sys\n",
    "import os\n",
    "from pathlib import Path\n",
    "\n",
    "modulepath = Path.cwd().parent / \"utils\"\n",
    "modulepath = str(modulepath)\n",
    "projectpath = Path.cwd().parent\n",
    "projectpath = str(projectpath)\n",
    "if modulepath not in sys.path:\n",
    "    sys.path.insert(0,str(modulepath))\n",
    "if projectpath not in sys.path:\n",
    "    sys.path.insert(0,str(projectpath))  \n",
    "print(sys.path)"
   ]
  },
  {
   "cell_type": "markdown",
   "id": "44888dd4",
   "metadata": {},
   "source": [
    "# TRAIN"
   ]
  },
  {
   "cell_type": "code",
   "execution_count": null,
   "id": "433b2f8d",
   "metadata": {},
   "outputs": [],
   "source": [
    "import torch\n",
    "from torch import nn\n",
    "\n",
    "from utils.engine import train\n",
    "from utils.model_architectures import TinyVGG_1\n",
    "from utils.data_loaders import create_train_test_dataloaders\n",
    "from utils.helpers import create_writer\n",
    "from utils.helpers import create_dataframe\n",
    "from utils.helpers import hyperparameter_combinations\n",
    "from utils.helpers import save_dataframe\n",
    "from utils.helpers import create_and_save_experiment_metadata\n",
    "\n",
    "device = \"cuda\" if torch.cuda.is_available() else \"cpu\"\n",
    "#next(model.parameters()).is_cuda #check if model on cuda\n",
    "\n",
    "#from torchinfo import summary\n",
    "#summary(tvgg,input_size=[32,1,28,28])\n",
    "\n",
    "# A Hyperparameter named Iter controls the number of iterations for a given\n",
    "# set of hyperparameters\n",
    "HYPERPARAMETERS = {'Hidden_Channels': [30],\n",
    "                   'Epochs': [10],\n",
    "                   'lr': [0.1,0.01,0.001],\n",
    "                   'Iter': [3],\n",
    "                   'Size':[1]\n",
    "                   }\n",
    "\n",
    "experiment_name = \"lr_sweep_size_01\"\n",
    "hp_combinations = hyperparameter_combinations(HYPERPARAMETERS)\n",
    "    hp_keys = HYPERPARAMETERS.keys()\n",
    "\n",
    "for n,combination in enumerate(hp_combinations):\n",
    "    HIDDEN_CHANNELS = combination[0]\n",
    "    NUM_EPOCHS = combination[1]\n",
    "    LR = combination[2]\n",
    "    ITER = combination[3]\n",
    "    SIZE = combination[4]\n",
    "\n",
    "    train_dataloader, test_dataloader = create_train_test_dataloaders(size=SIZE) #type: ignore\n",
    "\n",
    "    model_0 = TinyVGG_1(input_shape=1,hidden_channels=HIDDEN_CHANNELS,output_shape=10).to(device)\n",
    "    loss_fn = nn.CrossEntropyLoss()\n",
    "    optimizer = torch.optim.SGD(params=model_0.parameters(),lr=LR)\n",
    "\n",
    "    model_name = model_0._get_name()\n",
    "    #model_name = \"Model_3\"\n",
    "\n",
    "    extra = \"\"\n",
    "    namelist = [str(key)+\"_\"+str(val)+\"_\" for key,val in zip(hp_keys,combination)]\n",
    "    for elem in namelist:\n",
    "        extra += elem\n",
    "    extra = extra[:-1]\n",
    "\n",
    "    # Create a writer to save results to tensorboard\n",
    "    writer = create_writer(experiment_name=experiment_name,\n",
    "                           model_name=model_name,\n",
    "                           extra=extra)\n",
    "    # Train the model for a number of epochs and log the results to tensorboard\n",
    "    results = train(model=model_0,\n",
    "                    train_dataloader=train_dataloader,\n",
    "                    test_dataloader=test_dataloader,\n",
    "                    optimizer=optimizer,\n",
    "                    loss_fn=loss_fn,\n",
    "                    epochs=NUM_EPOCHS,\n",
    "                    iters=ITER,\n",
    "                    writer=writer)\n",
    "    # Store additional information on the experiment\n",
    "    create_and_save_experiment_metadata(experiment_name=experiment_name,\n",
    "                                        model_name=model_name,\n",
    "                                        extra=extra,\n",
    "                                        train_dataloader=train_dataloader,\n",
    "                                        test_dataloader=test_dataloader,\n",
    "                                        model=model_0,\n",
    "                                        optimizer=optimizer,\n",
    "                                        loss_fn=loss_fn,\n",
    "                                        epochs=NUM_EPOCHS,\n",
    "                                        hyperparameters_tuple=combination,\n",
    "                                        hyperparameters_keys=hp_keys,\n",
    "                                        )\n",
    "    # Store the results of the accuracy and loss as a dataframe\n",
    "    df = create_dataframe(results=results,\n",
    "                          hyperparameters_tuple=combination,\n",
    "                          hyperparameters_keys=hp_keys)\n",
    "    save_dataframe(df=df,\n",
    "                   model_name=model_name,\n",
    "                   experiment_name=experiment_name,\n",
    "                   extra=extra)\n"
   ]
  },
  {
   "cell_type": "markdown",
   "id": "856361ab",
   "metadata": {},
   "source": [
    "# PLOT "
   ]
  },
  {
   "cell_type": "code",
   "execution_count": null,
   "id": "62e55278",
   "metadata": {},
   "outputs": [],
   "source": [
    "%matplotlib ipympl\n",
    "from utils.helpers import retrieve_results\n",
    "from utils.helpers import plot_results\n",
    "\n",
    "experiment_name = None #\"Test_plots\"\n",
    "model_name = None #\"TinyVGG_1\"\n",
    "extra = None #\"Hidden_Channels_40_Epochs_6_lr_0.01\"\n",
    "\n",
    "#Add functionality to input more than one experimemt name\n",
    "\n",
    "#Add a toggle for experiment and model names\n",
    "#No toggle for extra since they are too messy\n",
    "#But maybe a filter of some kind\n",
    "\n",
    "\n",
    "resdf = retrieve_results(experiment_name=experiment_name,model_name=model_name,extra=extra)\n",
    "plot_results(results=resdf,experiment_name=experiment_name,model_name=model_name) # type: ignore"
   ]
  },
  {
   "cell_type": "code",
   "execution_count": null,
   "id": "b3f4f0cf",
   "metadata": {},
   "outputs": [],
   "source": []
  },
  {
   "cell_type": "code",
   "execution_count": null,
   "id": "5e1c4f62",
   "metadata": {},
   "outputs": [],
   "source": []
  }
 ],
 "metadata": {
  "kernelspec": {
   "display_name": "pytorch",
   "language": "python",
   "name": "python3"
  },
  "language_info": {
   "codemirror_mode": {
    "name": "ipython",
    "version": 3
   },
   "file_extension": ".py",
   "mimetype": "text/x-python",
   "name": "python",
   "nbconvert_exporter": "python",
   "pygments_lexer": "ipython3",
   "version": "3.12.3"
  }
 },
 "nbformat": 4,
 "nbformat_minor": 5
}
