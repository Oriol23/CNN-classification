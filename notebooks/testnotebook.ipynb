{
 "cells": [
  {
   "cell_type": "markdown",
   "id": "6b2276bd",
   "metadata": {},
   "source": [
    "# SETUP "
   ]
  },
  {
   "cell_type": "code",
   "execution_count": 1,
   "id": "b2721885",
   "metadata": {},
   "outputs": [
    {
     "name": "stdout",
     "output_type": "stream",
     "text": [
      "['c:\\\\Users\\\\oriol\\\\GitHub_Repos\\\\CNN-classification', 'c:\\\\Users\\\\oriol\\\\GitHub_Repos\\\\CNN-classification\\\\utils', 'c:\\\\Users\\\\oriol\\\\anaconda3\\\\envs\\\\pytorch\\\\python312.zip', 'c:\\\\Users\\\\oriol\\\\anaconda3\\\\envs\\\\pytorch\\\\DLLs', 'c:\\\\Users\\\\oriol\\\\anaconda3\\\\envs\\\\pytorch\\\\Lib', 'c:\\\\Users\\\\oriol\\\\anaconda3\\\\envs\\\\pytorch', '', 'c:\\\\Users\\\\oriol\\\\anaconda3\\\\envs\\\\pytorch\\\\Lib\\\\site-packages', 'c:\\\\Users\\\\oriol\\\\anaconda3\\\\envs\\\\pytorch\\\\Lib\\\\site-packages\\\\win32', 'c:\\\\Users\\\\oriol\\\\anaconda3\\\\envs\\\\pytorch\\\\Lib\\\\site-packages\\\\win32\\\\lib', 'c:\\\\Users\\\\oriol\\\\anaconda3\\\\envs\\\\pytorch\\\\Lib\\\\site-packages\\\\Pythonwin']\n"
     ]
    }
   ],
   "source": [
    "import sys\n",
    "import os\n",
    "from pathlib import Path\n",
    "\n",
    "modulepath = Path.cwd().parent / \"utils\"\n",
    "modulepath = str(modulepath)\n",
    "projectpath = Path.cwd().parent\n",
    "projectpath = str(projectpath)\n",
    "if modulepath not in sys.path:\n",
    "    sys.path.insert(0,str(modulepath))\n",
    "if projectpath not in sys.path:\n",
    "    sys.path.insert(0,str(projectpath))  \n",
    "print(sys.path)"
   ]
  },
  {
   "cell_type": "markdown",
   "id": "44888dd4",
   "metadata": {},
   "source": [
    "# TRAIN"
   ]
  },
  {
   "cell_type": "code",
   "execution_count": 2,
   "id": "433b2f8d",
   "metadata": {},
   "outputs": [
    {
     "name": "stdout",
     "output_type": "stream",
     "text": [
      "[INFO] Created SummaryWriter, saving to: c:\\Users\\oriol\\GitHub_Repos\\CNN-classification\\experiment_logs\\runs\\Big_sweep\\TinyVGG_1\\Hidden_Channels_20_Epochs_3_lr_0.1_Iter_2_Size_0.05...\n",
      "Iteration 1\n"
     ]
    },
    {
     "data": {
      "application/vnd.jupyter.widget-view+json": {
       "model_id": "9e393fb182bd45e1a8966136fb03e8a6",
       "version_major": 2,
       "version_minor": 0
      },
      "text/plain": [
       "  0%|          | 0/3 [00:00<?, ?it/s]"
      ]
     },
     "metadata": {},
     "output_type": "display_data"
    },
    {
     "name": "stdout",
     "output_type": "stream",
     "text": [
      "Iteration 2\n"
     ]
    },
    {
     "data": {
      "application/vnd.jupyter.widget-view+json": {
       "model_id": "68f4ae8a758b430eb00bbccf6b9efefb",
       "version_major": 2,
       "version_minor": 0
      },
      "text/plain": [
       "  0%|          | 0/3 [00:00<?, ?it/s]"
      ]
     },
     "metadata": {},
     "output_type": "display_data"
    },
    {
     "name": "stdout",
     "output_type": "stream",
     "text": [
      "[INFO] Created experiment metadata, saving to: c:\\Users\\oriol\\GitHub_Repos\\CNN-classification\\experiment_logs\\results\\Big_sweep\\TinyVGG_1\\Hidden_Channels_20_Epochs_3_lr_0.1_Iter_2_Size_0.05...\n",
      "[INFO] Saving the above results to: c:\\Users\\oriol\\GitHub_Repos\\CNN-classification\\experiment_logs\\results\\Big_sweep\\TinyVGG_1\\Hidden_Channels_20_Epochs_3_lr_0.1_Iter_2_Size_0.05\\Results.feather\n",
      "[INFO] Created SummaryWriter, saving to: c:\\Users\\oriol\\GitHub_Repos\\CNN-classification\\experiment_logs\\runs\\Big_sweep\\TinyVGG_1\\Hidden_Channels_20_Epochs_3_lr_0.01_Iter_2_Size_0.05...\n",
      "Iteration 1\n"
     ]
    },
    {
     "data": {
      "application/vnd.jupyter.widget-view+json": {
       "model_id": "962e919507bf4ea293ae53823d04cc67",
       "version_major": 2,
       "version_minor": 0
      },
      "text/plain": [
       "  0%|          | 0/3 [00:00<?, ?it/s]"
      ]
     },
     "metadata": {},
     "output_type": "display_data"
    },
    {
     "name": "stdout",
     "output_type": "stream",
     "text": [
      "Iteration 2\n"
     ]
    },
    {
     "data": {
      "application/vnd.jupyter.widget-view+json": {
       "model_id": "f4b1f31c558a41c3b136f7a8fad05308",
       "version_major": 2,
       "version_minor": 0
      },
      "text/plain": [
       "  0%|          | 0/3 [00:00<?, ?it/s]"
      ]
     },
     "metadata": {},
     "output_type": "display_data"
    },
    {
     "name": "stdout",
     "output_type": "stream",
     "text": [
      "[INFO] Created experiment metadata, saving to: c:\\Users\\oriol\\GitHub_Repos\\CNN-classification\\experiment_logs\\results\\Big_sweep\\TinyVGG_1\\Hidden_Channels_20_Epochs_3_lr_0.01_Iter_2_Size_0.05...\n",
      "[INFO] Saving the above results to: c:\\Users\\oriol\\GitHub_Repos\\CNN-classification\\experiment_logs\\results\\Big_sweep\\TinyVGG_1\\Hidden_Channels_20_Epochs_3_lr_0.01_Iter_2_Size_0.05\\Results.feather\n",
      "[INFO] Created SummaryWriter, saving to: c:\\Users\\oriol\\GitHub_Repos\\CNN-classification\\experiment_logs\\runs\\Big_sweep\\TinyVGG_1\\Hidden_Channels_20_Epochs_3_lr_0.001_Iter_2_Size_0.05...\n",
      "Iteration 1\n"
     ]
    },
    {
     "data": {
      "application/vnd.jupyter.widget-view+json": {
       "model_id": "daceb5704280444d90dc5695e24ecaa6",
       "version_major": 2,
       "version_minor": 0
      },
      "text/plain": [
       "  0%|          | 0/3 [00:00<?, ?it/s]"
      ]
     },
     "metadata": {},
     "output_type": "display_data"
    },
    {
     "name": "stdout",
     "output_type": "stream",
     "text": [
      "Iteration 2\n"
     ]
    },
    {
     "data": {
      "application/vnd.jupyter.widget-view+json": {
       "model_id": "cbad93d3c26c4768b4312fb8907c16cc",
       "version_major": 2,
       "version_minor": 0
      },
      "text/plain": [
       "  0%|          | 0/3 [00:00<?, ?it/s]"
      ]
     },
     "metadata": {},
     "output_type": "display_data"
    },
    {
     "name": "stdout",
     "output_type": "stream",
     "text": [
      "[INFO] Created experiment metadata, saving to: c:\\Users\\oriol\\GitHub_Repos\\CNN-classification\\experiment_logs\\results\\Big_sweep\\TinyVGG_1\\Hidden_Channels_20_Epochs_3_lr_0.001_Iter_2_Size_0.05...\n",
      "[INFO] Saving the above results to: c:\\Users\\oriol\\GitHub_Repos\\CNN-classification\\experiment_logs\\results\\Big_sweep\\TinyVGG_1\\Hidden_Channels_20_Epochs_3_lr_0.001_Iter_2_Size_0.05\\Results.feather\n",
      "[INFO] Created SummaryWriter, saving to: c:\\Users\\oriol\\GitHub_Repos\\CNN-classification\\experiment_logs\\runs\\Big_sweep\\TinyVGG_1\\Hidden_Channels_20_Epochs_4_lr_0.1_Iter_2_Size_0.05...\n",
      "Iteration 1\n"
     ]
    },
    {
     "data": {
      "application/vnd.jupyter.widget-view+json": {
       "model_id": "898b1cef8b9f4730bcc119da90760936",
       "version_major": 2,
       "version_minor": 0
      },
      "text/plain": [
       "  0%|          | 0/4 [00:00<?, ?it/s]"
      ]
     },
     "metadata": {},
     "output_type": "display_data"
    },
    {
     "name": "stdout",
     "output_type": "stream",
     "text": [
      "Iteration 2\n"
     ]
    },
    {
     "data": {
      "application/vnd.jupyter.widget-view+json": {
       "model_id": "819c27fef5cb4359ac63b8f0c7a007f2",
       "version_major": 2,
       "version_minor": 0
      },
      "text/plain": [
       "  0%|          | 0/4 [00:00<?, ?it/s]"
      ]
     },
     "metadata": {},
     "output_type": "display_data"
    },
    {
     "name": "stdout",
     "output_type": "stream",
     "text": [
      "[INFO] Created experiment metadata, saving to: c:\\Users\\oriol\\GitHub_Repos\\CNN-classification\\experiment_logs\\results\\Big_sweep\\TinyVGG_1\\Hidden_Channels_20_Epochs_4_lr_0.1_Iter_2_Size_0.05...\n",
      "[INFO] Saving the above results to: c:\\Users\\oriol\\GitHub_Repos\\CNN-classification\\experiment_logs\\results\\Big_sweep\\TinyVGG_1\\Hidden_Channels_20_Epochs_4_lr_0.1_Iter_2_Size_0.05\\Results.feather\n",
      "[INFO] Created SummaryWriter, saving to: c:\\Users\\oriol\\GitHub_Repos\\CNN-classification\\experiment_logs\\runs\\Big_sweep\\TinyVGG_1\\Hidden_Channels_20_Epochs_4_lr_0.01_Iter_2_Size_0.05...\n",
      "Iteration 1\n"
     ]
    },
    {
     "data": {
      "application/vnd.jupyter.widget-view+json": {
       "model_id": "254be1ca32e348f097f21707df7acd47",
       "version_major": 2,
       "version_minor": 0
      },
      "text/plain": [
       "  0%|          | 0/4 [00:00<?, ?it/s]"
      ]
     },
     "metadata": {},
     "output_type": "display_data"
    },
    {
     "name": "stdout",
     "output_type": "stream",
     "text": [
      "Iteration 2\n"
     ]
    },
    {
     "data": {
      "application/vnd.jupyter.widget-view+json": {
       "model_id": "75e7badcf2df4a528768c0efe6e27260",
       "version_major": 2,
       "version_minor": 0
      },
      "text/plain": [
       "  0%|          | 0/4 [00:00<?, ?it/s]"
      ]
     },
     "metadata": {},
     "output_type": "display_data"
    },
    {
     "name": "stdout",
     "output_type": "stream",
     "text": [
      "[INFO] Created experiment metadata, saving to: c:\\Users\\oriol\\GitHub_Repos\\CNN-classification\\experiment_logs\\results\\Big_sweep\\TinyVGG_1\\Hidden_Channels_20_Epochs_4_lr_0.01_Iter_2_Size_0.05...\n",
      "[INFO] Saving the above results to: c:\\Users\\oriol\\GitHub_Repos\\CNN-classification\\experiment_logs\\results\\Big_sweep\\TinyVGG_1\\Hidden_Channels_20_Epochs_4_lr_0.01_Iter_2_Size_0.05\\Results.feather\n",
      "[INFO] Created SummaryWriter, saving to: c:\\Users\\oriol\\GitHub_Repos\\CNN-classification\\experiment_logs\\runs\\Big_sweep\\TinyVGG_1\\Hidden_Channels_20_Epochs_4_lr_0.001_Iter_2_Size_0.05...\n",
      "Iteration 1\n"
     ]
    },
    {
     "data": {
      "application/vnd.jupyter.widget-view+json": {
       "model_id": "d95eeadae6aa4180947a0fbf132a5dd7",
       "version_major": 2,
       "version_minor": 0
      },
      "text/plain": [
       "  0%|          | 0/4 [00:00<?, ?it/s]"
      ]
     },
     "metadata": {},
     "output_type": "display_data"
    },
    {
     "name": "stdout",
     "output_type": "stream",
     "text": [
      "Iteration 2\n"
     ]
    },
    {
     "data": {
      "application/vnd.jupyter.widget-view+json": {
       "model_id": "45a2e11f1240420b94a3708a0d7863c8",
       "version_major": 2,
       "version_minor": 0
      },
      "text/plain": [
       "  0%|          | 0/4 [00:00<?, ?it/s]"
      ]
     },
     "metadata": {},
     "output_type": "display_data"
    },
    {
     "name": "stdout",
     "output_type": "stream",
     "text": [
      "[INFO] Created experiment metadata, saving to: c:\\Users\\oriol\\GitHub_Repos\\CNN-classification\\experiment_logs\\results\\Big_sweep\\TinyVGG_1\\Hidden_Channels_20_Epochs_4_lr_0.001_Iter_2_Size_0.05...\n",
      "[INFO] Saving the above results to: c:\\Users\\oriol\\GitHub_Repos\\CNN-classification\\experiment_logs\\results\\Big_sweep\\TinyVGG_1\\Hidden_Channels_20_Epochs_4_lr_0.001_Iter_2_Size_0.05\\Results.feather\n",
      "[INFO] Created SummaryWriter, saving to: c:\\Users\\oriol\\GitHub_Repos\\CNN-classification\\experiment_logs\\runs\\Big_sweep\\TinyVGG_1\\Hidden_Channels_30_Epochs_3_lr_0.1_Iter_2_Size_0.05...\n",
      "Iteration 1\n"
     ]
    },
    {
     "data": {
      "application/vnd.jupyter.widget-view+json": {
       "model_id": "469583d8403844c1b8840ca716d8142b",
       "version_major": 2,
       "version_minor": 0
      },
      "text/plain": [
       "  0%|          | 0/3 [00:00<?, ?it/s]"
      ]
     },
     "metadata": {},
     "output_type": "display_data"
    },
    {
     "name": "stdout",
     "output_type": "stream",
     "text": [
      "Iteration 2\n"
     ]
    },
    {
     "data": {
      "application/vnd.jupyter.widget-view+json": {
       "model_id": "99440f6ac45c4a0ab6dd73e4fd47eb2e",
       "version_major": 2,
       "version_minor": 0
      },
      "text/plain": [
       "  0%|          | 0/3 [00:00<?, ?it/s]"
      ]
     },
     "metadata": {},
     "output_type": "display_data"
    },
    {
     "name": "stdout",
     "output_type": "stream",
     "text": [
      "[INFO] Created experiment metadata, saving to: c:\\Users\\oriol\\GitHub_Repos\\CNN-classification\\experiment_logs\\results\\Big_sweep\\TinyVGG_1\\Hidden_Channels_30_Epochs_3_lr_0.1_Iter_2_Size_0.05...\n",
      "[INFO] Saving the above results to: c:\\Users\\oriol\\GitHub_Repos\\CNN-classification\\experiment_logs\\results\\Big_sweep\\TinyVGG_1\\Hidden_Channels_30_Epochs_3_lr_0.1_Iter_2_Size_0.05\\Results.feather\n",
      "[INFO] Created SummaryWriter, saving to: c:\\Users\\oriol\\GitHub_Repos\\CNN-classification\\experiment_logs\\runs\\Big_sweep\\TinyVGG_1\\Hidden_Channels_30_Epochs_3_lr_0.01_Iter_2_Size_0.05...\n",
      "Iteration 1\n"
     ]
    },
    {
     "data": {
      "application/vnd.jupyter.widget-view+json": {
       "model_id": "86e942b331e0466b83339fd2b358d515",
       "version_major": 2,
       "version_minor": 0
      },
      "text/plain": [
       "  0%|          | 0/3 [00:00<?, ?it/s]"
      ]
     },
     "metadata": {},
     "output_type": "display_data"
    },
    {
     "name": "stdout",
     "output_type": "stream",
     "text": [
      "Iteration 2\n"
     ]
    },
    {
     "data": {
      "application/vnd.jupyter.widget-view+json": {
       "model_id": "d6760e1150804e67aef256514c3d76db",
       "version_major": 2,
       "version_minor": 0
      },
      "text/plain": [
       "  0%|          | 0/3 [00:00<?, ?it/s]"
      ]
     },
     "metadata": {},
     "output_type": "display_data"
    },
    {
     "name": "stdout",
     "output_type": "stream",
     "text": [
      "[INFO] Created experiment metadata, saving to: c:\\Users\\oriol\\GitHub_Repos\\CNN-classification\\experiment_logs\\results\\Big_sweep\\TinyVGG_1\\Hidden_Channels_30_Epochs_3_lr_0.01_Iter_2_Size_0.05...\n",
      "[INFO] Saving the above results to: c:\\Users\\oriol\\GitHub_Repos\\CNN-classification\\experiment_logs\\results\\Big_sweep\\TinyVGG_1\\Hidden_Channels_30_Epochs_3_lr_0.01_Iter_2_Size_0.05\\Results.feather\n",
      "[INFO] Created SummaryWriter, saving to: c:\\Users\\oriol\\GitHub_Repos\\CNN-classification\\experiment_logs\\runs\\Big_sweep\\TinyVGG_1\\Hidden_Channels_30_Epochs_3_lr_0.001_Iter_2_Size_0.05...\n",
      "Iteration 1\n"
     ]
    },
    {
     "data": {
      "application/vnd.jupyter.widget-view+json": {
       "model_id": "78a329ad7aa1454ebb844c3200289877",
       "version_major": 2,
       "version_minor": 0
      },
      "text/plain": [
       "  0%|          | 0/3 [00:00<?, ?it/s]"
      ]
     },
     "metadata": {},
     "output_type": "display_data"
    },
    {
     "name": "stdout",
     "output_type": "stream",
     "text": [
      "Iteration 2\n"
     ]
    },
    {
     "data": {
      "application/vnd.jupyter.widget-view+json": {
       "model_id": "69c84e4aa9ca4c488920321f0a29f2ca",
       "version_major": 2,
       "version_minor": 0
      },
      "text/plain": [
       "  0%|          | 0/3 [00:00<?, ?it/s]"
      ]
     },
     "metadata": {},
     "output_type": "display_data"
    },
    {
     "name": "stdout",
     "output_type": "stream",
     "text": [
      "[INFO] Created experiment metadata, saving to: c:\\Users\\oriol\\GitHub_Repos\\CNN-classification\\experiment_logs\\results\\Big_sweep\\TinyVGG_1\\Hidden_Channels_30_Epochs_3_lr_0.001_Iter_2_Size_0.05...\n",
      "[INFO] Saving the above results to: c:\\Users\\oriol\\GitHub_Repos\\CNN-classification\\experiment_logs\\results\\Big_sweep\\TinyVGG_1\\Hidden_Channels_30_Epochs_3_lr_0.001_Iter_2_Size_0.05\\Results.feather\n",
      "[INFO] Created SummaryWriter, saving to: c:\\Users\\oriol\\GitHub_Repos\\CNN-classification\\experiment_logs\\runs\\Big_sweep\\TinyVGG_1\\Hidden_Channels_30_Epochs_4_lr_0.1_Iter_2_Size_0.05...\n",
      "Iteration 1\n"
     ]
    },
    {
     "data": {
      "application/vnd.jupyter.widget-view+json": {
       "model_id": "4f4c65fafd394fe69e125771aec4745e",
       "version_major": 2,
       "version_minor": 0
      },
      "text/plain": [
       "  0%|          | 0/4 [00:00<?, ?it/s]"
      ]
     },
     "metadata": {},
     "output_type": "display_data"
    },
    {
     "name": "stdout",
     "output_type": "stream",
     "text": [
      "Iteration 2\n"
     ]
    },
    {
     "data": {
      "application/vnd.jupyter.widget-view+json": {
       "model_id": "e33294ad98a940b9a42753ecfd05b243",
       "version_major": 2,
       "version_minor": 0
      },
      "text/plain": [
       "  0%|          | 0/4 [00:00<?, ?it/s]"
      ]
     },
     "metadata": {},
     "output_type": "display_data"
    },
    {
     "name": "stdout",
     "output_type": "stream",
     "text": [
      "[INFO] Created experiment metadata, saving to: c:\\Users\\oriol\\GitHub_Repos\\CNN-classification\\experiment_logs\\results\\Big_sweep\\TinyVGG_1\\Hidden_Channels_30_Epochs_4_lr_0.1_Iter_2_Size_0.05...\n",
      "[INFO] Saving the above results to: c:\\Users\\oriol\\GitHub_Repos\\CNN-classification\\experiment_logs\\results\\Big_sweep\\TinyVGG_1\\Hidden_Channels_30_Epochs_4_lr_0.1_Iter_2_Size_0.05\\Results.feather\n",
      "[INFO] Created SummaryWriter, saving to: c:\\Users\\oriol\\GitHub_Repos\\CNN-classification\\experiment_logs\\runs\\Big_sweep\\TinyVGG_1\\Hidden_Channels_30_Epochs_4_lr_0.01_Iter_2_Size_0.05...\n",
      "Iteration 1\n"
     ]
    },
    {
     "data": {
      "application/vnd.jupyter.widget-view+json": {
       "model_id": "db8aa09f329f4803af1303b9a9a842e4",
       "version_major": 2,
       "version_minor": 0
      },
      "text/plain": [
       "  0%|          | 0/4 [00:00<?, ?it/s]"
      ]
     },
     "metadata": {},
     "output_type": "display_data"
    },
    {
     "name": "stdout",
     "output_type": "stream",
     "text": [
      "Iteration 2\n"
     ]
    },
    {
     "data": {
      "application/vnd.jupyter.widget-view+json": {
       "model_id": "39c2a9972e84459ba1a86f49ceef7348",
       "version_major": 2,
       "version_minor": 0
      },
      "text/plain": [
       "  0%|          | 0/4 [00:00<?, ?it/s]"
      ]
     },
     "metadata": {},
     "output_type": "display_data"
    },
    {
     "name": "stdout",
     "output_type": "stream",
     "text": [
      "[INFO] Created experiment metadata, saving to: c:\\Users\\oriol\\GitHub_Repos\\CNN-classification\\experiment_logs\\results\\Big_sweep\\TinyVGG_1\\Hidden_Channels_30_Epochs_4_lr_0.01_Iter_2_Size_0.05...\n",
      "[INFO] Saving the above results to: c:\\Users\\oriol\\GitHub_Repos\\CNN-classification\\experiment_logs\\results\\Big_sweep\\TinyVGG_1\\Hidden_Channels_30_Epochs_4_lr_0.01_Iter_2_Size_0.05\\Results.feather\n",
      "[INFO] Created SummaryWriter, saving to: c:\\Users\\oriol\\GitHub_Repos\\CNN-classification\\experiment_logs\\runs\\Big_sweep\\TinyVGG_1\\Hidden_Channels_30_Epochs_4_lr_0.001_Iter_2_Size_0.05...\n",
      "Iteration 1\n"
     ]
    },
    {
     "data": {
      "application/vnd.jupyter.widget-view+json": {
       "model_id": "7417f84121ea4a37a152694c1bd98685",
       "version_major": 2,
       "version_minor": 0
      },
      "text/plain": [
       "  0%|          | 0/4 [00:00<?, ?it/s]"
      ]
     },
     "metadata": {},
     "output_type": "display_data"
    },
    {
     "name": "stdout",
     "output_type": "stream",
     "text": [
      "Iteration 2\n"
     ]
    },
    {
     "data": {
      "application/vnd.jupyter.widget-view+json": {
       "model_id": "665f6a6cf3af4102a7eebe40c611167d",
       "version_major": 2,
       "version_minor": 0
      },
      "text/plain": [
       "  0%|          | 0/4 [00:00<?, ?it/s]"
      ]
     },
     "metadata": {},
     "output_type": "display_data"
    },
    {
     "name": "stdout",
     "output_type": "stream",
     "text": [
      "[INFO] Created experiment metadata, saving to: c:\\Users\\oriol\\GitHub_Repos\\CNN-classification\\experiment_logs\\results\\Big_sweep\\TinyVGG_1\\Hidden_Channels_30_Epochs_4_lr_0.001_Iter_2_Size_0.05...\n",
      "[INFO] Saving the above results to: c:\\Users\\oriol\\GitHub_Repos\\CNN-classification\\experiment_logs\\results\\Big_sweep\\TinyVGG_1\\Hidden_Channels_30_Epochs_4_lr_0.001_Iter_2_Size_0.05\\Results.feather\n",
      "[INFO] Created SummaryWriter, saving to: c:\\Users\\oriol\\GitHub_Repos\\CNN-classification\\experiment_logs\\runs\\Big_sweep\\TinyVGG_1\\Hidden_Channels_40_Epochs_3_lr_0.1_Iter_2_Size_0.05...\n",
      "Iteration 1\n"
     ]
    },
    {
     "data": {
      "application/vnd.jupyter.widget-view+json": {
       "model_id": "0583c3b3bc8e4e92857d6dd1b540a061",
       "version_major": 2,
       "version_minor": 0
      },
      "text/plain": [
       "  0%|          | 0/3 [00:00<?, ?it/s]"
      ]
     },
     "metadata": {},
     "output_type": "display_data"
    },
    {
     "name": "stdout",
     "output_type": "stream",
     "text": [
      "Iteration 2\n"
     ]
    },
    {
     "data": {
      "application/vnd.jupyter.widget-view+json": {
       "model_id": "634ccdb1ff3246f08c79b3204353db43",
       "version_major": 2,
       "version_minor": 0
      },
      "text/plain": [
       "  0%|          | 0/3 [00:00<?, ?it/s]"
      ]
     },
     "metadata": {},
     "output_type": "display_data"
    },
    {
     "name": "stdout",
     "output_type": "stream",
     "text": [
      "[INFO] Created experiment metadata, saving to: c:\\Users\\oriol\\GitHub_Repos\\CNN-classification\\experiment_logs\\results\\Big_sweep\\TinyVGG_1\\Hidden_Channels_40_Epochs_3_lr_0.1_Iter_2_Size_0.05...\n",
      "[INFO] Saving the above results to: c:\\Users\\oriol\\GitHub_Repos\\CNN-classification\\experiment_logs\\results\\Big_sweep\\TinyVGG_1\\Hidden_Channels_40_Epochs_3_lr_0.1_Iter_2_Size_0.05\\Results.feather\n",
      "[INFO] Created SummaryWriter, saving to: c:\\Users\\oriol\\GitHub_Repos\\CNN-classification\\experiment_logs\\runs\\Big_sweep\\TinyVGG_1\\Hidden_Channels_40_Epochs_3_lr_0.01_Iter_2_Size_0.05...\n",
      "Iteration 1\n"
     ]
    },
    {
     "data": {
      "application/vnd.jupyter.widget-view+json": {
       "model_id": "7102a44f29b542b69fef782861b3b31a",
       "version_major": 2,
       "version_minor": 0
      },
      "text/plain": [
       "  0%|          | 0/3 [00:00<?, ?it/s]"
      ]
     },
     "metadata": {},
     "output_type": "display_data"
    },
    {
     "name": "stdout",
     "output_type": "stream",
     "text": [
      "Iteration 2\n"
     ]
    },
    {
     "data": {
      "application/vnd.jupyter.widget-view+json": {
       "model_id": "1e5dea4703ab477ab0123e8540a6274e",
       "version_major": 2,
       "version_minor": 0
      },
      "text/plain": [
       "  0%|          | 0/3 [00:00<?, ?it/s]"
      ]
     },
     "metadata": {},
     "output_type": "display_data"
    },
    {
     "name": "stdout",
     "output_type": "stream",
     "text": [
      "[INFO] Created experiment metadata, saving to: c:\\Users\\oriol\\GitHub_Repos\\CNN-classification\\experiment_logs\\results\\Big_sweep\\TinyVGG_1\\Hidden_Channels_40_Epochs_3_lr_0.01_Iter_2_Size_0.05...\n",
      "[INFO] Saving the above results to: c:\\Users\\oriol\\GitHub_Repos\\CNN-classification\\experiment_logs\\results\\Big_sweep\\TinyVGG_1\\Hidden_Channels_40_Epochs_3_lr_0.01_Iter_2_Size_0.05\\Results.feather\n",
      "[INFO] Created SummaryWriter, saving to: c:\\Users\\oriol\\GitHub_Repos\\CNN-classification\\experiment_logs\\runs\\Big_sweep\\TinyVGG_1\\Hidden_Channels_40_Epochs_3_lr_0.001_Iter_2_Size_0.05...\n",
      "Iteration 1\n"
     ]
    },
    {
     "data": {
      "application/vnd.jupyter.widget-view+json": {
       "model_id": "ebfa5f574f734886809389d12bcb2e77",
       "version_major": 2,
       "version_minor": 0
      },
      "text/plain": [
       "  0%|          | 0/3 [00:00<?, ?it/s]"
      ]
     },
     "metadata": {},
     "output_type": "display_data"
    },
    {
     "name": "stdout",
     "output_type": "stream",
     "text": [
      "Iteration 2\n"
     ]
    },
    {
     "data": {
      "application/vnd.jupyter.widget-view+json": {
       "model_id": "523a8b4273b7426cb435cd7f94f70cc3",
       "version_major": 2,
       "version_minor": 0
      },
      "text/plain": [
       "  0%|          | 0/3 [00:00<?, ?it/s]"
      ]
     },
     "metadata": {},
     "output_type": "display_data"
    },
    {
     "name": "stdout",
     "output_type": "stream",
     "text": [
      "[INFO] Created experiment metadata, saving to: c:\\Users\\oriol\\GitHub_Repos\\CNN-classification\\experiment_logs\\results\\Big_sweep\\TinyVGG_1\\Hidden_Channels_40_Epochs_3_lr_0.001_Iter_2_Size_0.05...\n",
      "[INFO] Saving the above results to: c:\\Users\\oriol\\GitHub_Repos\\CNN-classification\\experiment_logs\\results\\Big_sweep\\TinyVGG_1\\Hidden_Channels_40_Epochs_3_lr_0.001_Iter_2_Size_0.05\\Results.feather\n",
      "[INFO] Created SummaryWriter, saving to: c:\\Users\\oriol\\GitHub_Repos\\CNN-classification\\experiment_logs\\runs\\Big_sweep\\TinyVGG_1\\Hidden_Channels_40_Epochs_4_lr_0.1_Iter_2_Size_0.05...\n",
      "Iteration 1\n"
     ]
    },
    {
     "data": {
      "application/vnd.jupyter.widget-view+json": {
       "model_id": "f657459c4d9841dfbc1c98c3fe3a4b00",
       "version_major": 2,
       "version_minor": 0
      },
      "text/plain": [
       "  0%|          | 0/4 [00:00<?, ?it/s]"
      ]
     },
     "metadata": {},
     "output_type": "display_data"
    },
    {
     "name": "stdout",
     "output_type": "stream",
     "text": [
      "Iteration 2\n"
     ]
    },
    {
     "data": {
      "application/vnd.jupyter.widget-view+json": {
       "model_id": "0e69a78912a7458f9c94a352edea587e",
       "version_major": 2,
       "version_minor": 0
      },
      "text/plain": [
       "  0%|          | 0/4 [00:00<?, ?it/s]"
      ]
     },
     "metadata": {},
     "output_type": "display_data"
    },
    {
     "name": "stdout",
     "output_type": "stream",
     "text": [
      "[INFO] Created experiment metadata, saving to: c:\\Users\\oriol\\GitHub_Repos\\CNN-classification\\experiment_logs\\results\\Big_sweep\\TinyVGG_1\\Hidden_Channels_40_Epochs_4_lr_0.1_Iter_2_Size_0.05...\n",
      "[INFO] Saving the above results to: c:\\Users\\oriol\\GitHub_Repos\\CNN-classification\\experiment_logs\\results\\Big_sweep\\TinyVGG_1\\Hidden_Channels_40_Epochs_4_lr_0.1_Iter_2_Size_0.05\\Results.feather\n",
      "[INFO] Created SummaryWriter, saving to: c:\\Users\\oriol\\GitHub_Repos\\CNN-classification\\experiment_logs\\runs\\Big_sweep\\TinyVGG_1\\Hidden_Channels_40_Epochs_4_lr_0.01_Iter_2_Size_0.05...\n",
      "Iteration 1\n"
     ]
    },
    {
     "data": {
      "application/vnd.jupyter.widget-view+json": {
       "model_id": "86520a1ea8bf41d988252ae44ea1469f",
       "version_major": 2,
       "version_minor": 0
      },
      "text/plain": [
       "  0%|          | 0/4 [00:00<?, ?it/s]"
      ]
     },
     "metadata": {},
     "output_type": "display_data"
    },
    {
     "name": "stdout",
     "output_type": "stream",
     "text": [
      "Iteration 2\n"
     ]
    },
    {
     "data": {
      "application/vnd.jupyter.widget-view+json": {
       "model_id": "e17fb46411c644e29af64adec602c2c9",
       "version_major": 2,
       "version_minor": 0
      },
      "text/plain": [
       "  0%|          | 0/4 [00:00<?, ?it/s]"
      ]
     },
     "metadata": {},
     "output_type": "display_data"
    },
    {
     "name": "stdout",
     "output_type": "stream",
     "text": [
      "[INFO] Created experiment metadata, saving to: c:\\Users\\oriol\\GitHub_Repos\\CNN-classification\\experiment_logs\\results\\Big_sweep\\TinyVGG_1\\Hidden_Channels_40_Epochs_4_lr_0.01_Iter_2_Size_0.05...\n",
      "[INFO] Saving the above results to: c:\\Users\\oriol\\GitHub_Repos\\CNN-classification\\experiment_logs\\results\\Big_sweep\\TinyVGG_1\\Hidden_Channels_40_Epochs_4_lr_0.01_Iter_2_Size_0.05\\Results.feather\n",
      "[INFO] Created SummaryWriter, saving to: c:\\Users\\oriol\\GitHub_Repos\\CNN-classification\\experiment_logs\\runs\\Big_sweep\\TinyVGG_1\\Hidden_Channels_40_Epochs_4_lr_0.001_Iter_2_Size_0.05...\n",
      "Iteration 1\n"
     ]
    },
    {
     "data": {
      "application/vnd.jupyter.widget-view+json": {
       "model_id": "473bb44dad6444b5b9ef78c4ab5a0ea0",
       "version_major": 2,
       "version_minor": 0
      },
      "text/plain": [
       "  0%|          | 0/4 [00:00<?, ?it/s]"
      ]
     },
     "metadata": {},
     "output_type": "display_data"
    },
    {
     "name": "stdout",
     "output_type": "stream",
     "text": [
      "Iteration 2\n"
     ]
    },
    {
     "data": {
      "application/vnd.jupyter.widget-view+json": {
       "model_id": "fe13d986ec844ceb9571d38c734f3b25",
       "version_major": 2,
       "version_minor": 0
      },
      "text/plain": [
       "  0%|          | 0/4 [00:00<?, ?it/s]"
      ]
     },
     "metadata": {},
     "output_type": "display_data"
    },
    {
     "name": "stdout",
     "output_type": "stream",
     "text": [
      "[INFO] Created experiment metadata, saving to: c:\\Users\\oriol\\GitHub_Repos\\CNN-classification\\experiment_logs\\results\\Big_sweep\\TinyVGG_1\\Hidden_Channels_40_Epochs_4_lr_0.001_Iter_2_Size_0.05...\n",
      "[INFO] Saving the above results to: c:\\Users\\oriol\\GitHub_Repos\\CNN-classification\\experiment_logs\\results\\Big_sweep\\TinyVGG_1\\Hidden_Channels_40_Epochs_4_lr_0.001_Iter_2_Size_0.05\\Results.feather\n"
     ]
    }
   ],
   "source": [
    "import torch\n",
    "from torch import nn\n",
    "\n",
    "from utils.engine import train\n",
    "from utils.model_architectures import TinyVGG_1\n",
    "from utils.data_loaders import create_train_test_dataloaders\n",
    "from utils.helpers import create_writer\n",
    "from utils.helpers import create_dataframe\n",
    "from utils.helpers import hyperparameter_combinations\n",
    "from utils.helpers import save_dataframe\n",
    "from utils.helpers import create_and_save_experiment_metadata\n",
    "\n",
    "device = \"cuda\" if torch.cuda.is_available() else \"cpu\"\n",
    "#SEED = 0\n",
    "#torch.manual_seed(SEED)\n",
    "# There are other sources of randomness, so manual_seed does not enable \n",
    "# reproducibility\n",
    "\n",
    "#next(model.parameters()).is_cuda #check if model on cuda\n",
    "#from torchinfo import summary\n",
    "#summary(tvgg,input_size=[32,1,28,28])\n",
    "\n",
    "# A Hyperparameter named Iter controls the number of iterations for a given\n",
    "# set of hyperparameters\n",
    "HYPERPARAMETERS = {'Hidden_Channels': [20,30,40],\n",
    "                   'Epochs': [3,4],\n",
    "                   'lr': [0.1,0.01,0.001],\n",
    "                   'Iter': [2],\n",
    "                   'Size': [0.05],\n",
    "                   }\n",
    "\n",
    "experiment_name = \"Big_sweep\"\n",
    "hp_combinations = hyperparameter_combinations(HYPERPARAMETERS)\n",
    "hp_keys = HYPERPARAMETERS.keys()\n",
    "\n",
    "for combination in hp_combinations:\n",
    "    HIDDEN_CHANNELS = combination[\"Hidden_Channels\"]\n",
    "    NUM_EPOCHS = combination[\"Epochs\"]\n",
    "    LR = combination[\"lr\"]\n",
    "        # HIDDEN_CHANNELS, NUM_EPOCHS, LR have to be specified, cannot be none\n",
    "    ITER = combination[\"Iter\"] if \"Iter\" in hp_keys else None \n",
    "        # ITER Defaults to 1 when None\n",
    "    SIZE = combination[\"Size\"] if \"Size\" in hp_keys else None \n",
    "        # SIZE Defaults to 1.0 when None\n",
    "\n",
    "    train_dataloader, test_dataloader = create_train_test_dataloaders(size=SIZE) #type: ignore\n",
    "\n",
    "    # create multiple models and optimizers, one pair for every iteration\n",
    "    model_0 = []\n",
    "    optimizer_0 = []\n",
    "    if ITER:\n",
    "        n_iters = ITER\n",
    "    else:\n",
    "        n_iters = 1\n",
    "    for n in range(n_iters):\n",
    "        mod = TinyVGG_1(input_shape=1,hidden_channels=HIDDEN_CHANNELS,output_shape=10).to(device)\n",
    "        model_0.append(mod)\n",
    "        optimizer_0.append(torch.optim.SGD(params=mod.parameters(),lr=LR))\n",
    "\n",
    "    loss_fn = nn.CrossEntropyLoss()\n",
    "\n",
    "    model_name = model_0[0]._get_name()\n",
    "    #model_name = \"Model_3\"\n",
    "\n",
    "    extra = \"\"\n",
    "    namelist = [str(key)+\"_\"+str(val)+\"_\" for key,val in combination.items()]\n",
    "    for elem in namelist:\n",
    "        extra += elem\n",
    "    extra = extra[:-1]\n",
    "\n",
    "    # Create a writer to save results to tensorboard\n",
    "    writer = create_writer(experiment_name=experiment_name,\n",
    "                           model_name=model_name,\n",
    "                           extra=extra)\n",
    "    # Train the model for a number of epochs and log the results to tensorboard\n",
    "    results = train(model=model_0,\n",
    "                    train_dataloader=train_dataloader,\n",
    "                    test_dataloader=test_dataloader,\n",
    "                    optimizer=optimizer_0,\n",
    "                    loss_fn=loss_fn,\n",
    "                    epochs=NUM_EPOCHS,\n",
    "                    iters=ITER,\n",
    "                    writer=writer)\n",
    "    # Store additional information on the experiment\n",
    "    create_and_save_experiment_metadata(experiment_name=experiment_name,\n",
    "                                        model_name=model_name,\n",
    "                                        extra=extra,\n",
    "                                        train_dataloader=train_dataloader,\n",
    "                                        test_dataloader=test_dataloader,\n",
    "                                        model=model_0[0],\n",
    "                                        optimizer=optimizer_0[0],\n",
    "                                        loss_fn=loss_fn,\n",
    "                                        epochs=NUM_EPOCHS,\n",
    "                                        hyperparameters_combination=combination\n",
    "                                        )\n",
    "    # Store the results of the accuracy and loss as a dataframe\n",
    "    df = create_dataframe(results=results,\n",
    "                          hyperparameters_combination=combination)\n",
    "    save_dataframe(df=df,\n",
    "                   model_name=model_name,\n",
    "                   experiment_name=experiment_name,\n",
    "                   extra=extra)\n"
   ]
  },
  {
   "cell_type": "markdown",
   "id": "e66fd541",
   "metadata": {},
   "source": [
    "# METADATA"
   ]
  },
  {
   "cell_type": "code",
   "execution_count": 3,
   "id": "509914f9",
   "metadata": {},
   "outputs": [],
   "source": [
    "def print_metadata(md):\n",
    "    for key,value in zip(md.keys(),md.values()):\n",
    "        print(f\"{key}: {value}\")"
   ]
  },
  {
   "cell_type": "code",
   "execution_count": null,
   "id": "7de7e0f7",
   "metadata": {},
   "outputs": [],
   "source": [
    "from utils.helpers import retrieve_metadata\n",
    "\n",
    "md_t3m = retrieve_metadata(experiment_name=\"Test_3_Models\",model_name=\"TinyVGG_1\",extra=\"Hidden_Channels_30_Epochs_3_lr_0.1_Iter_2_Size_0.11\")"
   ]
  },
  {
   "cell_type": "code",
   "execution_count": 9,
   "id": "b6dcd3a8",
   "metadata": {},
   "outputs": [
    {
     "name": "stdout",
     "output_type": "stream",
     "text": [
      "date: 16-09-2025 00:32\n",
      "experiment name: Test_3_models\n",
      "model name: TinyVGG_1\n",
      "learning rate: 0.1\n",
      "epochs: 3\n",
      "loss function: CrossEntropyLoss\n",
      "optimizer name: SGD\n",
      "dataset: FashionMNIST\n",
      "training dataset size: 6600\n",
      "testing dataset size: 1100\n",
      "batch size: 32\n",
      "Hyperparams: {'Hidden_Channels': 30, 'Epochs': 3, 'lr': 0.1, 'Iter': 2, 'Size': 0.11}\n",
      "optimizer params: {'lr': 0.1, 'momentum': 0, 'dampening': 0, 'weight_decay': 0, 'nesterov': False, 'maximize': False, 'foreach': None, 'differentiable': False, 'fused': None}\n",
      "model params: {'layer_1': Sequential(\n",
      "  (0): Conv2d(1, 30, kernel_size=(3, 3), stride=(1, 1))\n",
      "  (1): ReLU()\n",
      "  (2): Conv2d(30, 30, kernel_size=(3, 3), stride=(1, 1))\n",
      "  (3): ReLU()\n",
      "  (4): MaxPool2d(kernel_size=2, stride=2, padding=0, dilation=1, ceil_mode=False)\n",
      "), 'layer_2': Sequential(\n",
      "  (0): Conv2d(30, 30, kernel_size=(3, 3), stride=(1, 1))\n",
      "  (1): ReLU()\n",
      "  (2): Conv2d(30, 30, kernel_size=(3, 3), stride=(1, 1))\n",
      "  (3): ReLU()\n",
      "  (4): MaxPool2d(kernel_size=2, stride=2, padding=0, dilation=1, ceil_mode=False)\n",
      "), 'layer_3': Sequential(\n",
      "  (0): Flatten(start_dim=1, end_dim=-1)\n",
      "  (1): Linear(in_features=480, out_features=10, bias=True)\n",
      ")}\n"
     ]
    }
   ],
   "source": [
    "print_metadata(md_t3m)"
   ]
  },
  {
   "cell_type": "code",
   "execution_count": 123,
   "id": "e263c66a",
   "metadata": {},
   "outputs": [
    {
     "name": "stdout",
     "output_type": "stream",
     "text": [
      "[INFO] retrieving results from c:\\Users\\oriol\\GitHub_Repos\\CNN-classification\\experiment_logs\\results\n"
     ]
    }
   ],
   "source": [
    "from utils.helpers import retrieve_results\n",
    "from scipy.stats import pearsonr\n",
    "from sklearn.ensemble import RandomForestRegressor\n",
    "from sklearn.inspection import permutation_importance\n",
    "import pandas as pd\n",
    "\n",
    "results = retrieve_results(experiment_name=\"Big_sweep\")\n"
   ]
  },
  {
   "cell_type": "code",
   "execution_count": null,
   "id": "0e8d8b0a",
   "metadata": {},
   "outputs": [],
   "source": [
    "col_y = \"train_loss\"\n",
    "col_X = results.columns.to_list()[0:results.columns.to_list().index(\"train_loss\")] \n",
    "# train loss is to separate HP, has nothing to do with col_y, they just happen to be the same\n",
    "# col_y could be train_acc, test_loss...\n",
    "col_X.remove(\"Iter\")    # Iter has no importance since it generates statistically independent repetitions of a model\n",
    "#col_X.remove(\"Epochs\") # Keep epochs since it gives an idea of how relevant different total number of epochs are\n",
    "col_X.append(\"Epoch #\") # Adding Epoch # to see how it compares to Epochs\n",
    "col_X[:] = [col for col in col_X if len(results[col].unique())>1] #type:ignore\n",
    "# removes columns that only have one possible value since they cannot have an effect on importance or correlation \n"
   ]
  },
  {
   "cell_type": "code",
   "execution_count": 40,
   "id": "99d211ed",
   "metadata": {},
   "outputs": [],
   "source": [
    "X = results[col_X]      #type:ignore\n",
    "y = results[[col_y]]    #type:ignore\n"
   ]
  },
  {
   "cell_type": "code",
   "execution_count": 45,
   "id": "e4e84833",
   "metadata": {},
   "outputs": [],
   "source": [
    "r,p = pearsonr(X,y,axis=0)"
   ]
  },
  {
   "cell_type": "code",
   "execution_count": 49,
   "id": "bb6d3dd3",
   "metadata": {},
   "outputs": [
    {
     "name": "stdout",
     "output_type": "stream",
     "text": [
      "['Hidden_Channels', 'Epochs', 'lr', 'Epoch #']\n",
      "[-0.05293559 -0.07230701 -0.82156094 -0.32461589]\n",
      "[5.56068170e-01 4.21045311e-01 4.76380539e-32 2.08543109e-04]\n"
     ]
    }
   ],
   "source": [
    "print(f\"{col_X}\\n{r}\\n{p}\")"
   ]
  },
  {
   "cell_type": "code",
   "execution_count": 32,
   "id": "b5dbcb64",
   "metadata": {},
   "outputs": [
    {
     "data": {
      "text/plain": [
       "['Hidden_Channels', 'Epochs', 'lr', 'Size', 'Epoch #']"
      ]
     },
     "execution_count": 32,
     "metadata": {},
     "output_type": "execute_result"
    }
   ],
   "source": [
    "col_X"
   ]
  },
  {
   "cell_type": "code",
   "execution_count": null,
   "id": "b22dff21",
   "metadata": {},
   "outputs": [],
   "source": []
  }
 ],
 "metadata": {
  "kernelspec": {
   "display_name": "pytorch",
   "language": "python",
   "name": "python3"
  },
  "language_info": {
   "codemirror_mode": {
    "name": "ipython",
    "version": 3
   },
   "file_extension": ".py",
   "mimetype": "text/x-python",
   "name": "python",
   "nbconvert_exporter": "python",
   "pygments_lexer": "ipython3",
   "version": "3.12.3"
  }
 },
 "nbformat": 4,
 "nbformat_minor": 5
}
